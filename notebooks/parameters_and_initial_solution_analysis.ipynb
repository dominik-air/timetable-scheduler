{
 "cells": [
  {
   "cell_type": "code",
   "execution_count": 5,
   "metadata": {
    "collapsed": true
   },
   "outputs": [],
   "source": [
    "import json\n",
    "\n",
    "cooling_schedules = [\"exponential\", \"bolzmann\", \"cauchy\", \"linear\", \"quadratic\", \"logarithmic\"]\n",
    "\n",
    "\n",
    "cooling_schedule_data = {}\n",
    "for cooling_schedule in cooling_schedules:\n",
    "    with open(f'statistics/{cooling_schedule}_cooling_schedule_test.json', 'r') as file:\n",
    "        data = json.load(file)\n",
    "        for parameters, results in data.items():\n",
    "            if parameters not in cooling_schedule_data.keys():\n",
    "                cooling_schedule_data[parameters] = results\n",
    "            else:\n",
    "                cooling_schedule_data[parameters] += results\n"
   ]
  },
  {
   "cell_type": "code",
   "execution_count": 6,
   "outputs": [
    {
     "name": "stdout",
     "output_type": "stream",
     "text": [
      "<class 'pandas.core.frame.DataFrame'>\n",
      "RangeIndex: 18 entries, 0 to 17\n",
      "Data columns (total 5 columns):\n",
      " #   Column        Non-Null Count  Dtype  \n",
      "---  ------        --------------  -----  \n",
      " 0   parameters    18 non-null     object \n",
      " 1   initial_cost  18 non-null     float64\n",
      " 2   best_cost     18 non-null     float64\n",
      " 3   elapsed_time  18 non-null     object \n",
      " 4   cost_diff     18 non-null     float64\n",
      "dtypes: float64(3), object(2)\n",
      "memory usage: 848.0+ bytes\n"
     ]
    }
   ],
   "source": [
    "import pandas as pd\n",
    "import numpy as np\n",
    "\n",
    "mean_initial_solutions = []\n",
    "all_initial_solutions = []\n",
    "mean_best_solutions = []\n",
    "mean_times = []\n",
    "all_initial_solution_resets = []\n",
    "\n",
    "for parameters, results in cooling_schedule_data.items():\n",
    "    mean_initial = sum([result['initial_cost'] for result in results])/len(results)\n",
    "    all_initial_solutions += [result['initial_cost'] for result in results]\n",
    "    mean_best = sum([result['best_cost'] for result in results])/len(results)\n",
    "    mean_time = sum([result['elapsed_time'] for result in results])/len(results)\n",
    "    mean_initial_solutions.append(mean_initial)\n",
    "    mean_best_solutions.append(mean_best)\n",
    "    mean_times.append(mean_time)\n",
    "    all_initial_solution_resets += [result['initial_solutions_resets'] for result in results]\n",
    "\n",
    "df = pd.DataFrame(np.array([list(cooling_schedule_data.keys()), mean_initial_solutions, mean_best_solutions, mean_times]).T, columns=['parameters', 'initial_cost', 'best_cost', 'elapsed_time'])\n",
    "\n",
    "df['initial_cost'] = df['initial_cost'].astype('float')\n",
    "df['best_cost'] = df['best_cost'].astype('float')\n",
    "df['cost_diff'] = df['initial_cost'] - df['best_cost']\n",
    "\n",
    "df.info()"
   ],
   "metadata": {
    "collapsed": false,
    "pycharm": {
     "name": "#%%\n"
    }
   }
  },
  {
   "cell_type": "code",
   "execution_count": 18,
   "outputs": [
    {
     "data": {
      "text/plain": "                 parameters  initial_cost  best_cost        elapsed_time  \\\n0       (30, 0.395, 10, 10)      1972.760   1206.832  27.289879970550537   \n1       (30, 0.434, 10, 10)      1944.064   1311.056  13.523521089553833   \n2     (15, 0.15, 100, 0.01)      1943.312   1381.648   20.68588010787964   \n3    (25, 0.166, 30, 0.995)      1949.472   1414.120  14.097796115875244   \n4     (15, 0.15, 100, 0.02)      1937.848   1427.320  10.804479932785034   \n5  (30, 0.00133, 30, 0.995)      1951.928   1466.984   29.41499423980713   \n6         (50, 5.81, 20, 1)      1912.848   1442.848  30.488000755310058   \n7       (30, 0.483, 10, 10)      1939.608   1470.488   6.604959955215454   \n8    (15, 0.15, 100, 0.005)      1904.808   1440.976  44.256101331710816   \n9         (50, 0.05, 40, 1)      1951.512   1488.744  14.961600036621094   \n\n   cost_diff  \n0    765.928  \n1    633.008  \n2    561.664  \n3    535.352  \n4    510.528  \n5    484.944  \n6    470.000  \n7    469.120  \n8    463.832  \n9    462.768  ",
      "text/html": "<div>\n<style scoped>\n    .dataframe tbody tr th:only-of-type {\n        vertical-align: middle;\n    }\n\n    .dataframe tbody tr th {\n        vertical-align: top;\n    }\n\n    .dataframe thead th {\n        text-align: right;\n    }\n</style>\n<table border=\"1\" class=\"dataframe\">\n  <thead>\n    <tr style=\"text-align: right;\">\n      <th></th>\n      <th>parameters</th>\n      <th>initial_cost</th>\n      <th>best_cost</th>\n      <th>elapsed_time</th>\n      <th>cost_diff</th>\n    </tr>\n  </thead>\n  <tbody>\n    <tr>\n      <th>0</th>\n      <td>(30, 0.395, 10, 10)</td>\n      <td>1972.760</td>\n      <td>1206.832</td>\n      <td>27.289879970550537</td>\n      <td>765.928</td>\n    </tr>\n    <tr>\n      <th>1</th>\n      <td>(30, 0.434, 10, 10)</td>\n      <td>1944.064</td>\n      <td>1311.056</td>\n      <td>13.523521089553833</td>\n      <td>633.008</td>\n    </tr>\n    <tr>\n      <th>2</th>\n      <td>(15, 0.15, 100, 0.01)</td>\n      <td>1943.312</td>\n      <td>1381.648</td>\n      <td>20.68588010787964</td>\n      <td>561.664</td>\n    </tr>\n    <tr>\n      <th>3</th>\n      <td>(25, 0.166, 30, 0.995)</td>\n      <td>1949.472</td>\n      <td>1414.120</td>\n      <td>14.097796115875244</td>\n      <td>535.352</td>\n    </tr>\n    <tr>\n      <th>4</th>\n      <td>(15, 0.15, 100, 0.02)</td>\n      <td>1937.848</td>\n      <td>1427.320</td>\n      <td>10.804479932785034</td>\n      <td>510.528</td>\n    </tr>\n    <tr>\n      <th>5</th>\n      <td>(30, 0.00133, 30, 0.995)</td>\n      <td>1951.928</td>\n      <td>1466.984</td>\n      <td>29.41499423980713</td>\n      <td>484.944</td>\n    </tr>\n    <tr>\n      <th>6</th>\n      <td>(50, 5.81, 20, 1)</td>\n      <td>1912.848</td>\n      <td>1442.848</td>\n      <td>30.488000755310058</td>\n      <td>470.000</td>\n    </tr>\n    <tr>\n      <th>7</th>\n      <td>(30, 0.483, 10, 10)</td>\n      <td>1939.608</td>\n      <td>1470.488</td>\n      <td>6.604959955215454</td>\n      <td>469.120</td>\n    </tr>\n    <tr>\n      <th>8</th>\n      <td>(15, 0.15, 100, 0.005)</td>\n      <td>1904.808</td>\n      <td>1440.976</td>\n      <td>44.256101331710816</td>\n      <td>463.832</td>\n    </tr>\n    <tr>\n      <th>9</th>\n      <td>(50, 0.05, 40, 1)</td>\n      <td>1951.512</td>\n      <td>1488.744</td>\n      <td>14.961600036621094</td>\n      <td>462.768</td>\n    </tr>\n  </tbody>\n</table>\n</div>"
     },
     "execution_count": 18,
     "metadata": {},
     "output_type": "execute_result"
    }
   ],
   "source": [
    "df.sort_values('cost_diff', ascending=False, inplace=True)\n",
    "df.reset_index(drop=True, inplace=True)\n",
    "df.head(10)"
   ],
   "metadata": {
    "collapsed": false,
    "pycharm": {
     "name": "#%%\n"
    }
   }
  },
  {
   "cell_type": "code",
   "execution_count": 8,
   "outputs": [
    {
     "data": {
      "text/plain": "                parameters  initial_cost  best_cost        elapsed_time  \\\n8   (15, 0.15, 100, 0.005)      1904.808   1440.976  44.256101331710816   \n9        (50, 0.05, 40, 1)      1951.512   1488.744  14.961600036621094   \n10       (50, 6.32, 20, 1)      1968.208   1528.424  14.816519994735717   \n11      (50, 0.025, 50, 1)      1928.536   1551.320   31.94440170288086   \n12   (25, 2.03, 30, 0.995)      1919.688   1542.560   7.375793981552124   \n13        (50, 0.1, 30, 1)      1960.432   1687.120   7.611681728363037   \n14       (50, 6.93, 20, 1)      1962.608   1692.744   7.525559949874878   \n15     (1000, 0.004, 1, 1)      1966.832   1698.952   7.923479986190796   \n16  (1000, 0.004, 1, 0.22)      1942.144   1728.616  19.241839952468872   \n17  (1000, 0.004, 1, 0.06)      1937.944   1873.160  53.963639993667606   \n\n    cost_diff  \n8     463.832  \n9     462.768  \n10    439.784  \n11    377.216  \n12    377.128  \n13    273.312  \n14    269.864  \n15    267.880  \n16    213.528  \n17     64.784  ",
      "text/html": "<div>\n<style scoped>\n    .dataframe tbody tr th:only-of-type {\n        vertical-align: middle;\n    }\n\n    .dataframe tbody tr th {\n        vertical-align: top;\n    }\n\n    .dataframe thead th {\n        text-align: right;\n    }\n</style>\n<table border=\"1\" class=\"dataframe\">\n  <thead>\n    <tr style=\"text-align: right;\">\n      <th></th>\n      <th>parameters</th>\n      <th>initial_cost</th>\n      <th>best_cost</th>\n      <th>elapsed_time</th>\n      <th>cost_diff</th>\n    </tr>\n  </thead>\n  <tbody>\n    <tr>\n      <th>8</th>\n      <td>(15, 0.15, 100, 0.005)</td>\n      <td>1904.808</td>\n      <td>1440.976</td>\n      <td>44.256101331710816</td>\n      <td>463.832</td>\n    </tr>\n    <tr>\n      <th>9</th>\n      <td>(50, 0.05, 40, 1)</td>\n      <td>1951.512</td>\n      <td>1488.744</td>\n      <td>14.961600036621094</td>\n      <td>462.768</td>\n    </tr>\n    <tr>\n      <th>10</th>\n      <td>(50, 6.32, 20, 1)</td>\n      <td>1968.208</td>\n      <td>1528.424</td>\n      <td>14.816519994735717</td>\n      <td>439.784</td>\n    </tr>\n    <tr>\n      <th>11</th>\n      <td>(50, 0.025, 50, 1)</td>\n      <td>1928.536</td>\n      <td>1551.320</td>\n      <td>31.94440170288086</td>\n      <td>377.216</td>\n    </tr>\n    <tr>\n      <th>12</th>\n      <td>(25, 2.03, 30, 0.995)</td>\n      <td>1919.688</td>\n      <td>1542.560</td>\n      <td>7.375793981552124</td>\n      <td>377.128</td>\n    </tr>\n    <tr>\n      <th>13</th>\n      <td>(50, 0.1, 30, 1)</td>\n      <td>1960.432</td>\n      <td>1687.120</td>\n      <td>7.611681728363037</td>\n      <td>273.312</td>\n    </tr>\n    <tr>\n      <th>14</th>\n      <td>(50, 6.93, 20, 1)</td>\n      <td>1962.608</td>\n      <td>1692.744</td>\n      <td>7.525559949874878</td>\n      <td>269.864</td>\n    </tr>\n    <tr>\n      <th>15</th>\n      <td>(1000, 0.004, 1, 1)</td>\n      <td>1966.832</td>\n      <td>1698.952</td>\n      <td>7.923479986190796</td>\n      <td>267.880</td>\n    </tr>\n    <tr>\n      <th>16</th>\n      <td>(1000, 0.004, 1, 0.22)</td>\n      <td>1942.144</td>\n      <td>1728.616</td>\n      <td>19.241839952468872</td>\n      <td>213.528</td>\n    </tr>\n    <tr>\n      <th>17</th>\n      <td>(1000, 0.004, 1, 0.06)</td>\n      <td>1937.944</td>\n      <td>1873.160</td>\n      <td>53.963639993667606</td>\n      <td>64.784</td>\n    </tr>\n  </tbody>\n</table>\n</div>"
     },
     "execution_count": 8,
     "metadata": {},
     "output_type": "execute_result"
    }
   ],
   "source": [
    "df.sort_values('cost_diff', ascending=False).tail(10)"
   ],
   "metadata": {
    "collapsed": false,
    "pycharm": {
     "name": "#%%\n"
    }
   }
  },
  {
   "cell_type": "code",
   "execution_count": 9,
   "outputs": [
    {
     "data": {
      "text/plain": "               parameters  initial_cost  best_cost        elapsed_time  \\\n0     (30, 0.395, 10, 10)      1972.760   1206.832  27.289879970550537   \n1     (30, 0.434, 10, 10)      1944.064   1311.056  13.523521089553833   \n2   (15, 0.15, 100, 0.01)      1943.312   1381.648   20.68588010787964   \n3  (25, 0.166, 30, 0.995)      1949.472   1414.120  14.097796115875244   \n4   (15, 0.15, 100, 0.02)      1937.848   1427.320  10.804479932785034   \n\n   cost_diff  \n0    765.928  \n1    633.008  \n2    561.664  \n3    535.352  \n4    510.528  ",
      "text/html": "<div>\n<style scoped>\n    .dataframe tbody tr th:only-of-type {\n        vertical-align: middle;\n    }\n\n    .dataframe tbody tr th {\n        vertical-align: top;\n    }\n\n    .dataframe thead th {\n        text-align: right;\n    }\n</style>\n<table border=\"1\" class=\"dataframe\">\n  <thead>\n    <tr style=\"text-align: right;\">\n      <th></th>\n      <th>parameters</th>\n      <th>initial_cost</th>\n      <th>best_cost</th>\n      <th>elapsed_time</th>\n      <th>cost_diff</th>\n    </tr>\n  </thead>\n  <tbody>\n    <tr>\n      <th>0</th>\n      <td>(30, 0.395, 10, 10)</td>\n      <td>1972.760</td>\n      <td>1206.832</td>\n      <td>27.289879970550537</td>\n      <td>765.928</td>\n    </tr>\n    <tr>\n      <th>1</th>\n      <td>(30, 0.434, 10, 10)</td>\n      <td>1944.064</td>\n      <td>1311.056</td>\n      <td>13.523521089553833</td>\n      <td>633.008</td>\n    </tr>\n    <tr>\n      <th>2</th>\n      <td>(15, 0.15, 100, 0.01)</td>\n      <td>1943.312</td>\n      <td>1381.648</td>\n      <td>20.68588010787964</td>\n      <td>561.664</td>\n    </tr>\n    <tr>\n      <th>3</th>\n      <td>(25, 0.166, 30, 0.995)</td>\n      <td>1949.472</td>\n      <td>1414.120</td>\n      <td>14.097796115875244</td>\n      <td>535.352</td>\n    </tr>\n    <tr>\n      <th>4</th>\n      <td>(15, 0.15, 100, 0.02)</td>\n      <td>1937.848</td>\n      <td>1427.320</td>\n      <td>10.804479932785034</td>\n      <td>510.528</td>\n    </tr>\n  </tbody>\n</table>\n</div>"
     },
     "execution_count": 9,
     "metadata": {},
     "output_type": "execute_result"
    }
   ],
   "source": [
    "df.sort_values('best_cost').head()"
   ],
   "metadata": {
    "collapsed": false,
    "pycharm": {
     "name": "#%%\n"
    }
   }
  },
  {
   "cell_type": "code",
   "execution_count": 10,
   "outputs": [
    {
     "data": {
      "text/plain": "                parameters  initial_cost  best_cost        elapsed_time  \\\n13        (50, 0.1, 30, 1)      1960.432   1687.120   7.611681728363037   \n14       (50, 6.93, 20, 1)      1962.608   1692.744   7.525559949874878   \n15     (1000, 0.004, 1, 1)      1966.832   1698.952   7.923479986190796   \n16  (1000, 0.004, 1, 0.22)      1942.144   1728.616  19.241839952468872   \n17  (1000, 0.004, 1, 0.06)      1937.944   1873.160  53.963639993667606   \n\n    cost_diff  \n13    273.312  \n14    269.864  \n15    267.880  \n16    213.528  \n17     64.784  ",
      "text/html": "<div>\n<style scoped>\n    .dataframe tbody tr th:only-of-type {\n        vertical-align: middle;\n    }\n\n    .dataframe tbody tr th {\n        vertical-align: top;\n    }\n\n    .dataframe thead th {\n        text-align: right;\n    }\n</style>\n<table border=\"1\" class=\"dataframe\">\n  <thead>\n    <tr style=\"text-align: right;\">\n      <th></th>\n      <th>parameters</th>\n      <th>initial_cost</th>\n      <th>best_cost</th>\n      <th>elapsed_time</th>\n      <th>cost_diff</th>\n    </tr>\n  </thead>\n  <tbody>\n    <tr>\n      <th>13</th>\n      <td>(50, 0.1, 30, 1)</td>\n      <td>1960.432</td>\n      <td>1687.120</td>\n      <td>7.611681728363037</td>\n      <td>273.312</td>\n    </tr>\n    <tr>\n      <th>14</th>\n      <td>(50, 6.93, 20, 1)</td>\n      <td>1962.608</td>\n      <td>1692.744</td>\n      <td>7.525559949874878</td>\n      <td>269.864</td>\n    </tr>\n    <tr>\n      <th>15</th>\n      <td>(1000, 0.004, 1, 1)</td>\n      <td>1966.832</td>\n      <td>1698.952</td>\n      <td>7.923479986190796</td>\n      <td>267.880</td>\n    </tr>\n    <tr>\n      <th>16</th>\n      <td>(1000, 0.004, 1, 0.22)</td>\n      <td>1942.144</td>\n      <td>1728.616</td>\n      <td>19.241839952468872</td>\n      <td>213.528</td>\n    </tr>\n    <tr>\n      <th>17</th>\n      <td>(1000, 0.004, 1, 0.06)</td>\n      <td>1937.944</td>\n      <td>1873.160</td>\n      <td>53.963639993667606</td>\n      <td>64.784</td>\n    </tr>\n  </tbody>\n</table>\n</div>"
     },
     "execution_count": 10,
     "metadata": {},
     "output_type": "execute_result"
    }
   ],
   "source": [
    "df.sort_values('best_cost').tail()"
   ],
   "metadata": {
    "collapsed": false,
    "pycharm": {
     "name": "#%%\n"
    }
   }
  },
  {
   "cell_type": "code",
   "execution_count": 11,
   "outputs": [
    {
     "data": {
      "text/plain": "                parameters  initial_cost  best_cost        elapsed_time  \\\n4    (15, 0.15, 100, 0.02)      1937.848   1427.320  10.804479932785034   \n1      (30, 0.434, 10, 10)      1944.064   1311.056  13.523521089553833   \n3   (25, 0.166, 30, 0.995)      1949.472   1414.120  14.097796115875244   \n10       (50, 6.32, 20, 1)      1968.208   1528.424  14.816519994735717   \n9        (50, 0.05, 40, 1)      1951.512   1488.744  14.961600036621094   \n\n    cost_diff  \n4     510.528  \n1     633.008  \n3     535.352  \n10    439.784  \n9     462.768  ",
      "text/html": "<div>\n<style scoped>\n    .dataframe tbody tr th:only-of-type {\n        vertical-align: middle;\n    }\n\n    .dataframe tbody tr th {\n        vertical-align: top;\n    }\n\n    .dataframe thead th {\n        text-align: right;\n    }\n</style>\n<table border=\"1\" class=\"dataframe\">\n  <thead>\n    <tr style=\"text-align: right;\">\n      <th></th>\n      <th>parameters</th>\n      <th>initial_cost</th>\n      <th>best_cost</th>\n      <th>elapsed_time</th>\n      <th>cost_diff</th>\n    </tr>\n  </thead>\n  <tbody>\n    <tr>\n      <th>4</th>\n      <td>(15, 0.15, 100, 0.02)</td>\n      <td>1937.848</td>\n      <td>1427.320</td>\n      <td>10.804479932785034</td>\n      <td>510.528</td>\n    </tr>\n    <tr>\n      <th>1</th>\n      <td>(30, 0.434, 10, 10)</td>\n      <td>1944.064</td>\n      <td>1311.056</td>\n      <td>13.523521089553833</td>\n      <td>633.008</td>\n    </tr>\n    <tr>\n      <th>3</th>\n      <td>(25, 0.166, 30, 0.995)</td>\n      <td>1949.472</td>\n      <td>1414.120</td>\n      <td>14.097796115875244</td>\n      <td>535.352</td>\n    </tr>\n    <tr>\n      <th>10</th>\n      <td>(50, 6.32, 20, 1)</td>\n      <td>1968.208</td>\n      <td>1528.424</td>\n      <td>14.816519994735717</td>\n      <td>439.784</td>\n    </tr>\n    <tr>\n      <th>9</th>\n      <td>(50, 0.05, 40, 1)</td>\n      <td>1951.512</td>\n      <td>1488.744</td>\n      <td>14.961600036621094</td>\n      <td>462.768</td>\n    </tr>\n  </tbody>\n</table>\n</div>"
     },
     "execution_count": 11,
     "metadata": {},
     "output_type": "execute_result"
    }
   ],
   "source": [
    "df.sort_values('elapsed_time').head()"
   ],
   "metadata": {
    "collapsed": false,
    "pycharm": {
     "name": "#%%\n"
    }
   }
  },
  {
   "cell_type": "code",
   "execution_count": 12,
   "outputs": [
    {
     "data": {
      "text/plain": "               parameters  initial_cost  best_cost       elapsed_time  \\\n7     (30, 0.483, 10, 10)      1939.608   1470.488  6.604959955215454   \n12  (25, 2.03, 30, 0.995)      1919.688   1542.560  7.375793981552124   \n14      (50, 6.93, 20, 1)      1962.608   1692.744  7.525559949874878   \n13       (50, 0.1, 30, 1)      1960.432   1687.120  7.611681728363037   \n15    (1000, 0.004, 1, 1)      1966.832   1698.952  7.923479986190796   \n\n    cost_diff  \n7     469.120  \n12    377.128  \n14    269.864  \n13    273.312  \n15    267.880  ",
      "text/html": "<div>\n<style scoped>\n    .dataframe tbody tr th:only-of-type {\n        vertical-align: middle;\n    }\n\n    .dataframe tbody tr th {\n        vertical-align: top;\n    }\n\n    .dataframe thead th {\n        text-align: right;\n    }\n</style>\n<table border=\"1\" class=\"dataframe\">\n  <thead>\n    <tr style=\"text-align: right;\">\n      <th></th>\n      <th>parameters</th>\n      <th>initial_cost</th>\n      <th>best_cost</th>\n      <th>elapsed_time</th>\n      <th>cost_diff</th>\n    </tr>\n  </thead>\n  <tbody>\n    <tr>\n      <th>7</th>\n      <td>(30, 0.483, 10, 10)</td>\n      <td>1939.608</td>\n      <td>1470.488</td>\n      <td>6.604959955215454</td>\n      <td>469.120</td>\n    </tr>\n    <tr>\n      <th>12</th>\n      <td>(25, 2.03, 30, 0.995)</td>\n      <td>1919.688</td>\n      <td>1542.560</td>\n      <td>7.375793981552124</td>\n      <td>377.128</td>\n    </tr>\n    <tr>\n      <th>14</th>\n      <td>(50, 6.93, 20, 1)</td>\n      <td>1962.608</td>\n      <td>1692.744</td>\n      <td>7.525559949874878</td>\n      <td>269.864</td>\n    </tr>\n    <tr>\n      <th>13</th>\n      <td>(50, 0.1, 30, 1)</td>\n      <td>1960.432</td>\n      <td>1687.120</td>\n      <td>7.611681728363037</td>\n      <td>273.312</td>\n    </tr>\n    <tr>\n      <th>15</th>\n      <td>(1000, 0.004, 1, 1)</td>\n      <td>1966.832</td>\n      <td>1698.952</td>\n      <td>7.923479986190796</td>\n      <td>267.880</td>\n    </tr>\n  </tbody>\n</table>\n</div>"
     },
     "execution_count": 12,
     "metadata": {},
     "output_type": "execute_result"
    }
   ],
   "source": [
    "df.sort_values('elapsed_time').tail()"
   ],
   "metadata": {
    "collapsed": false,
    "pycharm": {
     "name": "#%%\n"
    }
   }
  },
  {
   "cell_type": "code",
   "execution_count": 13,
   "outputs": [
    {
     "data": {
      "text/plain": "0    401\n1     45\n3      2\n2      2\nName: initial_solution_resets, dtype: int64"
     },
     "execution_count": 13,
     "metadata": {},
     "output_type": "execute_result"
    }
   ],
   "source": [
    "initial_solution_resets_df = pd.DataFrame(all_initial_solution_resets, columns=['initial_solution_resets'])\n",
    "initial_solution_resets_df.initial_solution_resets.value_counts()"
   ],
   "metadata": {
    "collapsed": false,
    "pycharm": {
     "name": "#%%\n"
    }
   }
  },
  {
   "cell_type": "code",
   "execution_count": 14,
   "outputs": [
    {
     "data": {
      "text/plain": "<AxesSubplot:xlabel='initial_solution_resets', ylabel='Count'>"
     },
     "execution_count": 14,
     "metadata": {},
     "output_type": "execute_result"
    },
    {
     "data": {
      "text/plain": "<Figure size 432x288 with 1 Axes>",
      "image/png": "[encoded data removed]"
     },
     "metadata": {
      "needs_background": "light"
     },
     "output_type": "display_data"
    }
   ],
   "source": [
    "import seaborn as sns\n",
    "\n",
    "sns.histplot(x='initial_solution_resets', data=initial_solution_resets_df)"
   ],
   "metadata": {
    "collapsed": false,
    "pycharm": {
     "name": "#%%\n"
    }
   }
  },
  {
   "cell_type": "code",
   "execution_count": 15,
   "outputs": [
    {
     "data": {
      "text/plain": "0    0.891111\n1    0.100000\n3    0.004444\n2    0.004444\nName: initial_solution_resets, dtype: float64"
     },
     "execution_count": 15,
     "metadata": {},
     "output_type": "execute_result"
    }
   ],
   "source": [
    "initial_solution_resets_df.initial_solution_resets.value_counts(normalize=True)"
   ],
   "metadata": {
    "collapsed": false,
    "pycharm": {
     "name": "#%%\n"
    }
   }
  },
  {
   "cell_type": "markdown",
   "source": [
    "Hipoteza: rozkład resetów rozwiązania początkowego zbiega w nieskończoności(dla dużych liczb) do rozkładu Benforda. https://pl.wikipedia.org/wiki/Rozkład_Benforda\n",
    "albo to https://en.wikipedia.org/wiki/Zipf%27s_law\n",
    "ewentualnie jeszcze ten:\n",
    "https://en.wikipedia.org/wiki/Poisson_distribution"
   ],
   "metadata": {
    "collapsed": false,
    "pycharm": {
     "name": "#%% md\n"
    }
   }
  },
  {
   "cell_type": "markdown",
   "source": [
    "## Rozkład rozwiązań początkowych"
   ],
   "metadata": {
    "collapsed": false,
    "pycharm": {
     "name": "#%% md\n"
    }
   }
  },
  {
   "cell_type": "code",
   "execution_count": 16,
   "outputs": [
    {
     "data": {
      "text/plain": "<AxesSubplot:ylabel='Count'>"
     },
     "execution_count": 16,
     "metadata": {},
     "output_type": "execute_result"
    },
    {
     "data": {
      "text/plain": "<Figure size 432x288 with 1 Axes>",
      "image/png": "[encoded data removed]"
     },
     "metadata": {
      "needs_background": "light"
     },
     "output_type": "display_data"
    }
   ],
   "source": [
    "sns.histplot(mean_initial_solutions)"
   ],
   "metadata": {
    "collapsed": false,
    "pycharm": {
     "name": "#%%\n"
    }
   }
  },
  {
   "cell_type": "code",
   "execution_count": 17,
   "outputs": [
    {
     "data": {
      "text/plain": "<Figure size 864x576 with 1 Axes>",
      "image/png": "[encoded data removed]"
     },
     "metadata": {
      "needs_background": "light"
     },
     "output_type": "display_data"
    }
   ],
   "source": [
    "from scipy.stats import norm\n",
    "import matplotlib.pyplot as plt\n",
    "\n",
    "plt.figure(figsize=(12, 8))\n",
    "sns.histplot(all_initial_solutions, stat='density')\n",
    "\n",
    "\n",
    "mu, std = norm.fit(all_initial_solutions)\n",
    "\n",
    "# Plot the PDF.\n",
    "xmin, xmax = plt.xlim()\n",
    "x = np.linspace(xmin, xmax, 100)\n",
    "p = norm.pdf(x, mu, std)\n",
    "plt.plot(x, p, 'green', linewidth=4)\n",
    "title = \"Fit results: mu = %.2f,  std = %.2f\" % (mu, std)\n",
    "plt.title(title)\n",
    "\n",
    "plt.show()"
   ],
   "metadata": {
    "collapsed": false,
    "pycharm": {
     "name": "#%%\n"
    }
   }
  },
  {
   "cell_type": "code",
   "execution_count": 17,
   "outputs": [],
   "source": [],
   "metadata": {
    "collapsed": false,
    "pycharm": {
     "name": "#%%\n"
    }
   }
  },
  {
   "cell_type": "code",
   "execution_count": 17,
   "outputs": [],
   "source": [],
   "metadata": {
    "collapsed": false,
    "pycharm": {
     "name": "#%%\n"
    }
   }
  }
 ],
 "metadata": {
  "kernelspec": {
   "display_name": "Python 3",
   "language": "python",
   "name": "python3"
  },
  "language_info": {
   "codemirror_mode": {
    "name": "ipython",
    "version": 2
   },
   "file_extension": ".py",
   "mimetype": "text/x-python",
   "name": "python",
   "nbconvert_exporter": "python",
   "pygments_lexer": "ipython2",
   "version": "2.7.6"
  }
 },
 "nbformat": 4,
 "nbformat_minor": 0
}