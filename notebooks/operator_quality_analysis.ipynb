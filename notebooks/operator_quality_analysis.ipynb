{
 "cells": [
  {
   "cell_type": "code",
   "execution_count": 1,
   "metadata": {
    "collapsed": true
   },
   "outputs": [],
   "source": [
    "import timetable_scheduler.solution\n",
    "from timetable_scheduler import create_dataset, timing, process_image_manager\n",
    "from timetable_scheduler.matrix_operators import matrix_cut_and_paste_translation, matrix_inner_translation, matrix_transposition, MatrixOperator\n"
   ]
  },
  {
   "cell_type": "code",
   "execution_count": 2,
   "outputs": [],
   "source": [
    "import numpy as np\n",
    "\n",
    "@timing\n",
    "def operator_time_measurement(matrix_operator: MatrixOperator, test_matrix: np.ndarray, iterations: int):\n",
    "    for i in range(iterations):\n",
    "        matrix_operator(test_matrix)"
   ],
   "metadata": {
    "collapsed": false,
    "pycharm": {
     "name": "#%%\n"
    }
   }
  },
  {
   "cell_type": "markdown",
   "source": [
    "### Time complexity test setup\n",
    "For every matrix operator perform time complexity tests for k different availability probability levels.\n",
    "For every availability probability level perform m tests with n iterations each.\n",
    "\n",
    "Let k = 3, m = 10, n = 1000.\n",
    "My dataset of choice is the 5th term."
   ],
   "metadata": {
    "collapsed": false,
    "pycharm": {
     "name": "#%% md\n"
    }
   }
  },
  {
   "cell_type": "code",
   "execution_count": 3,
   "outputs": [],
   "source": [
    "# k different availability probability levels\n",
    "probability_levels = [0.5, 0.7, 0.9]\n",
    "# m tests and n iterations\n",
    "m = 10\n",
    "n = 1000\n",
    "dataset = 5\n",
    "\n",
    "matrix_operators = [matrix_cut_and_paste_translation, matrix_inner_translation, matrix_transposition]\n",
    "operator_labels = ['matrix_cut_and_paste_translation', 'matrix_inner_translation', 'matrix_transposition']\n",
    "\n",
    "test_results = {operator_label: [] for operator_label in operator_labels}\n",
    "\n",
    "for matrix_operator, operator_label in zip(matrix_operators, operator_labels):\n",
    "    for probability_level in probability_levels:\n",
    "        # test matrix setup\n",
    "        create_dataset(term_id=dataset, room_p=probability_level, lecturer_p=probability_level)\n",
    "        process_image_manager.reset_process_image()\n",
    "        test_solution = timetable_scheduler.solution.Solution()\n",
    "        while not test_solution.check_acceptability():\n",
    "            process_image_manager.reset_process_image()\n",
    "            test_solution = timetable_scheduler.solution.Solution()\n",
    "        test_matrix = test_solution.matrix\n",
    "        # perform m tests with n iterations\n",
    "        results = []\n",
    "        for test in range(m):\n",
    "            _, total_time = operator_time_measurement(matrix_operator, test_matrix, n)\n",
    "            # save the average time for each run\n",
    "            results.append(total_time / n)\n",
    "        test_results[operator_label] += results\n"
   ],
   "metadata": {
    "collapsed": false,
    "pycharm": {
     "name": "#%%\n"
    }
   }
  },
  {
   "cell_type": "markdown",
   "source": [
    "### Data Analysis\n",
    "\n",
    "Studied properties:\n",
    "* matrix operator runtimes\n",
    "* the influence of matrix operators on the cost function\n",
    "* the sequence of matrix operators\n",
    "\n",
    "\n",
    "\n",
    "#### Matrix operator runtimes"
   ],
   "metadata": {
    "collapsed": false,
    "pycharm": {
     "name": "#%% md\n"
    }
   }
  },
  {
   "cell_type": "code",
   "execution_count": 4,
   "outputs": [
    {
     "data": {
      "text/plain": "                    matrix operator    runtime\n0  matrix_cut_and_paste_translation  13.700011\n1  matrix_cut_and_paste_translation  14.040017\n2  matrix_cut_and_paste_translation  13.789971\n3  matrix_cut_and_paste_translation  13.889997\n4  matrix_cut_and_paste_translation  13.660009",
      "text/html": "<div>\n<style scoped>\n    .dataframe tbody tr th:only-of-type {\n        vertical-align: middle;\n    }\n\n    .dataframe tbody tr th {\n        vertical-align: top;\n    }\n\n    .dataframe thead th {\n        text-align: right;\n    }\n</style>\n<table border=\"1\" class=\"dataframe\">\n  <thead>\n    <tr style=\"text-align: right;\">\n      <th></th>\n      <th>matrix operator</th>\n      <th>runtime</th>\n    </tr>\n  </thead>\n  <tbody>\n    <tr>\n      <th>0</th>\n      <td>matrix_cut_and_paste_translation</td>\n      <td>13.700011</td>\n    </tr>\n    <tr>\n      <th>1</th>\n      <td>matrix_cut_and_paste_translation</td>\n      <td>14.040017</td>\n    </tr>\n    <tr>\n      <th>2</th>\n      <td>matrix_cut_and_paste_translation</td>\n      <td>13.789971</td>\n    </tr>\n    <tr>\n      <th>3</th>\n      <td>matrix_cut_and_paste_translation</td>\n      <td>13.889997</td>\n    </tr>\n    <tr>\n      <th>4</th>\n      <td>matrix_cut_and_paste_translation</td>\n      <td>13.660009</td>\n    </tr>\n  </tbody>\n</table>\n</div>"
     },
     "execution_count": 4,
     "metadata": {},
     "output_type": "execute_result"
    }
   ],
   "source": [
    "import pandas as pd\n",
    "import seaborn as sns\n",
    "import matplotlib.pyplot as plt\n",
    "\n",
    "operator_column = []\n",
    "average_time_column = []\n",
    "for operator_label, values in test_results.items():\n",
    "    operator_column += [operator_label] * len(values)\n",
    "    average_time_column += list(values)\n",
    "\n",
    "df = pd.DataFrame(np.array([operator_column, average_time_column]).T, columns=['matrix operator', 'runtime'])\n",
    "# get time in milliseconds\n",
    "df['runtime'] = df['runtime'].astype('float') * 10e3\n",
    "df.head()"
   ],
   "metadata": {
    "collapsed": false,
    "pycharm": {
     "name": "#%%\n"
    }
   }
  },
  {
   "cell_type": "code",
   "execution_count": 5,
   "outputs": [
    {
     "data": {
      "text/plain": "<Figure size 864x576 with 1 Axes>",
      "image/png": "[encoded data removed]"
     },
     "metadata": {
      "needs_background": "light"
     },
     "output_type": "display_data"
    }
   ],
   "source": [
    "plt.figure(figsize=(12, 8))\n",
    "sns.barplot(x='matrix operator', y='runtime', data=df)\n",
    "plt.title('Mean runtimes for each matrix operator')\n",
    "plt.show()"
   ],
   "metadata": {
    "collapsed": false,
    "pycharm": {
     "name": "#%%\n"
    }
   }
  },
  {
   "cell_type": "markdown",
   "source": [
    "#### The influence of matrix operators on the cost function\n",
    "\n"
   ],
   "metadata": {
    "collapsed": false,
    "pycharm": {
     "name": "#%% md\n"
    }
   }
  },
  {
   "cell_type": "code",
   "execution_count": 6,
   "outputs": [],
   "source": [
    "import json\n",
    "\n",
    "cooling_schedules = [\"exponential\", \"bolzmann\", \"cauchy\", \"linear\", \"quadratic\", \"logarithmic\"]\n",
    "\n",
    "\n",
    "\n",
    "operator_quality_measurements = []\n",
    "for cooling_schedule in cooling_schedules:\n",
    "    with open(f'statistics/{cooling_schedule}_cooling_schedule_test.json', 'r') as file:\n",
    "        data = json.load(file)\n",
    "        for parameters, results in data.items():\n",
    "            for result in results:\n",
    "                operator_quality_measurements += result['operator_quality_measurement']\n",
    "\n"
   ],
   "metadata": {
    "collapsed": false,
    "pycharm": {
     "name": "#%%\n"
    }
   }
  },
  {
   "cell_type": "code",
   "execution_count": 7,
   "outputs": [],
   "source": [
    "operator_acceptability_rate = []\n",
    "operator_f_cost_improvements = []\n",
    "operator_f_cost_aggravations = []\n",
    "operator_f_cost_constants = []\n",
    "operator_names = []\n",
    "\n",
    "f_cost_names = []\n",
    "f_cost_changes = []\n",
    "\n",
    "for measurement in operator_quality_measurements:\n",
    "    for operator_call in measurement[\"operator_calls\"]:\n",
    "        f_cost_changes.append(operator_call['f_cost_change'])\n",
    "        f_cost_names.append(measurement['operator_name'])\n",
    "    operator_names.append(measurement['operator_name'])\n",
    "    operator_acceptability_rate.append(measurement['n_acceptable_solutions']/measurement['n_calls'])\n",
    "    operator_f_cost_improvements.append(measurement['f_cost_improvements'])\n",
    "    operator_f_cost_aggravations.append(measurement['f_cost_aggravations'])\n",
    "    operator_f_cost_constants.append(measurement['f_cost_constants'])"
   ],
   "metadata": {
    "collapsed": false,
    "pycharm": {
     "name": "#%%\n"
    }
   }
  },
  {
   "cell_type": "code",
   "execution_count": 8,
   "outputs": [],
   "source": [
    "import pandas as pd\n",
    "import numpy as np\n",
    "col_names = ['operator', 'acceptability_rate', 'operator_f_cost_improvements', 'operator_f_cost_aggravations', 'operator_f_cost_constants']\n",
    "df = pd.DataFrame(np.array([operator_names, operator_acceptability_rate, operator_f_cost_improvements, operator_f_cost_aggravations, operator_f_cost_constants]).T, columns=col_names)"
   ],
   "metadata": {
    "collapsed": false,
    "pycharm": {
     "name": "#%%\n"
    }
   }
  },
  {
   "cell_type": "code",
   "execution_count": 9,
   "outputs": [
    {
     "data": {
      "text/plain": "                           operator  acceptability_rate  \\\n0              matrix_transposition            0.765061   \n1          matrix_inner_translation            0.734461   \n2  matrix_cut_and_paste_translation            0.304070   \n3              matrix_transposition            0.765061   \n4          matrix_inner_translation            0.734461   \n\n   operator_f_cost_improvements  operator_f_cost_aggravations  \\\n0                             0                          2614   \n1                             2                          4243   \n2                           758                          3156   \n3                             0                          2614   \n4                             2                          4243   \n\n   operator_f_cost_constants  \n0                       1691  \n1                          9  \n2                        277  \n3                       1691  \n4                          9  ",
      "text/html": "<div>\n<style scoped>\n    .dataframe tbody tr th:only-of-type {\n        vertical-align: middle;\n    }\n\n    .dataframe tbody tr th {\n        vertical-align: top;\n    }\n\n    .dataframe thead th {\n        text-align: right;\n    }\n</style>\n<table border=\"1\" class=\"dataframe\">\n  <thead>\n    <tr style=\"text-align: right;\">\n      <th></th>\n      <th>operator</th>\n      <th>acceptability_rate</th>\n      <th>operator_f_cost_improvements</th>\n      <th>operator_f_cost_aggravations</th>\n      <th>operator_f_cost_constants</th>\n    </tr>\n  </thead>\n  <tbody>\n    <tr>\n      <th>0</th>\n      <td>matrix_transposition</td>\n      <td>0.765061</td>\n      <td>0</td>\n      <td>2614</td>\n      <td>1691</td>\n    </tr>\n    <tr>\n      <th>1</th>\n      <td>matrix_inner_translation</td>\n      <td>0.734461</td>\n      <td>2</td>\n      <td>4243</td>\n      <td>9</td>\n    </tr>\n    <tr>\n      <th>2</th>\n      <td>matrix_cut_and_paste_translation</td>\n      <td>0.304070</td>\n      <td>758</td>\n      <td>3156</td>\n      <td>277</td>\n    </tr>\n    <tr>\n      <th>3</th>\n      <td>matrix_transposition</td>\n      <td>0.765061</td>\n      <td>0</td>\n      <td>2614</td>\n      <td>1691</td>\n    </tr>\n    <tr>\n      <th>4</th>\n      <td>matrix_inner_translation</td>\n      <td>0.734461</td>\n      <td>2</td>\n      <td>4243</td>\n      <td>9</td>\n    </tr>\n  </tbody>\n</table>\n</div>"
     },
     "execution_count": 9,
     "metadata": {},
     "output_type": "execute_result"
    }
   ],
   "source": [
    "df['acceptability_rate'] = df['acceptability_rate'].astype('float')\n",
    "df['operator_f_cost_improvements'] = df['operator_f_cost_improvements'].astype('int')\n",
    "df['operator_f_cost_aggravations'] = df['operator_f_cost_aggravations'].astype('int')\n",
    "df['operator_f_cost_constants'] = df['operator_f_cost_constants'].astype('int')\n",
    "\n",
    "\n",
    "\n",
    "df.head()\n"
   ],
   "metadata": {
    "collapsed": false,
    "pycharm": {
     "name": "#%%\n"
    }
   }
  },
  {
   "cell_type": "code",
   "execution_count": 10,
   "outputs": [
    {
     "data": {
      "text/plain": "<AxesSubplot:xlabel='operator', ylabel='acceptability_rate'>"
     },
     "execution_count": 10,
     "metadata": {},
     "output_type": "execute_result"
    },
    {
     "data": {
      "text/plain": "<Figure size 864x720 with 1 Axes>",
      "image/png": "[encoded data removed]"
     },
     "metadata": {
      "needs_background": "light"
     },
     "output_type": "display_data"
    }
   ],
   "source": [
    "import seaborn as sns\n",
    "import matplotlib.pyplot as plt\n",
    "plt.figure(figsize=(12, 10))\n",
    "sns.barplot(x='operator', y='acceptability_rate', data=df)"
   ],
   "metadata": {
    "collapsed": false,
    "pycharm": {
     "name": "#%%\n"
    }
   }
  },
  {
   "cell_type": "code",
   "execution_count": 11,
   "outputs": [
    {
     "data": {
      "text/plain": "<AxesSubplot:xlabel='operator', ylabel='acceptability_rate'>"
     },
     "execution_count": 11,
     "metadata": {},
     "output_type": "execute_result"
    },
    {
     "data": {
      "text/plain": "<Figure size 864x720 with 1 Axes>",
      "image/png": "[encoded data removed]"
     },
     "metadata": {
      "needs_background": "light"
     },
     "output_type": "display_data"
    }
   ],
   "source": [
    "plt.figure(figsize=(12, 10))\n",
    "sns.barplot(x='operator', y='acceptability_rate', data=df)"
   ],
   "metadata": {
    "collapsed": false,
    "pycharm": {
     "name": "#%%\n"
    }
   }
  }
 ],
 "metadata": {
  "kernelspec": {
   "display_name": "Python 3",
   "language": "python",
   "name": "python3"
  },
  "language_info": {
   "codemirror_mode": {
    "name": "ipython",
    "version": 2
   },
   "file_extension": ".py",
   "mimetype": "text/x-python",
   "name": "python",
   "nbconvert_exporter": "python",
   "pygments_lexer": "ipython2",
   "version": "2.7.6"
  }
 },
 "nbformat": 4,
 "nbformat_minor": 0
}