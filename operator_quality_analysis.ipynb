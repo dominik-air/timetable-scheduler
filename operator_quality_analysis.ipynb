{
 "cells": [
  {
   "cell_type": "code",
   "execution_count": 4,
   "metadata": {
    "collapsed": true
   },
   "outputs": [],
   "source": [
    "import timetable_scheduler.solution\n",
    "from timetable_scheduler import create_dataset, timing, process_image_manager\n",
    "from timetable_scheduler.matrix_operators import matrix_cut_and_paste_translation, matrix_inner_translation, matrix_transposition, MatrixOperator\n"
   ]
  },
  {
   "cell_type": "code",
   "execution_count": 5,
   "outputs": [],
   "source": [
    "import numpy as np\n",
    "\n",
    "@timing\n",
    "def operator_time_measurement(matrix_operator: MatrixOperator, test_matrix: np.ndarray, iterations: int):\n",
    "    for i in range(iterations):\n",
    "        matrix_operator(test_matrix)"
   ],
   "metadata": {
    "collapsed": false,
    "pycharm": {
     "name": "#%%\n"
    }
   }
  },
  {
   "cell_type": "markdown",
   "source": [
    "### Time complexity test setup\n",
    "For every matrix operator perform time complexity tests for k different availability probability levels.\n",
    "For every availability probability level perform m tests with n iterations each.\n",
    "\n",
    "Let k = 3, m = 20, n = 1000.\n",
    "My dataset of choice is the 5th term."
   ],
   "metadata": {
    "collapsed": false,
    "pycharm": {
     "name": "#%% md\n"
    }
   }
  },
  {
   "cell_type": "code",
   "execution_count": 6,
   "outputs": [],
   "source": [
    "# k different availability probability levels\n",
    "probability_levels = [0.5, 0.7, 0.9]\n",
    "# m tests and n iterations\n",
    "m = 20\n",
    "n = 1000\n",
    "dataset = 5\n",
    "\n",
    "matrix_operators = [matrix_cut_and_paste_translation, matrix_inner_translation, matrix_transposition]\n",
    "operator_labels = ['matrix_cut_and_paste_translation', 'matrix_inner_translation', 'matrix_transposition']\n",
    "\n",
    "test_results = {operator_label: [] for operator_label in operator_labels}\n",
    "\n",
    "for matrix_operator, operator_label in zip(matrix_operators, operator_labels):\n",
    "    for probability_level in probability_levels:\n",
    "        # test matrix setup\n",
    "        create_dataset(term_id=dataset, room_p=probability_level, lecturer_p=probability_level)\n",
    "        process_image_manager.reset_process_image()\n",
    "        test_solution = timetable_scheduler.solution.Solution()\n",
    "        test_matrix = test_solution.matrix\n",
    "        # perform m tests with n iterations\n",
    "        results = []\n",
    "        for test in range(m):\n",
    "            _, total_time = operator_time_measurement(matrix_operator, test_matrix, n)\n",
    "            # save the average time for each run\n",
    "            results.append(total_time / n)\n",
    "        test_results[operator_label] += results\n"
   ],
   "metadata": {
    "collapsed": false,
    "pycharm": {
     "name": "#%%\n"
    }
   }
  },
  {
   "cell_type": "markdown",
   "source": [
    "### Data Analysis\n",
    "\n",
    "Studied properties:\n",
    "* matrix operator runtimes\n",
    "* the influence of matrix operators on the cost function\n",
    "* the sequence of matrix operators\n",
    "\n",
    "\n",
    "\n",
    "#### Matrix operator runtimes"
   ],
   "metadata": {
    "collapsed": false,
    "pycharm": {
     "name": "#%% md\n"
    }
   }
  },
  {
   "cell_type": "code",
   "execution_count": 7,
   "outputs": [
    {
     "data": {
      "text/plain": "                    matrix operator    runtime\n0  matrix_cut_and_paste_translation  13.889859\n1  matrix_cut_and_paste_translation  14.349864\n2  matrix_cut_and_paste_translation  15.549881\n3  matrix_cut_and_paste_translation  16.359956\n4  matrix_cut_and_paste_translation  14.269841",
      "text/html": "<div>\n<style scoped>\n    .dataframe tbody tr th:only-of-type {\n        vertical-align: middle;\n    }\n\n    .dataframe tbody tr th {\n        vertical-align: top;\n    }\n\n    .dataframe thead th {\n        text-align: right;\n    }\n</style>\n<table border=\"1\" class=\"dataframe\">\n  <thead>\n    <tr style=\"text-align: right;\">\n      <th></th>\n      <th>matrix operator</th>\n      <th>runtime</th>\n    </tr>\n  </thead>\n  <tbody>\n    <tr>\n      <th>0</th>\n      <td>matrix_cut_and_paste_translation</td>\n      <td>13.889859</td>\n    </tr>\n    <tr>\n      <th>1</th>\n      <td>matrix_cut_and_paste_translation</td>\n      <td>14.349864</td>\n    </tr>\n    <tr>\n      <th>2</th>\n      <td>matrix_cut_and_paste_translation</td>\n      <td>15.549881</td>\n    </tr>\n    <tr>\n      <th>3</th>\n      <td>matrix_cut_and_paste_translation</td>\n      <td>16.359956</td>\n    </tr>\n    <tr>\n      <th>4</th>\n      <td>matrix_cut_and_paste_translation</td>\n      <td>14.269841</td>\n    </tr>\n  </tbody>\n</table>\n</div>"
     },
     "execution_count": 7,
     "metadata": {},
     "output_type": "execute_result"
    }
   ],
   "source": [
    "import pandas as pd\n",
    "import seaborn as sns\n",
    "import matplotlib.pyplot as plt\n",
    "\n",
    "operator_column = []\n",
    "average_time_column = []\n",
    "for operator_label, values in test_results.items():\n",
    "    operator_column += [operator_label] * len(values)\n",
    "    average_time_column += list(values)\n",
    "\n",
    "df = pd.DataFrame(np.array([operator_column, average_time_column]).T, columns=['matrix operator', 'runtime'])\n",
    "# get time in milliseconds\n",
    "df['runtime'] = df['runtime'].astype('float') * 10e3\n",
    "df.head()"
   ],
   "metadata": {
    "collapsed": false,
    "pycharm": {
     "name": "#%%\n"
    }
   }
  },
  {
   "cell_type": "code",
   "execution_count": 8,
   "outputs": [
    {
     "data": {
      "text/plain": "<Figure size 864x576 with 1 Axes>",
      "image/png": "[encoded data removed]"
     },
     "metadata": {
      "needs_background": "light"
     },
     "output_type": "display_data"
    }
   ],
   "source": [
    "plt.figure(figsize=(12, 8))\n",
    "sns.barplot(x='matrix operator', y='runtime', data=df)\n",
    "plt.title('Mean runtimes for each matrix operator')\n",
    "plt.show()"
   ],
   "metadata": {
    "collapsed": false,
    "pycharm": {
     "name": "#%%\n"
    }
   }
  },
  {
   "cell_type": "markdown",
   "source": [
    "#### The influence of matrix operators on the cost function\n",
    "\n"
   ],
   "metadata": {
    "collapsed": false,
    "pycharm": {
     "name": "#%% md\n"
    }
   }
  },
  {
   "cell_type": "code",
   "execution_count": null,
   "outputs": [],
   "source": [
    "import json\n"
   ],
   "metadata": {
    "collapsed": false,
    "pycharm": {
     "name": "#%%\n"
    }
   }
  }
 ],
 "metadata": {
  "kernelspec": {
   "display_name": "Python 3",
   "language": "python",
   "name": "python3"
  },
  "language_info": {
   "codemirror_mode": {
    "name": "ipython",
    "version": 2
   },
   "file_extension": ".py",
   "mimetype": "text/x-python",
   "name": "python",
   "nbconvert_exporter": "python",
   "pygments_lexer": "ipython2",
   "version": "2.7.6"
  }
 },
 "nbformat": 4,
 "nbformat_minor": 0
}