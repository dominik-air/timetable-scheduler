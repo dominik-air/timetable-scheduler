{
 "cells": [
  {
   "cell_type": "code",
   "execution_count": 1,
   "metadata": {
    "collapsed": true
   },
   "outputs": [],
   "source": [
    "import timetable_scheduler.solution\n",
    "from timetable_scheduler import create_dataset, timing, process_image_manager\n",
    "from timetable_scheduler.matrix_operators import matrix_cut_and_paste_translation, matrix_inner_translation, matrix_transposition, MatrixOperator\n"
   ]
  },
  {
   "cell_type": "code",
   "execution_count": 2,
   "outputs": [],
   "source": [
    "import numpy as np\n",
    "\n",
    "@timing\n",
    "def operator_time_measurement(matrix_operator: MatrixOperator, test_matrix: np.ndarray, iterations: int):\n",
    "    for i in range(iterations):\n",
    "        matrix_operator(test_matrix)"
   ],
   "metadata": {
    "collapsed": false,
    "pycharm": {
     "name": "#%%\n"
    }
   }
  },
  {
   "cell_type": "markdown",
   "source": [
    "### Time complexity test setup\n",
    "For every matrix operator perform time complexity tests for k different availability probability levels.\n",
    "For every availability probability level perform m tests with n iterations each.\n",
    "\n",
    "Let k = 3, m = 10, n = 1000.\n",
    "My dataset of choice is the 5th term."
   ],
   "metadata": {
    "collapsed": false,
    "pycharm": {
     "name": "#%% md\n"
    }
   }
  },
  {
   "cell_type": "code",
   "execution_count": 3,
   "outputs": [],
   "source": [
    "# k different availability probability levels\n",
    "probability_levels = [0.5, 0.7, 0.9]\n",
    "# m tests and n iterations\n",
    "m = 10\n",
    "n = 1000\n",
    "dataset = 5\n",
    "\n",
    "matrix_operators = [matrix_cut_and_paste_translation, matrix_inner_translation, matrix_transposition]\n",
    "operator_labels = ['matrix_cut_and_paste_translation', 'matrix_inner_translation', 'matrix_transposition']\n",
    "\n",
    "test_results = {operator_label: [] for operator_label in operator_labels}\n",
    "\n",
    "for matrix_operator, operator_label in zip(matrix_operators, operator_labels):\n",
    "    for probability_level in probability_levels:\n",
    "        # test matrix setup\n",
    "        create_dataset(term_id=dataset, room_p=probability_level, lecturer_p=probability_level)\n",
    "        process_image_manager.reset_process_image()\n",
    "        test_solution = timetable_scheduler.solution.Solution()\n",
    "        test_matrix = test_solution.matrix\n",
    "        # perform m tests with n iterations\n",
    "        results = []\n",
    "        for test in range(m):\n",
    "            _, total_time = operator_time_measurement(matrix_operator, test_matrix, n)\n",
    "            # save the average time for each run\n",
    "            results.append(total_time / n)\n",
    "        test_results[operator_label] += results\n"
   ],
   "metadata": {
    "collapsed": false,
    "pycharm": {
     "name": "#%%\n"
    }
   }
  },
  {
   "cell_type": "markdown",
   "source": [
    "### Data Analysis\n",
    "\n",
    "Studied properties:\n",
    "* matrix operator runtimes\n",
    "* the influence of matrix operators on the cost function\n",
    "* the sequence of matrix operators\n",
    "\n",
    "\n",
    "\n",
    "#### Matrix operator runtimes"
   ],
   "metadata": {
    "collapsed": false,
    "pycharm": {
     "name": "#%% md\n"
    }
   }
  },
  {
   "cell_type": "code",
   "execution_count": 4,
   "outputs": [
    {
     "data": {
      "text/plain": "                    matrix operator    runtime\n0  matrix_cut_and_paste_translation  15.179999\n1  matrix_cut_and_paste_translation  16.620004\n2  matrix_cut_and_paste_translation  18.650012\n3  matrix_cut_and_paste_translation  16.029985\n4  matrix_cut_and_paste_translation  14.852989",
      "text/html": "<div>\n<style scoped>\n    .dataframe tbody tr th:only-of-type {\n        vertical-align: middle;\n    }\n\n    .dataframe tbody tr th {\n        vertical-align: top;\n    }\n\n    .dataframe thead th {\n        text-align: right;\n    }\n</style>\n<table border=\"1\" class=\"dataframe\">\n  <thead>\n    <tr style=\"text-align: right;\">\n      <th></th>\n      <th>matrix operator</th>\n      <th>runtime</th>\n    </tr>\n  </thead>\n  <tbody>\n    <tr>\n      <th>0</th>\n      <td>matrix_cut_and_paste_translation</td>\n      <td>15.179999</td>\n    </tr>\n    <tr>\n      <th>1</th>\n      <td>matrix_cut_and_paste_translation</td>\n      <td>16.620004</td>\n    </tr>\n    <tr>\n      <th>2</th>\n      <td>matrix_cut_and_paste_translation</td>\n      <td>18.650012</td>\n    </tr>\n    <tr>\n      <th>3</th>\n      <td>matrix_cut_and_paste_translation</td>\n      <td>16.029985</td>\n    </tr>\n    <tr>\n      <th>4</th>\n      <td>matrix_cut_and_paste_translation</td>\n      <td>14.852989</td>\n    </tr>\n  </tbody>\n</table>\n</div>"
     },
     "execution_count": 4,
     "metadata": {},
     "output_type": "execute_result"
    }
   ],
   "source": [
    "import pandas as pd\n",
    "import seaborn as sns\n",
    "import matplotlib.pyplot as plt\n",
    "\n",
    "operator_column = []\n",
    "average_time_column = []\n",
    "for operator_label, values in test_results.items():\n",
    "    operator_column += [operator_label] * len(values)\n",
    "    average_time_column += list(values)\n",
    "\n",
    "df = pd.DataFrame(np.array([operator_column, average_time_column]).T, columns=['matrix operator', 'runtime'])\n",
    "# get time in milliseconds\n",
    "df['runtime'] = df['runtime'].astype('float') * 10e3\n",
    "df.head()"
   ],
   "metadata": {
    "collapsed": false,
    "pycharm": {
     "name": "#%%\n"
    }
   }
  },
  {
   "cell_type": "code",
   "execution_count": 5,
   "outputs": [
    {
     "data": {
      "text/plain": "<Figure size 864x576 with 1 Axes>",
      "image/png": "[encoded data removed]"
     },
     "metadata": {
      "needs_background": "light"
     },
     "output_type": "display_data"
    }
   ],
   "source": [
    "plt.figure(figsize=(12, 8))\n",
    "sns.barplot(x='matrix operator', y='runtime', data=df)\n",
    "plt.title('Mean runtimes for each matrix operator')\n",
    "plt.show()"
   ],
   "metadata": {
    "collapsed": false,
    "pycharm": {
     "name": "#%%\n"
    }
   }
  },
  {
   "cell_type": "markdown",
   "source": [
    "#### The influence of matrix operators on the cost function\n",
    "\n"
   ],
   "metadata": {
    "collapsed": false,
    "pycharm": {
     "name": "#%% md\n"
    }
   }
  },
  {
   "cell_type": "code",
   "execution_count": 6,
   "outputs": [],
   "source": [
    "import json\n",
    "\n",
    "cooling_schedules = [\"exponential\", \"bolzmann\", \"cauchy\", \"linear\", \"quadratic\", \"logarithmic\"]\n",
    "\n",
    "\n",
    "cooling_schedule_data = []\n",
    "for cooling_schedule in cooling_schedules:\n",
    "    with open(f'statistics/{cooling_schedule}_cooling_schedule.json', 'r') as file:\n",
    "        data = json.load(file)\n",
    "        for parameters, results in data.items():\n",
    "            if cooling_schedule not in cooling_schedule_data.keys():\n",
    "                cooling_schedule_data[cooling_schedule] = results\n",
    "            else:\n",
    "                cooling_schedule_data[cooling_schedule] += results"
   ],
   "metadata": {
    "collapsed": false,
    "pycharm": {
     "name": "#%%\n"
    }
   }
  },
  {
   "cell_type": "code",
   "execution_count": 8,
   "outputs": [
    {
     "data": {
      "text/plain": "                                         exponential  \\\n0  {'initial_cost': 2068.2, 'best_cost': 1914.0, ...   \n1  {'initial_cost': 2341.4, 'best_cost': 2237.8, ...   \n2  {'initial_cost': 2283.2, 'best_cost': 2148.4, ...   \n3  {'initial_cost': 2145.0, 'best_cost': 2075.0, ...   \n4  {'initial_cost': 2290.8, 'best_cost': 2290.8, ...   \n\n                                            bolzmann  \\\n0  {'initial_cost': 2234.8, 'best_cost': 2126.0, ...   \n1  {'initial_cost': 2255.2, 'best_cost': 2249.4, ...   \n2  {'initial_cost': 2207.8, 'best_cost': 2124.8, ...   \n3  {'initial_cost': 2307.4, 'best_cost': 2302.6, ...   \n4  {'initial_cost': 2217.3999999999996, 'best_cos...   \n\n                                              cauchy  \\\n0  {'initial_cost': 2517.2, 'best_cost': 2517.2, ...   \n1  {'initial_cost': 2342.8, 'best_cost': 2342.8, ...   \n2  {'initial_cost': 2172.4, 'best_cost': 2172.4, ...   \n3  {'initial_cost': 2113.4, 'best_cost': 2113.4, ...   \n4  {'initial_cost': 2157.6000000000004, 'best_cos...   \n\n                                              linear  \\\n0  {'initial_cost': 2021.1999999999998, 'best_cos...   \n1  {'initial_cost': 2135.2, 'best_cost': 2135.2, ...   \n2  {'initial_cost': 2325.2, 'best_cost': 2300.0, ...   \n3  {'initial_cost': 2404.8, 'best_cost': 2381.8, ...   \n4  {'initial_cost': 2457.2, 'best_cost': 2457.2, ...   \n\n                                           quadratic  \\\n0  {'initial_cost': 2112.4, 'best_cost': 2112.4, ...   \n1  {'initial_cost': 2142.4, 'best_cost': 2142.4, ...   \n2  {'initial_cost': 2309.8, 'best_cost': 2309.8, ...   \n3  {'initial_cost': 2094.8, 'best_cost': 2094.8, ...   \n4  {'initial_cost': 2124.6, 'best_cost': 2124.6, ...   \n\n                                         logarithmic  \n0  {'initial_cost': 2101.2, 'best_cost': 2041.2, ...  \n1  {'initial_cost': 2272.0, 'best_cost': 2161.6, ...  \n2  {'initial_cost': 1989.6000000000001, 'best_cos...  \n3  {'initial_cost': 1968.0, 'best_cost': 1821.8, ...  \n4  {'initial_cost': 2141.0, 'best_cost': 2103.0, ...  ",
      "text/html": "<div>\n<style scoped>\n    .dataframe tbody tr th:only-of-type {\n        vertical-align: middle;\n    }\n\n    .dataframe tbody tr th {\n        vertical-align: top;\n    }\n\n    .dataframe thead th {\n        text-align: right;\n    }\n</style>\n<table border=\"1\" class=\"dataframe\">\n  <thead>\n    <tr style=\"text-align: right;\">\n      <th></th>\n      <th>exponential</th>\n      <th>bolzmann</th>\n      <th>cauchy</th>\n      <th>linear</th>\n      <th>quadratic</th>\n      <th>logarithmic</th>\n    </tr>\n  </thead>\n  <tbody>\n    <tr>\n      <th>0</th>\n      <td>{'initial_cost': 2068.2, 'best_cost': 1914.0, ...</td>\n      <td>{'initial_cost': 2234.8, 'best_cost': 2126.0, ...</td>\n      <td>{'initial_cost': 2517.2, 'best_cost': 2517.2, ...</td>\n      <td>{'initial_cost': 2021.1999999999998, 'best_cos...</td>\n      <td>{'initial_cost': 2112.4, 'best_cost': 2112.4, ...</td>\n      <td>{'initial_cost': 2101.2, 'best_cost': 2041.2, ...</td>\n    </tr>\n    <tr>\n      <th>1</th>\n      <td>{'initial_cost': 2341.4, 'best_cost': 2237.8, ...</td>\n      <td>{'initial_cost': 2255.2, 'best_cost': 2249.4, ...</td>\n      <td>{'initial_cost': 2342.8, 'best_cost': 2342.8, ...</td>\n      <td>{'initial_cost': 2135.2, 'best_cost': 2135.2, ...</td>\n      <td>{'initial_cost': 2142.4, 'best_cost': 2142.4, ...</td>\n      <td>{'initial_cost': 2272.0, 'best_cost': 2161.6, ...</td>\n    </tr>\n    <tr>\n      <th>2</th>\n      <td>{'initial_cost': 2283.2, 'best_cost': 2148.4, ...</td>\n      <td>{'initial_cost': 2207.8, 'best_cost': 2124.8, ...</td>\n      <td>{'initial_cost': 2172.4, 'best_cost': 2172.4, ...</td>\n      <td>{'initial_cost': 2325.2, 'best_cost': 2300.0, ...</td>\n      <td>{'initial_cost': 2309.8, 'best_cost': 2309.8, ...</td>\n      <td>{'initial_cost': 1989.6000000000001, 'best_cos...</td>\n    </tr>\n    <tr>\n      <th>3</th>\n      <td>{'initial_cost': 2145.0, 'best_cost': 2075.0, ...</td>\n      <td>{'initial_cost': 2307.4, 'best_cost': 2302.6, ...</td>\n      <td>{'initial_cost': 2113.4, 'best_cost': 2113.4, ...</td>\n      <td>{'initial_cost': 2404.8, 'best_cost': 2381.8, ...</td>\n      <td>{'initial_cost': 2094.8, 'best_cost': 2094.8, ...</td>\n      <td>{'initial_cost': 1968.0, 'best_cost': 1821.8, ...</td>\n    </tr>\n    <tr>\n      <th>4</th>\n      <td>{'initial_cost': 2290.8, 'best_cost': 2290.8, ...</td>\n      <td>{'initial_cost': 2217.3999999999996, 'best_cos...</td>\n      <td>{'initial_cost': 2157.6000000000004, 'best_cos...</td>\n      <td>{'initial_cost': 2457.2, 'best_cost': 2457.2, ...</td>\n      <td>{'initial_cost': 2124.6, 'best_cost': 2124.6, ...</td>\n      <td>{'initial_cost': 2141.0, 'best_cost': 2103.0, ...</td>\n    </tr>\n  </tbody>\n</table>\n</div>"
     },
     "execution_count": 8,
     "metadata": {},
     "output_type": "execute_result"
    }
   ],
   "source": [
    "df = pd.DataFrame(cooling_schedule_data)\n",
    "df"
   ],
   "metadata": {
    "collapsed": false,
    "pycharm": {
     "name": "#%%\n"
    }
   }
  },
  {
   "cell_type": "code",
   "execution_count": null,
   "outputs": [],
   "source": [],
   "metadata": {
    "collapsed": false,
    "pycharm": {
     "name": "#%%\n"
    }
   }
  }
 ],
 "metadata": {
  "kernelspec": {
   "display_name": "Python 3",
   "language": "python",
   "name": "python3"
  },
  "language_info": {
   "codemirror_mode": {
    "name": "ipython",
    "version": 2
   },
   "file_extension": ".py",
   "mimetype": "text/x-python",
   "name": "python",
   "nbconvert_exporter": "python",
   "pygments_lexer": "ipython2",
   "version": "2.7.6"
  }
 },
 "nbformat": 4,
 "nbformat_minor": 0
}