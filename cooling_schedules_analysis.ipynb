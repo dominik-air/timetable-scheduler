{
 "cells": [
  {
   "cell_type": "code",
   "execution_count": 18,
   "metadata": {
    "collapsed": true
   },
   "outputs": [],
   "source": [
    "import json\n",
    "\n",
    "cooling_schedules = [\"exponential\", \"bolzmann\", \"cauchy\", \"linear\", \"quadratic\", \"logarithmic\"]\n",
    "\n",
    "\n",
    "cooling_schedule_data = {}\n",
    "for cooling_schedule in cooling_schedules:\n",
    "    with open(f'statistics/{cooling_schedule}_cooling_schedule.json', 'r') as file:\n",
    "        data = json.load(file)\n",
    "        cooling_schedule_data[cooling_schedule] = data"
   ]
  },
  {
   "cell_type": "code",
   "execution_count": 19,
   "outputs": [
    {
     "data": {
      "text/plain": "          parameters cooling_schedule  initial_cost  best_cost  elapsed_time  \\\n0   (20, 5, 1, 0.95)      exponential       2226.04    2161.06      0.917226   \n1  (20, 5, 1, 0.995)      exponential       2249.68    1799.80      4.811101   \n2  (20, 5, 1, 0.999)      exponential       2314.58    1375.84     24.954174   \n3   (20, 5, 3, 0.95)      exponential       2252.28    2213.90      0.952600   \n4  (20, 5, 3, 0.995)      exponential       2239.38    1915.24      5.496183   \n\n   cost_diff  \n0      64.98  \n1     449.88  \n2     938.74  \n3      38.38  \n4     324.14  ",
      "text/html": "<div>\n<style scoped>\n    .dataframe tbody tr th:only-of-type {\n        vertical-align: middle;\n    }\n\n    .dataframe tbody tr th {\n        vertical-align: top;\n    }\n\n    .dataframe thead th {\n        text-align: right;\n    }\n</style>\n<table border=\"1\" class=\"dataframe\">\n  <thead>\n    <tr style=\"text-align: right;\">\n      <th></th>\n      <th>parameters</th>\n      <th>cooling_schedule</th>\n      <th>initial_cost</th>\n      <th>best_cost</th>\n      <th>elapsed_time</th>\n      <th>cost_diff</th>\n    </tr>\n  </thead>\n  <tbody>\n    <tr>\n      <th>0</th>\n      <td>(20, 5, 1, 0.95)</td>\n      <td>exponential</td>\n      <td>2226.04</td>\n      <td>2161.06</td>\n      <td>0.917226</td>\n      <td>64.98</td>\n    </tr>\n    <tr>\n      <th>1</th>\n      <td>(20, 5, 1, 0.995)</td>\n      <td>exponential</td>\n      <td>2249.68</td>\n      <td>1799.80</td>\n      <td>4.811101</td>\n      <td>449.88</td>\n    </tr>\n    <tr>\n      <th>2</th>\n      <td>(20, 5, 1, 0.999)</td>\n      <td>exponential</td>\n      <td>2314.58</td>\n      <td>1375.84</td>\n      <td>24.954174</td>\n      <td>938.74</td>\n    </tr>\n    <tr>\n      <th>3</th>\n      <td>(20, 5, 3, 0.95)</td>\n      <td>exponential</td>\n      <td>2252.28</td>\n      <td>2213.90</td>\n      <td>0.952600</td>\n      <td>38.38</td>\n    </tr>\n    <tr>\n      <th>4</th>\n      <td>(20, 5, 3, 0.995)</td>\n      <td>exponential</td>\n      <td>2239.38</td>\n      <td>1915.24</td>\n      <td>5.496183</td>\n      <td>324.14</td>\n    </tr>\n  </tbody>\n</table>\n</div>"
     },
     "execution_count": 19,
     "metadata": {},
     "output_type": "execute_result"
    }
   ],
   "source": [
    "import numpy as np\n",
    "import pandas as pd\n",
    "\n",
    "mean_initial_solutions = []\n",
    "mean_best_solutions = []\n",
    "mean_times = []\n",
    "parameters_kinds = []\n",
    "cooling_schedule_kinds = []\n",
    "\n",
    "for cooling_schedule in cooling_schedules:\n",
    "    for parameters, results in cooling_schedule_data[cooling_schedule].items():\n",
    "        mean_initial = sum([result['initial_cost'] for result in results])/len(results)\n",
    "        mean_best = sum([result['best_cost'] for result in results])/len(results)\n",
    "        mean_time = sum([result['elapsed_time'] for result in results])/len(results)\n",
    "        mean_best_solutions.append(mean_best)\n",
    "        mean_times.append(mean_time)\n",
    "        parameters_kinds.append(str(parameters))\n",
    "        cooling_schedule_kinds.append(cooling_schedule)\n",
    "        mean_initial_solutions.append(mean_initial)\n",
    "\n",
    "columns = ['parameters', 'cooling_schedule', 'initial_cost', 'best_cost', 'elapsed_time']\n",
    "df = pd.DataFrame(np.array([parameters_kinds, cooling_schedule_kinds,mean_initial_solutions, mean_best_solutions, mean_times]).T, columns=columns)\n",
    "\n",
    "df['initial_cost'] = df['initial_cost'].astype('float')\n",
    "df['best_cost'] = df['best_cost'].astype('float')\n",
    "df['elapsed_time'] = df['elapsed_time'].astype('float')\n",
    "df['cost_diff'] = df['initial_cost'] - df['best_cost']\n",
    "\n",
    "df.head()"
   ],
   "metadata": {
    "collapsed": false,
    "pycharm": {
     "name": "#%%\n"
    }
   }
  },
  {
   "cell_type": "code",
   "execution_count": 20,
   "outputs": [
    {
     "data": {
      "text/plain": "                  initial_cost    best_cost  elapsed_time   cost_diff\ncooling_schedule                                                     \nbolzmann           2306.345556  2235.065556      1.246101   71.280000\ncauchy             2256.180000  2252.122778      0.273699    4.057222\nexponential        2266.526111  1874.348889     13.644708  392.177222\nlinear             2341.683889  2262.405000      2.510921   79.278889\nlogarithmic        2182.081111  2016.264444      3.266900  165.816667",
      "text/html": "<div>\n<style scoped>\n    .dataframe tbody tr th:only-of-type {\n        vertical-align: middle;\n    }\n\n    .dataframe tbody tr th {\n        vertical-align: top;\n    }\n\n    .dataframe thead th {\n        text-align: right;\n    }\n</style>\n<table border=\"1\" class=\"dataframe\">\n  <thead>\n    <tr style=\"text-align: right;\">\n      <th></th>\n      <th>initial_cost</th>\n      <th>best_cost</th>\n      <th>elapsed_time</th>\n      <th>cost_diff</th>\n    </tr>\n    <tr>\n      <th>cooling_schedule</th>\n      <th></th>\n      <th></th>\n      <th></th>\n      <th></th>\n    </tr>\n  </thead>\n  <tbody>\n    <tr>\n      <th>bolzmann</th>\n      <td>2306.345556</td>\n      <td>2235.065556</td>\n      <td>1.246101</td>\n      <td>71.280000</td>\n    </tr>\n    <tr>\n      <th>cauchy</th>\n      <td>2256.180000</td>\n      <td>2252.122778</td>\n      <td>0.273699</td>\n      <td>4.057222</td>\n    </tr>\n    <tr>\n      <th>exponential</th>\n      <td>2266.526111</td>\n      <td>1874.348889</td>\n      <td>13.644708</td>\n      <td>392.177222</td>\n    </tr>\n    <tr>\n      <th>linear</th>\n      <td>2341.683889</td>\n      <td>2262.405000</td>\n      <td>2.510921</td>\n      <td>79.278889</td>\n    </tr>\n    <tr>\n      <th>logarithmic</th>\n      <td>2182.081111</td>\n      <td>2016.264444</td>\n      <td>3.266900</td>\n      <td>165.816667</td>\n    </tr>\n  </tbody>\n</table>\n</div>"
     },
     "execution_count": 20,
     "metadata": {},
     "output_type": "execute_result"
    }
   ],
   "source": [
    "means_by_cooling_schedule = df.groupby('cooling_schedule').mean()\n",
    "means_by_cooling_schedule.head()"
   ],
   "metadata": {
    "collapsed": false,
    "pycharm": {
     "name": "#%%\n"
    }
   }
  },
  {
   "cell_type": "code",
   "execution_count": 21,
   "outputs": [
    {
     "data": {
      "text/plain": "<AxesSubplot:xlabel='cooling_schedule'>"
     },
     "execution_count": 21,
     "metadata": {},
     "output_type": "execute_result"
    },
    {
     "data": {
      "text/plain": "<Figure size 432x288 with 1 Axes>",
      "image/png": "[encoded data removed]"
     },
     "metadata": {
      "needs_background": "light"
     },
     "output_type": "display_data"
    }
   ],
   "source": [
    "means_by_cooling_schedule.plot(y='best_cost', kind='bar')"
   ],
   "metadata": {
    "collapsed": false,
    "pycharm": {
     "name": "#%%\n"
    }
   }
  },
  {
   "cell_type": "code",
   "execution_count": 22,
   "outputs": [
    {
     "data": {
      "text/plain": "<AxesSubplot:xlabel='cooling_schedule'>"
     },
     "execution_count": 22,
     "metadata": {},
     "output_type": "execute_result"
    },
    {
     "data": {
      "text/plain": "<Figure size 432x288 with 1 Axes>",
      "image/png": "[encoded data removed]"
     },
     "metadata": {
      "needs_background": "light"
     },
     "output_type": "display_data"
    }
   ],
   "source": [
    "means_by_cooling_schedule.plot(y='cost_diff', kind='bar')"
   ],
   "metadata": {
    "collapsed": false,
    "pycharm": {
     "name": "#%%\n"
    }
   }
  },
  {
   "cell_type": "code",
   "execution_count": 23,
   "outputs": [
    {
     "data": {
      "text/plain": "<AxesSubplot:xlabel='cooling_schedule'>"
     },
     "execution_count": 23,
     "metadata": {},
     "output_type": "execute_result"
    },
    {
     "data": {
      "text/plain": "<Figure size 432x288 with 1 Axes>",
      "image/png": "[encoded data removed]"
     },
     "metadata": {
      "needs_background": "light"
     },
     "output_type": "display_data"
    }
   ],
   "source": [
    "means_by_cooling_schedule.plot(y='elapsed_time', kind='bar')"
   ],
   "metadata": {
    "collapsed": false,
    "pycharm": {
     "name": "#%%\n"
    }
   }
  },
  {
   "cell_type": "code",
   "execution_count": 24,
   "outputs": [
    {
     "data": {
      "text/plain": "              parameters cooling_schedule  initial_cost  best_cost  \\\n35   (100, 20, 5, 0.999)      exponential       2255.38    1664.88   \n32   (100, 20, 3, 0.999)      exponential       2305.00    1480.32   \n29   (100, 20, 1, 0.999)      exponential       2220.02    1364.08   \n26    (80, 15, 5, 0.999)      exponential       2325.22    1565.12   \n23    (80, 15, 3, 0.999)      exponential       2276.38    1439.40   \n..                   ...              ...           ...        ...   \n176  (100, 20, 3, 0.999)        quadratic       2176.88    2171.10   \n148    (20, 5, 3, 0.995)        quadratic       2178.14    2176.04   \n157   (50, 10, 3, 0.995)        quadratic       2183.92    2181.12   \n153    (50, 10, 1, 0.95)        quadratic       2206.62    2204.12   \n146    (20, 5, 1, 0.999)        quadratic       2184.24    2184.24   \n\n     elapsed_time  cost_diff  \n35      46.547811     590.50  \n32      45.266026     824.68  \n29      39.882143     855.94  \n26      37.880171     760.10  \n23      34.940459     836.98  \n..            ...        ...  \n176      0.182195       5.78  \n148      0.180451       2.10  \n157      0.166059       2.80  \n153      0.160657       2.50  \n146      0.148696       0.00  \n\n[216 rows x 6 columns]",
      "text/html": "<div>\n<style scoped>\n    .dataframe tbody tr th:only-of-type {\n        vertical-align: middle;\n    }\n\n    .dataframe tbody tr th {\n        vertical-align: top;\n    }\n\n    .dataframe thead th {\n        text-align: right;\n    }\n</style>\n<table border=\"1\" class=\"dataframe\">\n  <thead>\n    <tr style=\"text-align: right;\">\n      <th></th>\n      <th>parameters</th>\n      <th>cooling_schedule</th>\n      <th>initial_cost</th>\n      <th>best_cost</th>\n      <th>elapsed_time</th>\n      <th>cost_diff</th>\n    </tr>\n  </thead>\n  <tbody>\n    <tr>\n      <th>35</th>\n      <td>(100, 20, 5, 0.999)</td>\n      <td>exponential</td>\n      <td>2255.38</td>\n      <td>1664.88</td>\n      <td>46.547811</td>\n      <td>590.50</td>\n    </tr>\n    <tr>\n      <th>32</th>\n      <td>(100, 20, 3, 0.999)</td>\n      <td>exponential</td>\n      <td>2305.00</td>\n      <td>1480.32</td>\n      <td>45.266026</td>\n      <td>824.68</td>\n    </tr>\n    <tr>\n      <th>29</th>\n      <td>(100, 20, 1, 0.999)</td>\n      <td>exponential</td>\n      <td>2220.02</td>\n      <td>1364.08</td>\n      <td>39.882143</td>\n      <td>855.94</td>\n    </tr>\n    <tr>\n      <th>26</th>\n      <td>(80, 15, 5, 0.999)</td>\n      <td>exponential</td>\n      <td>2325.22</td>\n      <td>1565.12</td>\n      <td>37.880171</td>\n      <td>760.10</td>\n    </tr>\n    <tr>\n      <th>23</th>\n      <td>(80, 15, 3, 0.999)</td>\n      <td>exponential</td>\n      <td>2276.38</td>\n      <td>1439.40</td>\n      <td>34.940459</td>\n      <td>836.98</td>\n    </tr>\n    <tr>\n      <th>...</th>\n      <td>...</td>\n      <td>...</td>\n      <td>...</td>\n      <td>...</td>\n      <td>...</td>\n      <td>...</td>\n    </tr>\n    <tr>\n      <th>176</th>\n      <td>(100, 20, 3, 0.999)</td>\n      <td>quadratic</td>\n      <td>2176.88</td>\n      <td>2171.10</td>\n      <td>0.182195</td>\n      <td>5.78</td>\n    </tr>\n    <tr>\n      <th>148</th>\n      <td>(20, 5, 3, 0.995)</td>\n      <td>quadratic</td>\n      <td>2178.14</td>\n      <td>2176.04</td>\n      <td>0.180451</td>\n      <td>2.10</td>\n    </tr>\n    <tr>\n      <th>157</th>\n      <td>(50, 10, 3, 0.995)</td>\n      <td>quadratic</td>\n      <td>2183.92</td>\n      <td>2181.12</td>\n      <td>0.166059</td>\n      <td>2.80</td>\n    </tr>\n    <tr>\n      <th>153</th>\n      <td>(50, 10, 1, 0.95)</td>\n      <td>quadratic</td>\n      <td>2206.62</td>\n      <td>2204.12</td>\n      <td>0.160657</td>\n      <td>2.50</td>\n    </tr>\n    <tr>\n      <th>146</th>\n      <td>(20, 5, 1, 0.999)</td>\n      <td>quadratic</td>\n      <td>2184.24</td>\n      <td>2184.24</td>\n      <td>0.148696</td>\n      <td>0.00</td>\n    </tr>\n  </tbody>\n</table>\n<p>216 rows × 6 columns</p>\n</div>"
     },
     "execution_count": 24,
     "metadata": {},
     "output_type": "execute_result"
    }
   ],
   "source": [
    "df.sort_values('elapsed_time', ascending=False)"
   ],
   "metadata": {
    "collapsed": false,
    "pycharm": {
     "name": "#%%\n"
    }
   }
  },
  {
   "cell_type": "code",
   "execution_count": null,
   "outputs": [],
   "source": [],
   "metadata": {
    "collapsed": false,
    "pycharm": {
     "name": "#%%\n"
    }
   }
  }
 ],
 "metadata": {
  "kernelspec": {
   "display_name": "Python 3",
   "language": "python",
   "name": "python3"
  },
  "language_info": {
   "codemirror_mode": {
    "name": "ipython",
    "version": 2
   },
   "file_extension": ".py",
   "mimetype": "text/x-python",
   "name": "python",
   "nbconvert_exporter": "python",
   "pygments_lexer": "ipython2",
   "version": "2.7.6"
  }
 },
 "nbformat": 4,
 "nbformat_minor": 0
}