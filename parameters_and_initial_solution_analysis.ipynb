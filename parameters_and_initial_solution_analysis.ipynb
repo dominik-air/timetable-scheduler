{
 "cells": [
  {
   "cell_type": "code",
   "execution_count": 133,
   "metadata": {
    "collapsed": true
   },
   "outputs": [],
   "source": [
    "import json\n",
    "\n",
    "cooling_schedules = [\"exponential\", \"bolzmann\", \"cauchy\", \"linear\", \"quadratic\", \"logarithmic\"]\n",
    "\n",
    "\n",
    "cooling_schedule_data = {}\n",
    "for cooling_schedule in cooling_schedules:\n",
    "    with open(f'statistics/{cooling_schedule}_cooling_schedule.json', 'r') as file:\n",
    "        data = json.load(file)\n",
    "        for parameters, results in data.items():\n",
    "            if parameters not in cooling_schedule_data.keys():\n",
    "                cooling_schedule_data[parameters] = results\n",
    "            else:\n",
    "                cooling_schedule_data[parameters] += results\n"
   ]
  },
  {
   "cell_type": "code",
   "execution_count": 134,
   "outputs": [
    {
     "name": "stdout",
     "output_type": "stream",
     "text": [
      "<class 'pandas.core.frame.DataFrame'>\n",
      "RangeIndex: 36 entries, 0 to 35\n",
      "Data columns (total 5 columns):\n",
      " #   Column        Non-Null Count  Dtype  \n",
      "---  ------        --------------  -----  \n",
      " 0   parameters    36 non-null     object \n",
      " 1   initial_cost  36 non-null     float64\n",
      " 2   best_cost     36 non-null     float64\n",
      " 3   elapsed_time  36 non-null     object \n",
      " 4   cost_diff     36 non-null     float64\n",
      "dtypes: float64(3), object(2)\n",
      "memory usage: 1.5+ KB\n"
     ]
    }
   ],
   "source": [
    "import pandas as pd\n",
    "import numpy as np\n",
    "\n",
    "mean_initial_solutions = []\n",
    "all_initial_solutions = []\n",
    "mean_best_solutions = []\n",
    "mean_times = []\n",
    "all_initial_solution_resets = []\n",
    "\n",
    "for parameters, results in cooling_schedule_data.items():\n",
    "    mean_initial = sum([result['initial_cost'] for result in results])/len(results)\n",
    "    all_initial_solutions += [result['initial_cost'] for result in results]\n",
    "    mean_best = sum([result['best_cost'] for result in results])/len(results)\n",
    "    mean_time = sum([result['elapsed_time'] for result in results])/len(results)\n",
    "    mean_initial_solutions.append(mean_initial)\n",
    "    mean_best_solutions.append(mean_best)\n",
    "    mean_times.append(mean_time)\n",
    "    all_initial_solution_resets += [result['initial_solutions_resets'] for result in results]\n",
    "\n",
    "df = pd.DataFrame(np.array([list(cooling_schedule_data.keys()), mean_initial_solutions, mean_best_solutions, mean_times]).T, columns=['parameters', 'initial_cost', 'best_cost', 'elapsed_time'])\n",
    "\n",
    "df['initial_cost'] = df['initial_cost'].astype('float')\n",
    "df['best_cost'] = df['best_cost'].astype('float')\n",
    "df['cost_diff'] = df['initial_cost'] - df['best_cost']\n",
    "\n",
    "df.info()"
   ],
   "metadata": {
    "collapsed": false,
    "pycharm": {
     "name": "#%%\n"
    }
   }
  },
  {
   "cell_type": "code",
   "execution_count": 135,
   "outputs": [
    {
     "data": {
      "text/plain": "             parameters  initial_cost    best_cost        elapsed_time  \\\n20   (80, 15, 1, 0.999)   2268.443333  2010.123333   6.666942667961121   \n29  (100, 20, 1, 0.999)   2240.613333  2001.736667   7.972838091850281   \n11   (50, 10, 1, 0.999)   2231.590000  2005.593333   5.926294120152791   \n19   (80, 15, 1, 0.995)   2254.773333  2053.593333  2.5542216698328652   \n23   (80, 15, 3, 0.999)   2259.103333  2059.823333   7.266439211368561   \n2     (20, 5, 1, 0.999)   2289.880000  2097.743333   4.806791826089223   \n32  (100, 20, 3, 0.999)   2232.356667  2042.370000   8.747889995574951   \n14   (50, 10, 3, 0.999)   2271.640000  2092.766667   6.153028472264608   \n28  (100, 20, 1, 0.995)   2277.736667  2102.633333   2.490139428774516   \n5     (20, 5, 3, 0.999)   2283.043333  2114.480000   4.915162591139476   \n\n     cost_diff  \n20  258.320000  \n29  238.876667  \n11  225.996667  \n19  201.180000  \n23  199.280000  \n2   192.136667  \n32  189.986667  \n14  178.873333  \n28  175.103333  \n5   168.563333  ",
      "text/html": "<div>\n<style scoped>\n    .dataframe tbody tr th:only-of-type {\n        vertical-align: middle;\n    }\n\n    .dataframe tbody tr th {\n        vertical-align: top;\n    }\n\n    .dataframe thead th {\n        text-align: right;\n    }\n</style>\n<table border=\"1\" class=\"dataframe\">\n  <thead>\n    <tr style=\"text-align: right;\">\n      <th></th>\n      <th>parameters</th>\n      <th>initial_cost</th>\n      <th>best_cost</th>\n      <th>elapsed_time</th>\n      <th>cost_diff</th>\n    </tr>\n  </thead>\n  <tbody>\n    <tr>\n      <th>20</th>\n      <td>(80, 15, 1, 0.999)</td>\n      <td>2268.443333</td>\n      <td>2010.123333</td>\n      <td>6.666942667961121</td>\n      <td>258.320000</td>\n    </tr>\n    <tr>\n      <th>29</th>\n      <td>(100, 20, 1, 0.999)</td>\n      <td>2240.613333</td>\n      <td>2001.736667</td>\n      <td>7.972838091850281</td>\n      <td>238.876667</td>\n    </tr>\n    <tr>\n      <th>11</th>\n      <td>(50, 10, 1, 0.999)</td>\n      <td>2231.590000</td>\n      <td>2005.593333</td>\n      <td>5.926294120152791</td>\n      <td>225.996667</td>\n    </tr>\n    <tr>\n      <th>19</th>\n      <td>(80, 15, 1, 0.995)</td>\n      <td>2254.773333</td>\n      <td>2053.593333</td>\n      <td>2.5542216698328652</td>\n      <td>201.180000</td>\n    </tr>\n    <tr>\n      <th>23</th>\n      <td>(80, 15, 3, 0.999)</td>\n      <td>2259.103333</td>\n      <td>2059.823333</td>\n      <td>7.266439211368561</td>\n      <td>199.280000</td>\n    </tr>\n    <tr>\n      <th>2</th>\n      <td>(20, 5, 1, 0.999)</td>\n      <td>2289.880000</td>\n      <td>2097.743333</td>\n      <td>4.806791826089223</td>\n      <td>192.136667</td>\n    </tr>\n    <tr>\n      <th>32</th>\n      <td>(100, 20, 3, 0.999)</td>\n      <td>2232.356667</td>\n      <td>2042.370000</td>\n      <td>8.747889995574951</td>\n      <td>189.986667</td>\n    </tr>\n    <tr>\n      <th>14</th>\n      <td>(50, 10, 3, 0.999)</td>\n      <td>2271.640000</td>\n      <td>2092.766667</td>\n      <td>6.153028472264608</td>\n      <td>178.873333</td>\n    </tr>\n    <tr>\n      <th>28</th>\n      <td>(100, 20, 1, 0.995)</td>\n      <td>2277.736667</td>\n      <td>2102.633333</td>\n      <td>2.490139428774516</td>\n      <td>175.103333</td>\n    </tr>\n    <tr>\n      <th>5</th>\n      <td>(20, 5, 3, 0.999)</td>\n      <td>2283.043333</td>\n      <td>2114.480000</td>\n      <td>4.915162591139476</td>\n      <td>168.563333</td>\n    </tr>\n  </tbody>\n</table>\n</div>"
     },
     "execution_count": 135,
     "metadata": {},
     "output_type": "execute_result"
    }
   ],
   "source": [
    "df.sort_values('cost_diff', ascending=False).head(10)"
   ],
   "metadata": {
    "collapsed": false,
    "pycharm": {
     "name": "#%%\n"
    }
   }
  },
  {
   "cell_type": "code",
   "execution_count": 136,
   "outputs": [
    {
     "data": {
      "text/plain": "             parameters  initial_cost    best_cost        elapsed_time  \\\n34  (100, 20, 5, 0.995)   2289.956667  2228.760000  2.9833993474642435   \n24    (80, 15, 5, 0.95)   2265.413333  2204.310000  1.9985491355260214   \n16   (50, 10, 5, 0.995)   2267.693333  2206.716667  2.1745485345522564   \n12    (50, 10, 3, 0.95)   2291.643333  2233.516667  1.4879457592964171   \n7     (20, 5, 5, 0.995)   2276.746667  2223.216667  1.6112760225931804   \n0      (20, 5, 1, 0.95)   2246.513333  2204.876667  0.8816733479499816   \n15    (50, 10, 5, 0.95)   2213.483333  2173.330000  1.5972079555193583   \n33   (100, 20, 5, 0.95)   2259.700000  2224.710000  1.6590237498283387   \n3      (20, 5, 3, 0.95)   2232.553333  2211.796667  1.0129173119862875   \n6      (20, 5, 5, 0.95)   2248.570000  2231.916667   0.908750859896342   \n\n    cost_diff  \n34  61.196667  \n24  61.103333  \n16  60.976667  \n12  58.126667  \n7   53.530000  \n0   41.636667  \n15  40.153333  \n33  34.990000  \n3   20.756667  \n6   16.653333  ",
      "text/html": "<div>\n<style scoped>\n    .dataframe tbody tr th:only-of-type {\n        vertical-align: middle;\n    }\n\n    .dataframe tbody tr th {\n        vertical-align: top;\n    }\n\n    .dataframe thead th {\n        text-align: right;\n    }\n</style>\n<table border=\"1\" class=\"dataframe\">\n  <thead>\n    <tr style=\"text-align: right;\">\n      <th></th>\n      <th>parameters</th>\n      <th>initial_cost</th>\n      <th>best_cost</th>\n      <th>elapsed_time</th>\n      <th>cost_diff</th>\n    </tr>\n  </thead>\n  <tbody>\n    <tr>\n      <th>34</th>\n      <td>(100, 20, 5, 0.995)</td>\n      <td>2289.956667</td>\n      <td>2228.760000</td>\n      <td>2.9833993474642435</td>\n      <td>61.196667</td>\n    </tr>\n    <tr>\n      <th>24</th>\n      <td>(80, 15, 5, 0.95)</td>\n      <td>2265.413333</td>\n      <td>2204.310000</td>\n      <td>1.9985491355260214</td>\n      <td>61.103333</td>\n    </tr>\n    <tr>\n      <th>16</th>\n      <td>(50, 10, 5, 0.995)</td>\n      <td>2267.693333</td>\n      <td>2206.716667</td>\n      <td>2.1745485345522564</td>\n      <td>60.976667</td>\n    </tr>\n    <tr>\n      <th>12</th>\n      <td>(50, 10, 3, 0.95)</td>\n      <td>2291.643333</td>\n      <td>2233.516667</td>\n      <td>1.4879457592964171</td>\n      <td>58.126667</td>\n    </tr>\n    <tr>\n      <th>7</th>\n      <td>(20, 5, 5, 0.995)</td>\n      <td>2276.746667</td>\n      <td>2223.216667</td>\n      <td>1.6112760225931804</td>\n      <td>53.530000</td>\n    </tr>\n    <tr>\n      <th>0</th>\n      <td>(20, 5, 1, 0.95)</td>\n      <td>2246.513333</td>\n      <td>2204.876667</td>\n      <td>0.8816733479499816</td>\n      <td>41.636667</td>\n    </tr>\n    <tr>\n      <th>15</th>\n      <td>(50, 10, 5, 0.95)</td>\n      <td>2213.483333</td>\n      <td>2173.330000</td>\n      <td>1.5972079555193583</td>\n      <td>40.153333</td>\n    </tr>\n    <tr>\n      <th>33</th>\n      <td>(100, 20, 5, 0.95)</td>\n      <td>2259.700000</td>\n      <td>2224.710000</td>\n      <td>1.6590237498283387</td>\n      <td>34.990000</td>\n    </tr>\n    <tr>\n      <th>3</th>\n      <td>(20, 5, 3, 0.95)</td>\n      <td>2232.553333</td>\n      <td>2211.796667</td>\n      <td>1.0129173119862875</td>\n      <td>20.756667</td>\n    </tr>\n    <tr>\n      <th>6</th>\n      <td>(20, 5, 5, 0.95)</td>\n      <td>2248.570000</td>\n      <td>2231.916667</td>\n      <td>0.908750859896342</td>\n      <td>16.653333</td>\n    </tr>\n  </tbody>\n</table>\n</div>"
     },
     "execution_count": 136,
     "metadata": {},
     "output_type": "execute_result"
    }
   ],
   "source": [
    "df.sort_values('cost_diff', ascending=False).tail(10)"
   ],
   "metadata": {
    "collapsed": false,
    "pycharm": {
     "name": "#%%\n"
    }
   }
  },
  {
   "cell_type": "code",
   "execution_count": 137,
   "outputs": [
    {
     "data": {
      "text/plain": "             parameters  initial_cost    best_cost        elapsed_time  \\\n29  (100, 20, 1, 0.999)   2240.613333  2001.736667   7.972838091850281   \n11   (50, 10, 1, 0.999)   2231.590000  2005.593333   5.926294120152791   \n20   (80, 15, 1, 0.999)   2268.443333  2010.123333   6.666942667961121   \n32  (100, 20, 3, 0.999)   2232.356667  2042.370000   8.747889995574951   \n19   (80, 15, 1, 0.995)   2254.773333  2053.593333  2.5542216698328652   \n\n     cost_diff  \n29  238.876667  \n11  225.996667  \n20  258.320000  \n32  189.986667  \n19  201.180000  ",
      "text/html": "<div>\n<style scoped>\n    .dataframe tbody tr th:only-of-type {\n        vertical-align: middle;\n    }\n\n    .dataframe tbody tr th {\n        vertical-align: top;\n    }\n\n    .dataframe thead th {\n        text-align: right;\n    }\n</style>\n<table border=\"1\" class=\"dataframe\">\n  <thead>\n    <tr style=\"text-align: right;\">\n      <th></th>\n      <th>parameters</th>\n      <th>initial_cost</th>\n      <th>best_cost</th>\n      <th>elapsed_time</th>\n      <th>cost_diff</th>\n    </tr>\n  </thead>\n  <tbody>\n    <tr>\n      <th>29</th>\n      <td>(100, 20, 1, 0.999)</td>\n      <td>2240.613333</td>\n      <td>2001.736667</td>\n      <td>7.972838091850281</td>\n      <td>238.876667</td>\n    </tr>\n    <tr>\n      <th>11</th>\n      <td>(50, 10, 1, 0.999)</td>\n      <td>2231.590000</td>\n      <td>2005.593333</td>\n      <td>5.926294120152791</td>\n      <td>225.996667</td>\n    </tr>\n    <tr>\n      <th>20</th>\n      <td>(80, 15, 1, 0.999)</td>\n      <td>2268.443333</td>\n      <td>2010.123333</td>\n      <td>6.666942667961121</td>\n      <td>258.320000</td>\n    </tr>\n    <tr>\n      <th>32</th>\n      <td>(100, 20, 3, 0.999)</td>\n      <td>2232.356667</td>\n      <td>2042.370000</td>\n      <td>8.747889995574951</td>\n      <td>189.986667</td>\n    </tr>\n    <tr>\n      <th>19</th>\n      <td>(80, 15, 1, 0.995)</td>\n      <td>2254.773333</td>\n      <td>2053.593333</td>\n      <td>2.5542216698328652</td>\n      <td>201.180000</td>\n    </tr>\n  </tbody>\n</table>\n</div>"
     },
     "execution_count": 137,
     "metadata": {},
     "output_type": "execute_result"
    }
   ],
   "source": [
    "df.sort_values('best_cost').head()"
   ],
   "metadata": {
    "collapsed": false,
    "pycharm": {
     "name": "#%%\n"
    }
   }
  },
  {
   "cell_type": "code",
   "execution_count": 138,
   "outputs": [
    {
     "data": {
      "text/plain": "             parameters  initial_cost    best_cost        elapsed_time  \\\n7     (20, 5, 5, 0.995)   2276.746667  2223.216667  1.6112760225931804   \n33   (100, 20, 5, 0.95)   2259.700000  2224.710000  1.6590237498283387   \n34  (100, 20, 5, 0.995)   2289.956667  2228.760000  2.9833993474642435   \n6      (20, 5, 5, 0.95)   2248.570000  2231.916667   0.908750859896342   \n12    (50, 10, 3, 0.95)   2291.643333  2233.516667  1.4879457592964171   \n\n    cost_diff  \n7   53.530000  \n33  34.990000  \n34  61.196667  \n6   16.653333  \n12  58.126667  ",
      "text/html": "<div>\n<style scoped>\n    .dataframe tbody tr th:only-of-type {\n        vertical-align: middle;\n    }\n\n    .dataframe tbody tr th {\n        vertical-align: top;\n    }\n\n    .dataframe thead th {\n        text-align: right;\n    }\n</style>\n<table border=\"1\" class=\"dataframe\">\n  <thead>\n    <tr style=\"text-align: right;\">\n      <th></th>\n      <th>parameters</th>\n      <th>initial_cost</th>\n      <th>best_cost</th>\n      <th>elapsed_time</th>\n      <th>cost_diff</th>\n    </tr>\n  </thead>\n  <tbody>\n    <tr>\n      <th>7</th>\n      <td>(20, 5, 5, 0.995)</td>\n      <td>2276.746667</td>\n      <td>2223.216667</td>\n      <td>1.6112760225931804</td>\n      <td>53.530000</td>\n    </tr>\n    <tr>\n      <th>33</th>\n      <td>(100, 20, 5, 0.95)</td>\n      <td>2259.700000</td>\n      <td>2224.710000</td>\n      <td>1.6590237498283387</td>\n      <td>34.990000</td>\n    </tr>\n    <tr>\n      <th>34</th>\n      <td>(100, 20, 5, 0.995)</td>\n      <td>2289.956667</td>\n      <td>2228.760000</td>\n      <td>2.9833993474642435</td>\n      <td>61.196667</td>\n    </tr>\n    <tr>\n      <th>6</th>\n      <td>(20, 5, 5, 0.95)</td>\n      <td>2248.570000</td>\n      <td>2231.916667</td>\n      <td>0.908750859896342</td>\n      <td>16.653333</td>\n    </tr>\n    <tr>\n      <th>12</th>\n      <td>(50, 10, 3, 0.95)</td>\n      <td>2291.643333</td>\n      <td>2233.516667</td>\n      <td>1.4879457592964171</td>\n      <td>58.126667</td>\n    </tr>\n  </tbody>\n</table>\n</div>"
     },
     "execution_count": 138,
     "metadata": {},
     "output_type": "execute_result"
    }
   ],
   "source": [
    "df.sort_values('best_cost').tail()"
   ],
   "metadata": {
    "collapsed": false,
    "pycharm": {
     "name": "#%%\n"
    }
   }
  },
  {
   "cell_type": "code",
   "execution_count": 139,
   "outputs": [
    {
     "data": {
      "text/plain": "          parameters  initial_cost    best_cost        elapsed_time  \\\n0   (20, 5, 1, 0.95)   2246.513333  2204.876667  0.8816733479499816   \n6   (20, 5, 5, 0.95)   2248.570000  2231.916667   0.908750859896342   \n3   (20, 5, 3, 0.95)   2232.553333  2211.796667  1.0129173119862875   \n1  (20, 5, 1, 0.995)   2271.426667  2163.803333  1.4546193838119508   \n9  (50, 10, 1, 0.95)   2250.973333  2141.133333   1.474617564678192   \n\n    cost_diff  \n0   41.636667  \n6   16.653333  \n3   20.756667  \n1  107.623333  \n9  109.840000  ",
      "text/html": "<div>\n<style scoped>\n    .dataframe tbody tr th:only-of-type {\n        vertical-align: middle;\n    }\n\n    .dataframe tbody tr th {\n        vertical-align: top;\n    }\n\n    .dataframe thead th {\n        text-align: right;\n    }\n</style>\n<table border=\"1\" class=\"dataframe\">\n  <thead>\n    <tr style=\"text-align: right;\">\n      <th></th>\n      <th>parameters</th>\n      <th>initial_cost</th>\n      <th>best_cost</th>\n      <th>elapsed_time</th>\n      <th>cost_diff</th>\n    </tr>\n  </thead>\n  <tbody>\n    <tr>\n      <th>0</th>\n      <td>(20, 5, 1, 0.95)</td>\n      <td>2246.513333</td>\n      <td>2204.876667</td>\n      <td>0.8816733479499816</td>\n      <td>41.636667</td>\n    </tr>\n    <tr>\n      <th>6</th>\n      <td>(20, 5, 5, 0.95)</td>\n      <td>2248.570000</td>\n      <td>2231.916667</td>\n      <td>0.908750859896342</td>\n      <td>16.653333</td>\n    </tr>\n    <tr>\n      <th>3</th>\n      <td>(20, 5, 3, 0.95)</td>\n      <td>2232.553333</td>\n      <td>2211.796667</td>\n      <td>1.0129173119862875</td>\n      <td>20.756667</td>\n    </tr>\n    <tr>\n      <th>1</th>\n      <td>(20, 5, 1, 0.995)</td>\n      <td>2271.426667</td>\n      <td>2163.803333</td>\n      <td>1.4546193838119508</td>\n      <td>107.623333</td>\n    </tr>\n    <tr>\n      <th>9</th>\n      <td>(50, 10, 1, 0.95)</td>\n      <td>2250.973333</td>\n      <td>2141.133333</td>\n      <td>1.474617564678192</td>\n      <td>109.840000</td>\n    </tr>\n  </tbody>\n</table>\n</div>"
     },
     "execution_count": 139,
     "metadata": {},
     "output_type": "execute_result"
    }
   ],
   "source": [
    "df.sort_values('elapsed_time').head()"
   ],
   "metadata": {
    "collapsed": false,
    "pycharm": {
     "name": "#%%\n"
    }
   }
  },
  {
   "cell_type": "code",
   "execution_count": 140,
   "outputs": [
    {
     "data": {
      "text/plain": "             parameters  initial_cost    best_cost       elapsed_time  \\\n23   (80, 15, 3, 0.999)   2259.103333  2059.823333  7.266439211368561   \n26   (80, 15, 5, 0.999)   2272.160000  2111.680000   7.81914119720459   \n29  (100, 20, 1, 0.999)   2240.613333  2001.736667  7.972838091850281   \n32  (100, 20, 3, 0.999)   2232.356667  2042.370000  8.747889995574951   \n35  (100, 20, 5, 0.999)   2246.360000  2108.833333  9.143894879023234   \n\n     cost_diff  \n23  199.280000  \n26  160.480000  \n29  238.876667  \n32  189.986667  \n35  137.526667  ",
      "text/html": "<div>\n<style scoped>\n    .dataframe tbody tr th:only-of-type {\n        vertical-align: middle;\n    }\n\n    .dataframe tbody tr th {\n        vertical-align: top;\n    }\n\n    .dataframe thead th {\n        text-align: right;\n    }\n</style>\n<table border=\"1\" class=\"dataframe\">\n  <thead>\n    <tr style=\"text-align: right;\">\n      <th></th>\n      <th>parameters</th>\n      <th>initial_cost</th>\n      <th>best_cost</th>\n      <th>elapsed_time</th>\n      <th>cost_diff</th>\n    </tr>\n  </thead>\n  <tbody>\n    <tr>\n      <th>23</th>\n      <td>(80, 15, 3, 0.999)</td>\n      <td>2259.103333</td>\n      <td>2059.823333</td>\n      <td>7.266439211368561</td>\n      <td>199.280000</td>\n    </tr>\n    <tr>\n      <th>26</th>\n      <td>(80, 15, 5, 0.999)</td>\n      <td>2272.160000</td>\n      <td>2111.680000</td>\n      <td>7.81914119720459</td>\n      <td>160.480000</td>\n    </tr>\n    <tr>\n      <th>29</th>\n      <td>(100, 20, 1, 0.999)</td>\n      <td>2240.613333</td>\n      <td>2001.736667</td>\n      <td>7.972838091850281</td>\n      <td>238.876667</td>\n    </tr>\n    <tr>\n      <th>32</th>\n      <td>(100, 20, 3, 0.999)</td>\n      <td>2232.356667</td>\n      <td>2042.370000</td>\n      <td>8.747889995574951</td>\n      <td>189.986667</td>\n    </tr>\n    <tr>\n      <th>35</th>\n      <td>(100, 20, 5, 0.999)</td>\n      <td>2246.360000</td>\n      <td>2108.833333</td>\n      <td>9.143894879023234</td>\n      <td>137.526667</td>\n    </tr>\n  </tbody>\n</table>\n</div>"
     },
     "execution_count": 140,
     "metadata": {},
     "output_type": "execute_result"
    }
   ],
   "source": [
    "df.sort_values('elapsed_time').tail()"
   ],
   "metadata": {
    "collapsed": false,
    "pycharm": {
     "name": "#%%\n"
    }
   }
  },
  {
   "cell_type": "code",
   "execution_count": 141,
   "outputs": [
    {
     "data": {
      "text/plain": "0     1273\n1      455\n2      204\n3      104\n4       49\n5       22\n6       20\n7       19\n9        6\n8        4\n10       2\n15       1\n11       1\nName: initial_solution_resets, dtype: int64"
     },
     "execution_count": 141,
     "metadata": {},
     "output_type": "execute_result"
    }
   ],
   "source": [
    "initial_solution_resets_df = pd.DataFrame(all_initial_solution_resets, columns=['initial_solution_resets'])\n",
    "initial_solution_resets_df.initial_solution_resets.value_counts()"
   ],
   "metadata": {
    "collapsed": false,
    "pycharm": {
     "name": "#%%\n"
    }
   }
  },
  {
   "cell_type": "code",
   "execution_count": 142,
   "outputs": [
    {
     "data": {
      "text/plain": "<AxesSubplot:xlabel='initial_solution_resets', ylabel='Count'>"
     },
     "execution_count": 142,
     "metadata": {},
     "output_type": "execute_result"
    },
    {
     "data": {
      "text/plain": "<Figure size 432x288 with 1 Axes>",
      "image/png": "[encoded data removed]"
     },
     "metadata": {
      "needs_background": "light"
     },
     "output_type": "display_data"
    }
   ],
   "source": [
    "import seaborn as sns\n",
    "\n",
    "sns.histplot(x='initial_solution_resets', data=initial_solution_resets_df)"
   ],
   "metadata": {
    "collapsed": false,
    "pycharm": {
     "name": "#%%\n"
    }
   }
  },
  {
   "cell_type": "code",
   "execution_count": 143,
   "outputs": [
    {
     "data": {
      "text/plain": "0     0.589352\n1     0.210648\n2     0.094444\n3     0.048148\n4     0.022685\n5     0.010185\n6     0.009259\n7     0.008796\n9     0.002778\n8     0.001852\n10    0.000926\n15    0.000463\n11    0.000463\nName: initial_solution_resets, dtype: float64"
     },
     "execution_count": 143,
     "metadata": {},
     "output_type": "execute_result"
    }
   ],
   "source": [
    "initial_solution_resets_df.initial_solution_resets.value_counts(normalize=True)"
   ],
   "metadata": {
    "collapsed": false,
    "pycharm": {
     "name": "#%%\n"
    }
   }
  },
  {
   "cell_type": "markdown",
   "source": [
    "Hipoteza: rozkład resetów rozwiązania początkowego zbiega w nieskończoności(dla dużych liczb) do rozkładu Benforda. https://pl.wikipedia.org/wiki/Rozkład_Benforda\n",
    "albo to https://en.wikipedia.org/wiki/Zipf%27s_law"
   ],
   "metadata": {
    "collapsed": false,
    "pycharm": {
     "name": "#%% md\n"
    }
   }
  },
  {
   "cell_type": "markdown",
   "source": [
    "## Rozkład rozwiązań początkowych"
   ],
   "metadata": {
    "collapsed": false,
    "pycharm": {
     "name": "#%% md\n"
    }
   }
  },
  {
   "cell_type": "code",
   "execution_count": 144,
   "outputs": [
    {
     "data": {
      "text/plain": "<AxesSubplot:ylabel='Count'>"
     },
     "execution_count": 144,
     "metadata": {},
     "output_type": "execute_result"
    },
    {
     "data": {
      "text/plain": "<Figure size 432x288 with 1 Axes>",
      "image/png": "[encoded data removed]"
     },
     "metadata": {
      "needs_background": "light"
     },
     "output_type": "display_data"
    }
   ],
   "source": [
    "sns.histplot(mean_initial_solutions)"
   ],
   "metadata": {
    "collapsed": false,
    "pycharm": {
     "name": "#%%\n"
    }
   }
  },
  {
   "cell_type": "code",
   "execution_count": 145,
   "outputs": [
    {
     "data": {
      "text/plain": "<AxesSubplot:ylabel='Count'>"
     },
     "execution_count": 145,
     "metadata": {},
     "output_type": "execute_result"
    },
    {
     "data": {
      "text/plain": "<Figure size 432x288 with 1 Axes>",
      "image/png": "[encoded data removed]"
     },
     "metadata": {
      "needs_background": "light"
     },
     "output_type": "display_data"
    }
   ],
   "source": [
    "sns.histplot(all_initial_solutions)"
   ],
   "metadata": {
    "collapsed": false,
    "pycharm": {
     "name": "#%%\n"
    }
   }
  },
  {
   "cell_type": "code",
   "execution_count": 153,
   "outputs": [
    {
     "data": {
      "text/plain": "<seaborn.axisgrid.FacetGrid at 0x227bc51c7f0>"
     },
     "execution_count": 153,
     "metadata": {},
     "output_type": "execute_result"
    },
    {
     "data": {
      "text/plain": "<Figure size 360x360 with 1 Axes>",
      "image/png": "[encoded data removed]"
     },
     "metadata": {
      "needs_background": "light"
     },
     "output_type": "display_data"
    }
   ],
   "source": [
    "sns.displot(all_initial_solutions, kind='hist')"
   ],
   "metadata": {
    "collapsed": false,
    "pycharm": {
     "name": "#%%\n"
    }
   }
  },
  {
   "cell_type": "code",
   "execution_count": null,
   "outputs": [],
   "source": [],
   "metadata": {
    "collapsed": false,
    "pycharm": {
     "name": "#%%\n"
    }
   }
  }
 ],
 "metadata": {
  "kernelspec": {
   "display_name": "Python 3",
   "language": "python",
   "name": "python3"
  },
  "language_info": {
   "codemirror_mode": {
    "name": "ipython",
    "version": 2
   },
   "file_extension": ".py",
   "mimetype": "text/x-python",
   "name": "python",
   "nbconvert_exporter": "python",
   "pygments_lexer": "ipython2",
   "version": "2.7.6"
  }
 },
 "nbformat": 4,
 "nbformat_minor": 0
}