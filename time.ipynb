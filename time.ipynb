{
 "cells": [
  {
   "cell_type": "code",
   "execution_count": 1,
   "outputs": [],
   "source": [
    "%load_ext snakeviz\n",
    "\n",
    "from simulated_annealing import test_SA, exponential_cooling_schedule\n",
    "\n"
   ],
   "metadata": {
    "collapsed": false,
    "pycharm": {
     "name": "#%%\n"
    }
   }
  },
  {
   "cell_type": "code",
   "execution_count": 2,
   "outputs": [
    {
     "name": "stdout",
     "output_type": "stream",
     "text": [
      "2659.0\n",
      "20\n",
      "19.8\n",
      "19.602\n",
      "19.40598\n",
      "19.211920199999998\n",
      "19.019800997999997\n",
      "18.82960298802\n",
      "18.641306958139797\n",
      "18.454893888558402\n",
      "18.27034494967282\n",
      "18.087641500176087\n",
      "17.906765085174328\n",
      "17.727697434322586\n",
      "17.550420459979357\n",
      "17.374916255379564\n",
      "17.20116709282577\n",
      "17.02915542189751\n",
      "16.858863867678537\n",
      "16.69027522900175\n",
      "16.52337247671173\n",
      "16.358138751944615\n",
      "16.19455736442517\n",
      "16.03261179078092\n",
      "15.872285672873108\n",
      "15.713562816144375\n",
      "15.556427187982933\n",
      "15.400862916103101\n",
      "15.246854286942071\n",
      "15.094385744072651\n",
      "14.943441886631923\n",
      "14.794007467765605\n",
      "14.64606739308795\n",
      "14.499606719157068\n",
      "14.354610651965498\n",
      "14.211064545445842\n",
      "14.068953899991383\n",
      "13.92826436099147\n",
      "13.788981717381555\n",
      "13.651091900207739\n",
      "13.514580981205661\n",
      "13.379435171393606\n",
      "13.24564081967967\n",
      "13.113184411482873\n",
      "12.982052567368044\n",
      "12.852232041694363\n",
      "12.72370972127742\n",
      "12.596472624064646\n",
      "12.470507897824\n",
      "12.345802818845758\n",
      "12.2223447906573\n",
      "12.100121342750727\n",
      "11.97912012932322\n",
      "11.859328928029989\n",
      "11.740735638749689\n",
      "11.623328282362191\n",
      "11.50709499953857\n",
      "11.392024049543183\n",
      "11.27810380904775\n",
      "11.165322770957273\n",
      "11.053669543247702\n",
      "10.943132847815225\n",
      "10.83370151933707\n",
      "10.7253645041437\n",
      "10.618110859102263\n",
      "10.51192975051124\n",
      "10.406810453006127\n",
      "10.302742348476066\n",
      "10.199714924991305\n",
      "10.097717775741392\n",
      "Best cost = 1925.0\n",
      " \n",
      "*** Profile stats marshalled to file 'C:\\\\Users\\\\HYPERB~1\\\\AppData\\\\Local\\\\Temp\\\\tmp6p18vfg1'. \n",
      "Embedding SnakeViz in this document...\n"
     ]
    },
    {
     "data": {
      "text/plain": "<IPython.core.display.HTML object>",
      "text/html": "\n<iframe id='snakeviz-7d2a111d-672a-11ec-be34-38002595faf5' frameborder=0 seamless width='100%' height='1000'></iframe>\n<script>document.getElementById(\"snakeviz-7d2a111d-672a-11ec-be34-38002595faf5\").setAttribute(\"src\", \"http://\" + document.location.hostname + \":8080/snakeviz/C%3A%5CUsers%5CHYPERB~1%5CAppData%5CLocal%5CTemp%5Ctmp6p18vfg1\")</script>\n"
     },
     "metadata": {},
     "output_type": "display_data"
    }
   ],
   "source": [
    "%snakeviz test_SA(exponential_cooling_schedule)"
   ],
   "metadata": {
    "collapsed": false,
    "pycharm": {
     "name": "#%%\n"
    }
   }
  },
  {
   "cell_type": "code",
   "execution_count": null,
   "outputs": [],
   "source": [],
   "metadata": {
    "collapsed": false,
    "pycharm": {
     "name": "#%%\n"
    }
   }
  }
 ],
 "metadata": {
  "kernelspec": {
   "display_name": "Python 3",
   "language": "python",
   "name": "python3"
  },
  "language_info": {
   "codemirror_mode": {
    "name": "ipython",
    "version": 2
   },
   "file_extension": ".py",
   "mimetype": "text/x-python",
   "name": "python",
   "nbconvert_exporter": "python",
   "pygments_lexer": "ipython2",
   "version": "2.7.6"
  }
 },
 "nbformat": 4,
 "nbformat_minor": 0
}