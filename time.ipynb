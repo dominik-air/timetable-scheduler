{
 "cells": [
  {
   "cell_type": "code",
   "execution_count": 1,
   "outputs": [],
   "source": [
    "%load_ext snakeviz\n",
    "\n",
    "from timetable_scheduler import SA\n",
    "\n"
   ],
   "metadata": {
    "collapsed": false,
    "pycharm": {
     "name": "#%%\n"
    }
   }
  },
  {
   "cell_type": "code",
   "execution_count": 3,
   "outputs": [
    {
     "name": "stdout",
     "output_type": "stream",
     "text": [
      "2128.0\n",
      "20\n",
      "18.0\n",
      "16.200000000000003\n",
      "14.580000000000002\n",
      "13.122\n",
      "11.809800000000001\n",
      "10.628820000000001\n",
      "9.565938000000001\n",
      "8.609344200000002\n",
      "7.748409780000002\n",
      "6.973568802000002\n",
      "6.276211921800002\n",
      "5.648590729620002\n",
      "5.083731656658001\n",
      "Best cost = 1907.0\n",
      " \n",
      "*** Profile stats marshalled to file 'C:\\\\Users\\\\HYPERB~1\\\\AppData\\\\Local\\\\Temp\\\\tmpfw5k50i1'. \n",
      "Embedding SnakeViz in this document...\n"
     ]
    },
    {
     "data": {
      "text/plain": "<IPython.core.display.HTML object>",
      "text/html": "\n<iframe id='snakeviz-94018808-67f1-11ec-951b-38002595faf5' frameborder=0 seamless width='100%' height='1000'></iframe>\n<script>document.getElementById(\"snakeviz-94018808-67f1-11ec-951b-38002595faf5\").setAttribute(\"src\", \"http://\" + document.location.hostname + \":8080/snakeviz/C%3A%5CUsers%5CHYPERB~1%5CAppData%5CLocal%5CTemp%5Ctmpfw5k50i1\")</script>\n"
     },
     "metadata": {},
     "output_type": "display_data"
    }
   ],
   "source": [
    "%snakeviz SA(alpha=0.9)"
   ],
   "metadata": {
    "collapsed": false,
    "pycharm": {
     "name": "#%%\n"
    }
   }
  },
  {
   "cell_type": "code",
   "execution_count": 2,
   "outputs": [],
   "source": [],
   "metadata": {
    "collapsed": false,
    "pycharm": {
     "name": "#%%\n"
    }
   }
  }
 ],
 "metadata": {
  "kernelspec": {
   "display_name": "Python 3",
   "language": "python",
   "name": "python3"
  },
  "language_info": {
   "codemirror_mode": {
    "name": "ipython",
    "version": 2
   },
   "file_extension": ".py",
   "mimetype": "text/x-python",
   "name": "python",
   "nbconvert_exporter": "python",
   "pygments_lexer": "ipython2",
   "version": "2.7.6"
  }
 },
 "nbformat": 4,
 "nbformat_minor": 0
}