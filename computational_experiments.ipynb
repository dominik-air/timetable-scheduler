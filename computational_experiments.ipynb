{
 "cells": [
  {
   "cell_type": "code",
   "execution_count": 13,
   "metadata": {
    "collapsed": true
   },
   "outputs": [],
   "source": [
    "import timetable_scheduler\n",
    "\n",
    "@timetable_scheduler.timing\n",
    "def test_instance_creator(term_id: int, availability_p: float, **kwargs):\n",
    "    results = {}\n",
    "    iterations = 0\n",
    "    timetable_scheduler.create_dataset(term_id=term_id, lecturer_p=availability_p, room_p=availability_p)\n",
    "    for Tmax, Tmin in zip([20, 50, 80, 100], [5, 10, 15, 20]):\n",
    "        for kmax in [1, 3, 5]:\n",
    "            for alpha in [0.95, 0.995, 0.999]:\n",
    "                results[(Tmax, Tmin, kmax, alpha)] = []\n",
    "                setup = timetable_scheduler.StatisticalTestsAlgorithmSetup(Tmax=Tmax, Tmin=Tmin, kmax=kmax, alpha=alpha, **kwargs)\n",
    "                for i in range(10):\n",
    "                    result = setup.SA()\n",
    "                    results[(Tmax, Tmin, kmax, alpha)].append(result)\n",
    "                    iterations += 1\n",
    "                    print('-'*10, iterations, '-'*10)\n",
    "    return results\n",
    "\n"
   ]
  },
  {
   "cell_type": "code",
   "execution_count": 14,
   "outputs": [
    {
     "name": "stdout",
     "output_type": "stream",
     "text": [
      "zresetowałem początkowe rozwiązanie 0-razy\n",
      "2264.8\n",
      "20\n",
      "19.1\n",
      "18.2\n",
      "17.3\n",
      "16.4\n",
      "15.5\n",
      "14.6\n",
      "13.7\n",
      "12.8\n",
      "11.9\n",
      "11.0\n",
      "10.1\n",
      "9.2\n",
      "8.299999999999999\n",
      "7.4\n",
      "6.5\n",
      "5.6\n",
      "Best cost = 2264.8\n",
      "zresetowałem początkowe rozwiązanie 0-razy\n",
      "2070.4\n",
      "20\n",
      "19.05\n",
      "18.1\n",
      "17.15\n",
      "16.2\n",
      "15.25\n",
      "14.3\n",
      "13.350000000000001\n",
      "12.4\n",
      "11.450000000000001\n",
      "10.5\n",
      "9.55\n",
      "8.600000000000001\n",
      "7.65\n",
      "6.700000000000001\n",
      "5.75\n",
      "Best cost = 2052.4\n",
      "zresetowałem początkowe rozwiązanie 1-razy\n",
      "2292.2\n",
      "20\n",
      "19.01\n",
      "18.02\n",
      "17.03\n",
      "16.04\n",
      "15.05\n",
      "14.06\n",
      "13.07\n",
      "12.08\n",
      "11.09\n",
      "10.1\n",
      "9.11\n",
      "8.120000000000001\n",
      "7.130000000000001\n",
      "6.140000000000001\n",
      "5.15\n",
      "Best cost = 2248.2\n",
      "zresetowałem początkowe rozwiązanie 0-razy\n",
      "2476.2\n",
      "20\n",
      "17.3\n",
      "14.6\n",
      "11.9\n",
      "9.2\n",
      "6.5\n",
      "Best cost = 2430.0\n",
      "zresetowałem początkowe rozwiązanie 0-razy\n",
      "2165.0\n",
      "20\n",
      "17.15\n",
      "14.3\n",
      "11.450000000000001\n",
      "8.600000000000001\n",
      "5.75\n",
      "Best cost = 2165.0\n",
      "zresetowałem początkowe rozwiązanie 0-razy\n",
      "2139.0\n",
      "20\n",
      "17.03\n",
      "14.06\n",
      "11.09\n",
      "8.120000000000001\n",
      "5.15\n",
      "Best cost = 2139.0\n",
      "zresetowałem początkowe rozwiązanie 1-razy\n",
      "2198.0\n",
      "20\n",
      "15.5\n",
      "11.0\n",
      "6.5\n",
      "Best cost = 2136.2\n",
      "zresetowałem początkowe rozwiązanie 0-razy\n",
      "2266.8\n",
      "20\n",
      "15.25\n",
      "10.5\n",
      "5.75\n",
      "Best cost = 2266.8\n",
      "zresetowałem początkowe rozwiązanie 0-razy\n",
      "2131.6\n",
      "20\n",
      "15.05\n",
      "10.1\n",
      "5.15\n",
      "Best cost = 2131.6\n",
      "4.1589884757995605\n"
     ]
    }
   ],
   "source": [
    "results, time = test_instance_creator(term_id=5, availability_p=0.7, cooling_schedule=timetable_scheduler.simulated_annealing.linear_cooling_schedule)"
   ],
   "metadata": {
    "collapsed": false,
    "pycharm": {
     "name": "#%%\n"
    }
   }
  },
  {
   "cell_type": "code",
   "execution_count": null,
   "outputs": [],
   "source": [
    "print(time)"
   ],
   "metadata": {
    "collapsed": false,
    "pycharm": {
     "name": "#%%\n"
    }
   }
  },
  {
   "cell_type": "markdown",
   "source": [
    "save to json"
   ],
   "metadata": {
    "collapsed": false,
    "pycharm": {
     "name": "#%% md\n"
    }
   }
  },
  {
   "cell_type": "code",
   "execution_count": 22,
   "outputs": [],
   "source": [
    "json_data = {str(parameters): [r.to_json() for r in result] for parameters, result in results.items()}"
   ],
   "metadata": {
    "collapsed": false,
    "pycharm": {
     "name": "#%%\n"
    }
   }
  },
  {
   "cell_type": "code",
   "execution_count": 23,
   "outputs": [],
   "source": [
    "import json\n",
    "with open('statistics/linear_cooling_schedule.json', 'w') as f:\n",
    "    json.dump(json_data, f, indent=4)"
   ],
   "metadata": {
    "collapsed": false,
    "pycharm": {
     "name": "#%%\n"
    }
   }
  },
  {
   "cell_type": "code",
   "execution_count": 23,
   "outputs": [],
   "source": [
    "# for another cooling schedule\n",
    "results, time = test_instance_creator(term_id=5, availability_p=0.7, cooling_schedule=timetable_scheduler.simulated_annealing.exponential_cooling_schedule)"
   ],
   "metadata": {
    "collapsed": false,
    "pycharm": {
     "name": "#%%\n"
    }
   }
  },
  {
   "cell_type": "code",
   "execution_count": null,
   "outputs": [],
   "source": [
    "print(time)"
   ],
   "metadata": {
    "collapsed": false,
    "pycharm": {
     "name": "#%%\n"
    }
   }
  },
  {
   "cell_type": "code",
   "execution_count": null,
   "outputs": [],
   "source": [
    "json_data = {str(parameters): [r.to_json() for r in result] for parameters, result in results.items()}\n",
    "\n",
    "with open('statistics/exponential_cooling_schedule.json', 'w') as f:\n",
    "    json.dump(json_data, f, indent=4)"
   ],
   "metadata": {
    "collapsed": false,
    "pycharm": {
     "name": "#%%\n"
    }
   }
  }
 ],
 "metadata": {
  "kernelspec": {
   "display_name": "Python 3",
   "language": "python",
   "name": "python3"
  },
  "language_info": {
   "codemirror_mode": {
    "name": "ipython",
    "version": 2
   },
   "file_extension": ".py",
   "mimetype": "text/x-python",
   "name": "python",
   "nbconvert_exporter": "python",
   "pygments_lexer": "ipython2",
   "version": "2.7.6"
  }
 },
 "nbformat": 4,
 "nbformat_minor": 0
}