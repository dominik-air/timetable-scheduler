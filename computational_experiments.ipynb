{
 "cells": [
  {
   "cell_type": "code",
   "execution_count": 13,
   "metadata": {
    "collapsed": true
   },
   "outputs": [],
   "source": [
    "import timetable_scheduler\n",
    "\n",
    "@timetable_scheduler.timing\n",
    "def test_instance_creator(term_id: int, availability_p: float, **kwargs):\n",
    "    results = {}\n",
    "    iterations = 0\n",
    "    timetable_scheduler.create_dataset(term_id=term_id, lecturer_p=availability_p, room_p=availability_p)\n",
    "    for Tmax, Tmin in zip([20, 50, 80, 100], [5, 10, 15, 20]):\n",
    "        for kmax in [1, 3, 5]:\n",
    "            for alpha in [0.95, 0.995, 0.999]:\n",
    "                results[(Tmax, Tmin, kmax, alpha)] = []\n",
    "                setup = timetable_scheduler.StatisticalTestsAlgorithmSetup(Tmax=Tmax, Tmin=Tmin, kmax=kmax, alpha=alpha, **kwargs)\n",
    "                for i in range(10):\n",
    "                    result = setup.SA()\n",
    "                    results[(Tmax, Tmin, kmax, alpha)].append(result)\n",
    "                    iterations += 1\n",
    "                    print('-'*10, iterations, '-'*10)\n",
    "    return results\n",
    "\n"
   ]
  },
  {
   "cell_type": "code",
   "execution_count": 14,
   "outputs": [
    {
     "name": "stdout",
     "output_type": "stream",
     "text": [
      "zresetowałem początkowe rozwiązanie 0-razy\n",
      "2264.8\n",
      "20\n",
      "19.1\n",
      "18.2\n",
      "17.3\n",
      "16.4\n",
      "15.5\n",
      "14.6\n",
      "13.7\n",
      "12.8\n",
      "11.9\n",
      "11.0\n",
      "10.1\n",
      "9.2\n",
      "8.299999999999999\n",
      "7.4\n",
      "6.5\n",
      "5.6\n",
      "Best cost = 2264.8\n",
      "zresetowałem początkowe rozwiązanie 0-razy\n",
      "2070.4\n",
      "20\n",
      "19.05\n",
      "18.1\n",
      "17.15\n",
      "16.2\n",
      "15.25\n",
      "14.3\n",
      "13.350000000000001\n",
      "12.4\n",
      "11.450000000000001\n",
      "10.5\n",
      "9.55\n",
      "8.600000000000001\n",
      "7.65\n",
      "6.700000000000001\n",
      "5.75\n",
      "Best cost = 2052.4\n",
      "zresetowałem początkowe rozwiązanie 1-razy\n",
      "2292.2\n",
      "20\n",
      "19.01\n",
      "18.02\n",
      "17.03\n",
      "16.04\n",
      "15.05\n",
      "14.06\n",
      "13.07\n",
      "12.08\n",
      "11.09\n",
      "10.1\n",
      "9.11\n",
      "8.120000000000001\n",
      "7.130000000000001\n",
      "6.140000000000001\n",
      "5.15\n",
      "Best cost = 2248.2\n",
      "zresetowałem początkowe rozwiązanie 0-razy\n",
      "2476.2\n",
      "20\n",
      "17.3\n",
      "14.6\n",
      "11.9\n",
      "9.2\n",
      "6.5\n",
      "Best cost = 2430.0\n",
      "zresetowałem początkowe rozwiązanie 0-razy\n",
      "2165.0\n",
      "20\n",
      "17.15\n",
      "14.3\n",
      "11.450000000000001\n",
      "8.600000000000001\n",
      "5.75\n",
      "Best cost = 2165.0\n",
      "zresetowałem początkowe rozwiązanie 0-razy\n",
      "2139.0\n",
      "20\n",
      "17.03\n",
      "14.06\n",
      "11.09\n",
      "8.120000000000001\n",
      "5.15\n",
      "Best cost = 2139.0\n",
      "zresetowałem początkowe rozwiązanie 1-razy\n",
      "2198.0\n",
      "20\n",
      "15.5\n",
      "11.0\n",
      "6.5\n",
      "Best cost = 2136.2\n",
      "zresetowałem początkowe rozwiązanie 0-razy\n",
      "2266.8\n",
      "20\n",
      "15.25\n",
      "10.5\n",
      "5.75\n",
      "Best cost = 2266.8\n",
      "zresetowałem początkowe rozwiązanie 0-razy\n",
      "2131.6\n",
      "20\n",
      "15.05\n",
      "10.1\n",
      "5.15\n",
      "Best cost = 2131.6\n",
      "4.1589884757995605\n"
     ]
    }
   ],
   "source": [
    "results, time = test_instance_creator(term_id=5, availability_p=0.7, cooling_schedule=timetable_scheduler.simulated_annealing.linear_cooling_schedule)"
   ],
   "metadata": {
    "collapsed": false,
    "pycharm": {
     "name": "#%%\n"
    }
   }
  },
  {
   "cell_type": "code",
   "execution_count": null,
   "outputs": [],
   "source": [
    "print(time)"
   ],
   "metadata": {
    "collapsed": false,
    "pycharm": {
     "name": "#%%\n"
    }
   }
  },
  {
   "cell_type": "code",
   "execution_count": 15,
   "outputs": [
    {
     "data": {
      "text/plain": "{(20,\n  5,\n  1,\n  0.9): [StatisticalResults(initial_solution_matrix=array([[[56, 56, 56, ..., 56, 56, 56],\n          [56, 56, 56, ..., 56, 56, 56],\n          [56, 56, 56, ..., 56, 56, 56],\n          ...,\n          [ 0,  0,  0, ...,  0,  0,  0],\n          [ 0,  0,  0, ...,  0,  0,  0],\n          [ 0,  0,  0, ...,  0,  0,  0]],\n  \n         [[39, 39, 39, ..., 39, 39, 39],\n          [39, 39, 39, ..., 39, 39, 39],\n          [39, 39, 39, ..., 39, 39, 39],\n          ...,\n          [ 0,  0,  0, ...,  0,  0,  0],\n          [ 0,  0,  0, ...,  0,  0,  0],\n          [ 0,  0,  0, ...,  0,  0,  0]],\n  \n         [[ 1,  1,  1, ...,  1,  1,  1],\n          [ 1,  1,  1, ...,  1,  1,  1],\n          [ 1,  1,  1, ...,  1,  1,  1],\n          ...,\n          [ 0,  0,  0, ...,  0,  0,  0],\n          [ 0,  0,  0, ...,  0,  0,  0],\n          [ 0,  0,  0, ...,  0,  0,  0]],\n  \n         [[89, 89, 89, ..., 89, 89, 89],\n          [89, 89, 89, ..., 89, 89, 89],\n          [89, 89, 89, ..., 89, 89, 89],\n          ...,\n          [ 0,  0,  0, ...,  0,  0,  0],\n          [ 0,  0,  0, ...,  0,  0,  0],\n          [ 0,  0,  0, ...,  0,  0,  0]],\n  \n         [[78, 78, 78, ..., 78, 78, 78],\n          [78, 78, 78, ..., 78, 78, 78],\n          [78, 78, 78, ..., 78, 78, 78],\n          ...,\n          [ 0,  0,  0, ...,  0,  0,  0],\n          [ 0,  0,  0, ...,  0,  0,  0],\n          [ 0,  0,  0, ...,  0,  0,  0]]]), best_solution_matrix=array([[[56, 56, 56, ..., 56, 56, 56],\n          [56, 56, 56, ..., 56, 56, 56],\n          [56, 56, 56, ..., 56, 56, 56],\n          ...,\n          [ 0,  0,  0, ...,  0,  0,  0],\n          [ 0,  0,  0, ...,  0,  0,  0],\n          [ 0,  0,  0, ...,  0,  0,  0]],\n  \n         [[39, 39, 39, ..., 39, 39, 39],\n          [39, 39, 39, ..., 39, 39, 39],\n          [39, 39, 39, ..., 39, 39, 39],\n          ...,\n          [ 0,  0,  0, ...,  0,  0,  0],\n          [ 0,  0,  0, ...,  0,  0,  0],\n          [ 0,  0,  0, ...,  0,  0,  0]],\n  \n         [[ 1,  1,  1, ...,  1,  1,  1],\n          [ 1,  1,  1, ...,  1,  1,  1],\n          [ 1,  1,  1, ...,  1,  1,  1],\n          ...,\n          [ 0,  0,  0, ...,  0,  0,  0],\n          [ 0,  0,  0, ...,  0,  0,  0],\n          [ 0,  0,  0, ...,  0,  0,  0]],\n  \n         [[89, 89, 89, ..., 89, 89, 89],\n          [89, 89, 89, ..., 89, 89, 89],\n          [89, 89, 89, ..., 89, 89, 89],\n          ...,\n          [ 0,  0,  0, ...,  0,  0,  0],\n          [ 0,  0,  0, ...,  0,  0,  0],\n          [ 0,  0,  0, ...,  0,  0,  0]],\n  \n         [[78, 78, 78, ..., 78, 78, 78],\n          [78, 78, 78, ..., 78, 78, 78],\n          [78, 78, 78, ..., 78, 78, 78],\n          ...,\n          [ 0,  0,  0, ...,  0,  0,  0],\n          [ 0,  0,  0, ...,  0,  0,  0],\n          [ 0,  0,  0, ...,  0,  0,  0]]]), initial_cost=2264.8, best_cost=2264.8, elapsed_time=0.37299609184265137, temperatures=[20, 19.1, 18.2, 17.3, 16.4, 15.5, 14.6, 13.7, 12.8, 11.9, 11.0, 10.1, 9.2, 8.299999999999999, 7.4, 6.5, 5.6, 4.699999999999999], f_costs=[2264.8, 2378.8, 2264.8, 2373.8, 2264.8, 2378.8, 2464.8, 2264.8, 2464.8, 2279.8, 2276.0, 2272.6, 2364.8, 2464.8, 2264.8, 2294.8, 2367.8, 2279.8], initial_solutions_resets=0, operator_quality_measurement=[OperatorQuality(operator_name='matrix_transposition', n_calls=5, n_acceptable_solutions=5, f_cost_improvements=0, f_cost_aggravations=0, f_cost_constants=5, operator_calls=[OperatorCallData(iteration_number=1, f_cost=2264.8, f_cost_change=0.0, run_time=0.0009999275207519531), OperatorCallData(iteration_number=5, f_cost=2464.8, f_cost_change=0.0, run_time=0.0010004043579101562), OperatorCallData(iteration_number=6, f_cost=2264.8, f_cost_change=0.0, run_time=0.0020008087158203125), OperatorCallData(iteration_number=7, f_cost=2464.8, f_cost_change=0.0, run_time=0.0010004043579101562), OperatorCallData(iteration_number=12, f_cost=2464.8, f_cost_change=0.0, run_time=0.0010006427764892578)]), OperatorQuality(operator_name='matrix_inner_translation', n_calls=6, n_acceptable_solutions=5, f_cost_improvements=0, f_cost_aggravations=4, f_cost_constants=1, operator_calls=[OperatorCallData(iteration_number=0, f_cost=2378.8, f_cost_change=14.0, run_time=0.0009996891021728516), OperatorCallData(iteration_number=2, f_cost=2373.8, f_cost_change=9.0, run_time=0.0010020732879638672), OperatorCallData(iteration_number=4, f_cost=2378.8, f_cost_change=14.0, run_time=0.0010008811950683594), OperatorCallData(iteration_number=11, f_cost=2364.8, f_cost_change=0.0, run_time=0.0), OperatorCallData(iteration_number=15, f_cost=2367.8, f_cost_change=3.0, run_time=0.0020003318786621094)]), OperatorQuality(operator_name='matrix_cut_and_paste_translation', n_calls=9, n_acceptable_solutions=7, f_cost_improvements=0, f_cost_aggravations=5, f_cost_constants=2, operator_calls=[OperatorCallData(iteration_number=3, f_cost=2264.8, f_cost_change=0.0, run_time=0.0010013580322265625), OperatorCallData(iteration_number=8, f_cost=2279.8, f_cost_change=15.0, run_time=0.0009999275207519531), OperatorCallData(iteration_number=9, f_cost=2276.0, f_cost_change=11.199999999999818, run_time=0.0020003318786621094), OperatorCallData(iteration_number=10, f_cost=2272.6, f_cost_change=7.799999999999727, run_time=0.0009992122650146484), OperatorCallData(iteration_number=13, f_cost=2264.8, f_cost_change=0.0, run_time=0.002000093460083008), OperatorCallData(iteration_number=14, f_cost=2294.8, f_cost_change=30.0, run_time=0.0019991397857666016), OperatorCallData(iteration_number=16, f_cost=2279.8, f_cost_change=15.0, run_time=0.0009999275207519531)])])],\n (20,\n  5,\n  1,\n  0.95): [StatisticalResults(initial_solution_matrix=array([[[23, 23, 23, ..., 23, 23, 23],\n          [23, 23, 23, ..., 23, 23, 23],\n          [23, 23, 23, ..., 23, 23, 23],\n          ...,\n          [ 0,  0,  0, ...,  0,  0,  0],\n          [ 0,  0,  0, ...,  0,  0,  0],\n          [ 0,  0,  0, ...,  0,  0,  0]],\n  \n         [[12, 12, 12, ..., 12, 12, 12],\n          [12, 12, 12, ..., 12, 12, 12],\n          [12, 12, 12, ..., 12, 12, 12],\n          ...,\n          [ 0,  0,  0, ...,  0,  0,  0],\n          [ 0,  0,  0, ...,  0,  0,  0],\n          [ 0,  0,  0, ...,  0,  0,  0]],\n  \n         [[78, 78, 78, ..., 78, 78, 78],\n          [78, 78, 78, ..., 78, 78, 78],\n          [78, 78, 78, ..., 78, 78, 78],\n          ...,\n          [ 0,  0,  0, ...,  0,  0,  0],\n          [ 0,  0,  0, ...,  0,  0,  0],\n          [ 0,  0,  0, ...,  0,  0,  0]],\n  \n         [[45, 45, 45, ..., 45, 45, 45],\n          [45, 45, 45, ..., 45, 45, 45],\n          [45, 45, 45, ..., 45, 45, 45],\n          ...,\n          [ 0,  0,  0, ...,  0,  0,  0],\n          [ 0,  0,  0, ...,  0,  0,  0],\n          [ 0,  0,  0, ...,  0,  0,  0]],\n  \n         [[89, 89, 89, ..., 89, 89, 89],\n          [89, 89, 89, ..., 89, 89, 89],\n          [89, 89, 89, ..., 89, 89, 89],\n          ...,\n          [ 0,  0,  0, ...,  0,  0,  0],\n          [ 0,  0,  0, ...,  0,  0,  0],\n          [ 0,  0,  0, ...,  0,  0,  0]]]), best_solution_matrix=array([[[23, 23, 23, ..., 23, 23, 23],\n          [23, 23, 23, ..., 23, 23, 23],\n          [23, 23, 23, ..., 23, 23, 23],\n          ...,\n          [ 0,  0,  0, ...,  0,  0,  0],\n          [ 0,  0,  0, ...,  0,  0,  0],\n          [ 0,  0,  0, ...,  0,  0,  0]],\n  \n         [[12, 12, 12, ..., 12, 12, 12],\n          [12, 12, 12, ..., 12, 12, 12],\n          [12, 12, 12, ..., 12, 12, 12],\n          ...,\n          [ 0,  0,  0, ...,  0,  0,  0],\n          [ 0,  0,  0, ...,  0,  0,  0],\n          [ 0,  0,  0, ...,  0,  0,  0]],\n  \n         [[78, 78, 78, ..., 78, 78, 78],\n          [78, 78, 78, ..., 78, 78, 78],\n          [78, 78, 78, ..., 78, 78, 78],\n          ...,\n          [ 0,  0,  0, ...,  0,  0,  0],\n          [ 0,  0,  0, ...,  0,  0,  0],\n          [ 0,  0,  0, ...,  0,  0,  0]],\n  \n         [[45, 45, 45, ..., 45, 45, 45],\n          [45, 45, 45, ..., 45, 45, 45],\n          [45, 45, 45, ..., 45, 45, 45],\n          ...,\n          [ 0,  0,  0, ...,  0,  0,  0],\n          [ 0,  0,  0, ...,  0,  0,  0],\n          [ 0,  0,  0, ...,  0,  0,  0]],\n  \n         [[89, 89, 89, ..., 89, 89, 89],\n          [89, 89, 89, ..., 89, 89, 89],\n          [89, 89, 89, ..., 89, 89, 89],\n          ...,\n          [ 0,  0,  0, ...,  0,  0,  0],\n          [ 0,  0,  0, ...,  0,  0,  0],\n          [ 0,  0,  0, ...,  0,  0,  0]]]), initial_cost=2070.4, best_cost=2052.4, elapsed_time=0.3660008907318115, temperatures=[20, 19.05, 18.1, 17.15, 16.2, 15.25, 14.3, 13.350000000000001, 12.4, 11.450000000000001, 10.5, 9.55, 8.600000000000001, 7.65, 6.700000000000001, 5.75, 4.800000000000001], f_costs=[2070.4, 2179.4, 2088.4, 2121.6, 2070.4, 2070.4, 2070.4, 2184.4, 2170.4, 2121.6, 2052.4, 2147.4, 2166.4, 2052.4, 2252.4, 2074.4, 2161.4], initial_solutions_resets=0, operator_quality_measurement=[OperatorQuality(operator_name='matrix_transposition', n_calls=5, n_acceptable_solutions=5, f_cost_improvements=0, f_cost_aggravations=0, f_cost_constants=5, operator_calls=[OperatorCallData(iteration_number=3, f_cost=2070.4, f_cost_change=0.0, run_time=0.0019998550415039062), OperatorCallData(iteration_number=4, f_cost=2070.4, f_cost_change=0.0, run_time=0.002000570297241211), OperatorCallData(iteration_number=5, f_cost=2070.4, f_cost_change=0.0, run_time=0.0020008087158203125), OperatorCallData(iteration_number=12, f_cost=2052.4, f_cost_change=0.0, run_time=0.0020017623901367188), OperatorCallData(iteration_number=13, f_cost=2252.4, f_cost_change=0.0, run_time=0.0019998550415039062)]), OperatorQuality(operator_name='matrix_inner_translation', n_calls=6, n_acceptable_solutions=4, f_cost_improvements=0, f_cost_aggravations=3, f_cost_constants=1, operator_calls=[OperatorCallData(iteration_number=0, f_cost=2179.4, f_cost_change=9.0, run_time=0.0010006427764892578), OperatorCallData(iteration_number=6, f_cost=2184.4, f_cost_change=14.0, run_time=0.0), OperatorCallData(iteration_number=7, f_cost=2170.4, f_cost_change=0.0, run_time=0.0), OperatorCallData(iteration_number=15, f_cost=2161.4, f_cost_change=9.0, run_time=0.00099945068359375)]), OperatorQuality(operator_name='matrix_cut_and_paste_translation', n_calls=15, n_acceptable_solutions=7, f_cost_improvements=1, f_cost_aggravations=6, f_cost_constants=0, operator_calls=[OperatorCallData(iteration_number=1, f_cost=2088.4, f_cost_change=18.0, run_time=0.001998424530029297), OperatorCallData(iteration_number=2, f_cost=2121.6, f_cost_change=51.19999999999982, run_time=0.0020017623901367188), OperatorCallData(iteration_number=8, f_cost=2121.6, f_cost_change=51.19999999999982, run_time=0.001998424530029297), OperatorCallData(iteration_number=9, f_cost=2052.4, f_cost_change=-18.0, run_time=0.0020008087158203125), OperatorCallData(iteration_number=10, f_cost=2147.4, f_cost_change=95.0, run_time=0.0020003318786621094), OperatorCallData(iteration_number=11, f_cost=2166.4, f_cost_change=114.0, run_time=0.0019986629486083984), OperatorCallData(iteration_number=14, f_cost=2074.4, f_cost_change=22.0, run_time=0.002999544143676758)])])],\n (20,\n  5,\n  1,\n  0.99): [StatisticalResults(initial_solution_matrix=array([[[78, 78, 78, ..., 78, 78, 78],\n          [78, 78, 78, ..., 78, 78, 78],\n          [78, 78, 78, ..., 78, 78, 78],\n          ...,\n          [ 0,  0,  0, ...,  0,  0,  0],\n          [ 0,  0,  0, ...,  0,  0,  0],\n          [ 0,  0,  0, ...,  0,  0,  0]],\n  \n         [[23, 23, 23, ..., 23, 23, 23],\n          [23, 23, 23, ..., 23, 23, 23],\n          [23, 23, 23, ..., 23, 23, 23],\n          ...,\n          [ 0,  0,  0, ...,  0,  0,  0],\n          [ 0,  0,  0, ...,  0,  0,  0],\n          [ 0,  0,  0, ...,  0,  0,  0]],\n  \n         [[39, 39, 39, ..., 39, 39, 39],\n          [39, 39, 39, ..., 39, 39, 39],\n          [39, 39, 39, ..., 39, 39, 39],\n          ...,\n          [ 0,  0,  0, ...,  0,  0,  0],\n          [ 0,  0,  0, ...,  0,  0,  0],\n          [ 0,  0,  0, ...,  0,  0,  0]],\n  \n         [[89, 89, 89, ..., 89, 89, 89],\n          [89, 89, 89, ..., 89, 89, 89],\n          [89, 89, 89, ..., 89, 89, 89],\n          ...,\n          [ 0,  0,  0, ...,  0,  0,  0],\n          [ 0,  0,  0, ...,  0,  0,  0],\n          [ 0,  0,  0, ...,  0,  0,  0]],\n  \n         [[79, 91,  0, ..., 64, 10,  0],\n          [79, 91,  0, ..., 64, 10,  0],\n          [79, 91,  0, ..., 64, 10,  0],\n          ...,\n          [ 0,  0,  0, ...,  0,  0,  0],\n          [ 0,  0,  0, ...,  0,  0,  0],\n          [ 0,  0,  0, ...,  0,  0,  0]]]), best_solution_matrix=array([[[78, 78, 78, ..., 78, 78, 78],\n          [78, 78, 78, ..., 78, 78, 78],\n          [78, 78, 78, ..., 78, 78, 78],\n          ...,\n          [ 0,  0,  0, ...,  0,  0,  0],\n          [ 0,  0,  0, ...,  0,  0,  0],\n          [ 0,  0,  0, ...,  0,  0,  0]],\n  \n         [[23, 23, 23, ..., 23, 23, 23],\n          [23, 23, 23, ..., 23, 23, 23],\n          [23, 23, 23, ..., 23, 23, 23],\n          ...,\n          [ 0,  0,  0, ...,  0,  0,  0],\n          [ 0,  0,  0, ...,  0,  0,  0],\n          [ 0,  0,  0, ...,  0,  0,  0]],\n  \n         [[39, 39, 39, ..., 39, 39, 39],\n          [39, 39, 39, ..., 39, 39, 39],\n          [39, 39, 39, ..., 39, 39, 39],\n          ...,\n          [ 0,  0,  0, ...,  0,  0,  0],\n          [ 0,  0,  0, ...,  0,  0,  0],\n          [ 0,  0,  0, ...,  0,  0,  0]],\n  \n         [[89, 89, 89, ..., 89, 89, 89],\n          [89, 89, 89, ..., 89, 89, 89],\n          [89, 89, 89, ..., 89, 89, 89],\n          ...,\n          [ 0,  0,  0, ...,  0,  0,  0],\n          [ 0,  0,  0, ...,  0,  0,  0],\n          [ 0,  0,  0, ...,  0,  0,  0]],\n  \n         [[79, 91,  0, ..., 64, 10,  0],\n          [79, 91,  0, ..., 64, 10,  0],\n          [79, 91,  0, ..., 64, 10,  0],\n          ...,\n          [ 0,  0,  0, ...,  0,  0,  0],\n          [ 0,  0,  0, ...,  0,  0,  0],\n          [ 0,  0,  0, ...,  0,  0,  0]]]), initial_cost=2292.2, best_cost=2248.2, elapsed_time=0.4819972515106201, temperatures=[20, 19.01, 18.02, 17.03, 16.04, 15.05, 14.06, 13.07, 12.08, 11.09, 10.1, 9.11, 8.120000000000001, 7.130000000000001, 6.140000000000001, 5.15, 4.16], f_costs=[2292.2, 2248.2, 2273.4, 2848.2, 2357.2, 2448.2, 2248.2, 2339.2, 2248.2, 2448.2, 2448.2, 2286.2, 2448.2, 2448.2, 2248.2, 2357.2, 2448.2], initial_solutions_resets=1, operator_quality_measurement=[OperatorQuality(operator_name='matrix_transposition', n_calls=9, n_acceptable_solutions=9, f_cost_improvements=0, f_cost_aggravations=0, f_cost_constants=9, operator_calls=[OperatorCallData(iteration_number=4, f_cost=2448.2, f_cost_change=0.0, run_time=0.0009999275207519531), OperatorCallData(iteration_number=5, f_cost=2248.2, f_cost_change=0.0, run_time=0.002000570297241211), OperatorCallData(iteration_number=7, f_cost=2248.2, f_cost_change=0.0, run_time=0.0009999275207519531), OperatorCallData(iteration_number=8, f_cost=2448.2, f_cost_change=0.0, run_time=0.0), OperatorCallData(iteration_number=9, f_cost=2448.2, f_cost_change=0.0, run_time=0.0009987354278564453), OperatorCallData(iteration_number=11, f_cost=2448.2, f_cost_change=0.0, run_time=0.0009996891021728516), OperatorCallData(iteration_number=12, f_cost=2448.2, f_cost_change=0.0, run_time=0.0010004043579101562), OperatorCallData(iteration_number=13, f_cost=2248.2, f_cost_change=0.0, run_time=0.0019991397857666016), OperatorCallData(iteration_number=15, f_cost=2448.2, f_cost_change=0.0, run_time=0.001998424530029297)]), OperatorQuality(operator_name='matrix_inner_translation', n_calls=5, n_acceptable_solutions=4, f_cost_improvements=1, f_cost_aggravations=3, f_cost_constants=0, operator_calls=[OperatorCallData(iteration_number=2, f_cost=2848.2, f_cost_change=500.0, run_time=0.0010001659393310547), OperatorCallData(iteration_number=3, f_cost=2357.2, f_cost_change=9.0, run_time=0.0010001659393310547), OperatorCallData(iteration_number=6, f_cost=2339.2, f_cost_change=-9.0, run_time=0.0009996891021728516), OperatorCallData(iteration_number=14, f_cost=2357.2, f_cost_change=9.0, run_time=0.0010018348693847656)]), OperatorQuality(operator_name='matrix_cut_and_paste_translation', n_calls=5, n_acceptable_solutions=3, f_cost_improvements=1, f_cost_aggravations=2, f_cost_constants=0, operator_calls=[OperatorCallData(iteration_number=0, f_cost=2248.2, f_cost_change=-44.0, run_time=0.001999378204345703), OperatorCallData(iteration_number=1, f_cost=2273.4, f_cost_change=25.200000000000273, run_time=0.00099945068359375), OperatorCallData(iteration_number=10, f_cost=2286.2, f_cost_change=38.0, run_time=0.002001047134399414)])])],\n (20,\n  5,\n  3,\n  0.9): [StatisticalResults(initial_solution_matrix=array([[[23, 23, 23, ..., 23, 23, 23],\n          [23, 23, 23, ..., 23, 23, 23],\n          [23, 23, 23, ..., 23, 23, 23],\n          ...,\n          [ 0,  0,  0, ...,  0,  0,  0],\n          [ 0,  0,  0, ...,  0,  0,  0],\n          [ 0,  0,  0, ...,  0,  0,  0]],\n  \n         [[78, 78, 78, ..., 78, 78, 78],\n          [78, 78, 78, ..., 78, 78, 78],\n          [78, 78, 78, ..., 78, 78, 78],\n          ...,\n          [ 0,  0,  0, ...,  0,  0,  0],\n          [ 0,  0,  0, ...,  0,  0,  0],\n          [ 0,  0,  0, ...,  0,  0,  0]],\n  \n         [[67, 67, 67, ..., 67, 67, 67],\n          [67, 67, 67, ..., 67, 67, 67],\n          [67, 67, 67, ..., 67, 67, 67],\n          ...,\n          [ 0,  0,  0, ...,  0,  0,  0],\n          [ 0,  0,  0, ...,  0,  0,  0],\n          [ 0,  0,  0, ...,  0,  0,  0]],\n  \n         [[12, 12, 12, ..., 12, 12, 12],\n          [12, 12, 12, ..., 12, 12, 12],\n          [12, 12, 12, ..., 12, 12, 12],\n          ...,\n          [ 0,  0,  0, ...,  0,  0,  0],\n          [ 0,  0,  0, ...,  0,  0,  0],\n          [ 0,  0,  0, ...,  0,  0,  0]],\n  \n         [[ 1,  1,  1, ...,  1,  1,  1],\n          [ 1,  1,  1, ...,  1,  1,  1],\n          [ 1,  1,  1, ...,  1,  1,  1],\n          ...,\n          [ 0,  0,  0, ...,  0,  0,  0],\n          [ 0,  0,  0, ...,  0,  0,  0],\n          [ 0,  0,  0, ...,  0,  0,  0]]]), best_solution_matrix=array([[[23, 23, 23, ..., 23, 23, 23],\n          [23, 23, 23, ..., 23, 23, 23],\n          [23, 23, 23, ..., 23, 23, 23],\n          ...,\n          [ 0,  0,  0, ...,  0,  0,  0],\n          [ 0,  0,  0, ...,  0,  0,  0],\n          [ 0,  0,  0, ...,  0,  0,  0]],\n  \n         [[78, 78, 78, ..., 78, 78, 78],\n          [78, 78, 78, ..., 78, 78, 78],\n          [78, 78, 78, ..., 78, 78, 78],\n          ...,\n          [ 0,  0,  0, ...,  0,  0,  0],\n          [ 0,  0,  0, ...,  0,  0,  0],\n          [ 0,  0,  0, ...,  0,  0,  0]],\n  \n         [[67, 67, 67, ..., 67, 67, 67],\n          [67, 67, 67, ..., 67, 67, 67],\n          [67, 67, 67, ..., 67, 67, 67],\n          ...,\n          [ 0,  0,  0, ...,  0,  0,  0],\n          [ 0,  0,  0, ...,  0,  0,  0],\n          [ 0,  0,  0, ...,  0,  0,  0]],\n  \n         [[12, 12, 12, ..., 12, 12, 12],\n          [12, 12, 12, ..., 12, 12, 12],\n          [12, 12, 12, ..., 12, 12, 12],\n          ...,\n          [ 0,  0,  0, ...,  0,  0,  0],\n          [ 0,  0,  0, ...,  0,  0,  0],\n          [ 0,  0,  0, ...,  0,  0,  0]],\n  \n         [[ 1,  1,  1, ...,  1,  1,  1],\n          [ 1,  1,  1, ...,  1,  1,  1],\n          [ 1,  1,  1, ...,  1,  1,  1],\n          ...,\n          [ 0,  0,  0, ...,  0,  0,  0],\n          [ 0,  0,  0, ...,  0,  0,  0],\n          [ 0,  0,  0, ...,  0,  0,  0]]]), initial_cost=2476.2, best_cost=2430.0, elapsed_time=0.42099928855895996, temperatures=[20, 17.3, 14.6, 11.9, 9.2, 6.5, 3.8000000000000007], f_costs=[2476.2, 2511.2, 2455.2, 2430.0, 2463.8, 2459.0, 2432.0, 2539.0, 2586.0, 2539.0, 2630.0, 2687.2, 2830.0, 2539.0, 2610.2, 2521.0, 2490.8, 2539.0, 2510.2], initial_solutions_resets=0, operator_quality_measurement=[OperatorQuality(operator_name='matrix_transposition', n_calls=3, n_acceptable_solutions=3, f_cost_improvements=0, f_cost_aggravations=0, f_cost_constants=3, operator_calls=[OperatorCallData(iteration_number=8, f_cost=2539.0, f_cost_change=0.0, run_time=0.0010001659393310547), OperatorCallData(iteration_number=9, f_cost=2630.0, f_cost_change=0.0, run_time=0.0009999275207519531), OperatorCallData(iteration_number=11, f_cost=2830.0, f_cost_change=0.0, run_time=0.0009999275207519531)]), OperatorQuality(operator_name='matrix_inner_translation', n_calls=4, n_acceptable_solutions=3, f_cost_improvements=0, f_cost_aggravations=3, f_cost_constants=0, operator_calls=[OperatorCallData(iteration_number=6, f_cost=2539.0, f_cost_change=9.0, run_time=0.00099945068359375), OperatorCallData(iteration_number=12, f_cost=2539.0, f_cost_change=9.0, run_time=0.001001119613647461), OperatorCallData(iteration_number=16, f_cost=2539.0, f_cost_change=9.0, run_time=0.0)]), OperatorQuality(operator_name='matrix_cut_and_paste_translation', n_calls=23, n_acceptable_solutions=12, f_cost_improvements=4, f_cost_aggravations=8, f_cost_constants=0, operator_calls=[OperatorCallData(iteration_number=0, f_cost=2511.2, f_cost_change=35.0, run_time=0.0020024776458740234), OperatorCallData(iteration_number=1, f_cost=2455.2, f_cost_change=-21.0, run_time=0.0010001659393310547), OperatorCallData(iteration_number=2, f_cost=2430.0, f_cost_change=-25.199999999999818, run_time=0.0010006427764892578), OperatorCallData(iteration_number=3, f_cost=2463.8, f_cost_change=33.80000000000018, run_time=0.0019989013671875), OperatorCallData(iteration_number=4, f_cost=2459.0, f_cost_change=29.0, run_time=0.0010001659393310547), OperatorCallData(iteration_number=5, f_cost=2432.0, f_cost_change=2.0, run_time=0.00099945068359375), OperatorCallData(iteration_number=7, f_cost=2586.0, f_cost_change=47.0, run_time=0.002001047134399414), OperatorCallData(iteration_number=10, f_cost=2687.2, f_cost_change=57.19999999999982, run_time=0.0009996891021728516), OperatorCallData(iteration_number=13, f_cost=2610.2, f_cost_change=71.19999999999982, run_time=0.002001523971557617), OperatorCallData(iteration_number=14, f_cost=2521.0, f_cost_change=-18.0, run_time=0.0009989738464355469), OperatorCallData(iteration_number=15, f_cost=2490.8, f_cost_change=60.80000000000018, run_time=0.001001119613647461), OperatorCallData(iteration_number=17, f_cost=2510.2, f_cost_change=-19.800000000000182, run_time=0.0010001659393310547)])])],\n (20,\n  5,\n  3,\n  0.95): [StatisticalResults(initial_solution_matrix=array([[[12, 12, 12, ..., 12, 12, 12],\n          [12, 12, 12, ..., 12, 12, 12],\n          [12, 12, 12, ..., 12, 12, 12],\n          ...,\n          [ 0,  0,  0, ...,  0,  0,  0],\n          [ 0,  0,  0, ...,  0,  0,  0],\n          [ 0,  0,  0, ...,  0,  0,  0]],\n  \n         [[78, 78, 78, ..., 78, 78, 78],\n          [78, 78, 78, ..., 78, 78, 78],\n          [78, 78, 78, ..., 78, 78, 78],\n          ...,\n          [ 0,  0,  0, ...,  0,  0,  0],\n          [ 0,  0,  0, ...,  0,  0,  0],\n          [ 0,  0,  0, ...,  0,  0,  0]],\n  \n         [[89, 89, 89, ..., 89, 89, 89],\n          [89, 89, 89, ..., 89, 89, 89],\n          [89, 89, 89, ..., 89, 89, 89],\n          ...,\n          [ 0,  0,  0, ...,  0,  0,  0],\n          [ 0,  0,  0, ...,  0,  0,  0],\n          [ 0,  0,  0, ...,  0,  0,  0]],\n  \n         [[39, 39, 39, ..., 39, 39, 39],\n          [39, 39, 39, ..., 39, 39, 39],\n          [39, 39, 39, ..., 39, 39, 39],\n          ...,\n          [ 0,  0,  0, ...,  0,  0,  0],\n          [ 0,  0,  0, ...,  0,  0,  0],\n          [ 0,  0,  0, ...,  0,  0,  0]],\n  \n         [[ 1,  1,  1, ...,  1,  1,  1],\n          [ 1,  1,  1, ...,  1,  1,  1],\n          [ 1,  1,  1, ...,  1,  1,  1],\n          ...,\n          [ 0,  0,  0, ...,  0,  0,  0],\n          [ 0,  0,  0, ...,  0,  0,  0],\n          [ 0,  0,  0, ...,  0,  0,  0]]]), best_solution_matrix=array([[[12, 12, 12, ..., 12, 12, 12],\n          [12, 12, 12, ..., 12, 12, 12],\n          [12, 12, 12, ..., 12, 12, 12],\n          ...,\n          [ 0,  0,  0, ...,  0,  0,  0],\n          [ 0,  0,  0, ...,  0,  0,  0],\n          [ 0,  0,  0, ...,  0,  0,  0]],\n  \n         [[78, 78, 78, ..., 78, 78, 78],\n          [78, 78, 78, ..., 78, 78, 78],\n          [78, 78, 78, ..., 78, 78, 78],\n          ...,\n          [ 0,  0,  0, ...,  0,  0,  0],\n          [ 0,  0,  0, ...,  0,  0,  0],\n          [ 0,  0,  0, ...,  0,  0,  0]],\n  \n         [[89, 89, 89, ..., 89, 89, 89],\n          [89, 89, 89, ..., 89, 89, 89],\n          [89, 89, 89, ..., 89, 89, 89],\n          ...,\n          [ 0,  0,  0, ...,  0,  0,  0],\n          [ 0,  0,  0, ...,  0,  0,  0],\n          [ 0,  0,  0, ...,  0,  0,  0]],\n  \n         [[39, 39, 39, ..., 39, 39, 39],\n          [39, 39, 39, ..., 39, 39, 39],\n          [39, 39, 39, ..., 39, 39, 39],\n          ...,\n          [ 0,  0,  0, ...,  0,  0,  0],\n          [ 0,  0,  0, ...,  0,  0,  0],\n          [ 0,  0,  0, ...,  0,  0,  0]],\n  \n         [[ 1,  1,  1, ...,  1,  1,  1],\n          [ 1,  1,  1, ...,  1,  1,  1],\n          [ 1,  1,  1, ...,  1,  1,  1],\n          ...,\n          [ 0,  0,  0, ...,  0,  0,  0],\n          [ 0,  0,  0, ...,  0,  0,  0],\n          [ 0,  0,  0, ...,  0,  0,  0]]]), initial_cost=2165.0, best_cost=2165.0, elapsed_time=0.3879983425140381, temperatures=[20, 17.15, 14.3, 11.450000000000001, 8.600000000000001, 5.75, 2.900000000000002], f_costs=[2165.0, 2365.0, 2479.0, 2540.8, 2265.0, 2319.8, 2236.2, 2274.0, 2374.0, 2565.0, 2265.0, 2374.0, 2365.0, 2274.0, 2256.0, 2456.0, 2365.0, 2416.6, 2565.0], initial_solutions_resets=0, operator_quality_measurement=[OperatorQuality(operator_name='matrix_transposition', n_calls=6, n_acceptable_solutions=6, f_cost_improvements=0, f_cost_aggravations=0, f_cost_constants=6, operator_calls=[OperatorCallData(iteration_number=0, f_cost=2365.0, f_cost_change=0.0, run_time=0.001001596450805664), OperatorCallData(iteration_number=8, f_cost=2565.0, f_cost_change=0.0, run_time=0.0009996891021728516), OperatorCallData(iteration_number=11, f_cost=2365.0, f_cost_change=0.0, run_time=0.0019991397857666016), OperatorCallData(iteration_number=14, f_cost=2456.0, f_cost_change=0.0, run_time=0.0009987354278564453), OperatorCallData(iteration_number=15, f_cost=2365.0, f_cost_change=0.0, run_time=0.0010001659393310547), OperatorCallData(iteration_number=17, f_cost=2565.0, f_cost_change=0.0, run_time=0.0010006427764892578)]), OperatorQuality(operator_name='matrix_inner_translation', n_calls=8, n_acceptable_solutions=7, f_cost_improvements=0, f_cost_aggravations=5, f_cost_constants=2, operator_calls=[OperatorCallData(iteration_number=1, f_cost=2479.0, f_cost_change=14.0, run_time=0.0), OperatorCallData(iteration_number=3, f_cost=2265.0, f_cost_change=0.0, run_time=0.0), OperatorCallData(iteration_number=6, f_cost=2274.0, f_cost_change=9.0, run_time=0.0010001659393310547), OperatorCallData(iteration_number=7, f_cost=2374.0, f_cost_change=9.0, run_time=0.0), OperatorCallData(iteration_number=9, f_cost=2265.0, f_cost_change=0.0, run_time=0.0010018348693847656), OperatorCallData(iteration_number=10, f_cost=2374.0, f_cost_change=9.0, run_time=0.0), OperatorCallData(iteration_number=12, f_cost=2274.0, f_cost_change=9.0, run_time=0.0010013580322265625)]), OperatorQuality(operator_name='matrix_cut_and_paste_translation', n_calls=16, n_acceptable_solutions=5, f_cost_improvements=2, f_cost_aggravations=3, f_cost_constants=0, operator_calls=[OperatorCallData(iteration_number=2, f_cost=2540.8, f_cost_change=61.80000000000018, run_time=0.002001523971557617), OperatorCallData(iteration_number=4, f_cost=2319.8, f_cost_change=54.80000000000018, run_time=0.0020003318786621094), OperatorCallData(iteration_number=5, f_cost=2236.2, f_cost_change=-28.800000000000182, run_time=0.0010013580322265625), OperatorCallData(iteration_number=13, f_cost=2256.0, f_cost_change=-18.0, run_time=0.00099945068359375), OperatorCallData(iteration_number=16, f_cost=2416.6, f_cost_change=51.59999999999991, run_time=0.0010025501251220703)])])],\n (20,\n  5,\n  3,\n  0.99): [StatisticalResults(initial_solution_matrix=array([[[ 1,  1,  1, ...,  1,  1,  1],\n          [ 1,  1,  1, ...,  1,  1,  1],\n          [ 1,  1,  1, ...,  1,  1,  1],\n          ...,\n          [ 0,  0,  0, ...,  0,  0,  0],\n          [ 0,  0,  0, ...,  0,  0,  0],\n          [ 0,  0,  0, ...,  0,  0,  0]],\n  \n         [[78, 78, 78, ..., 78, 78, 78],\n          [78, 78, 78, ..., 78, 78, 78],\n          [78, 78, 78, ..., 78, 78, 78],\n          ...,\n          [ 0,  0,  0, ...,  0,  0,  0],\n          [ 0,  0,  0, ...,  0,  0,  0],\n          [ 0,  0,  0, ...,  0,  0,  0]],\n  \n         [[67, 67, 67, ..., 67, 67, 67],\n          [67, 67, 67, ..., 67, 67, 67],\n          [67, 67, 67, ..., 67, 67, 67],\n          ...,\n          [ 0,  0,  0, ...,  0,  0,  0],\n          [ 0,  0,  0, ...,  0,  0,  0],\n          [ 0,  0,  0, ...,  0,  0,  0]],\n  \n         [[89, 89, 89, ..., 89, 89, 89],\n          [89, 89, 89, ..., 89, 89, 89],\n          [89, 89, 89, ..., 89, 89, 89],\n          ...,\n          [ 0, 80,  0, ...,  0,  0,  0],\n          [ 0,  0,  0, ...,  0,  0,  0],\n          [ 0,  0,  0, ...,  0,  0,  0]],\n  \n         [[56, 56, 56, ..., 56, 56, 56],\n          [56, 56, 56, ..., 56, 56, 56],\n          [56, 56, 56, ..., 56, 56, 56],\n          ...,\n          [ 0,  0,  0, ...,  0,  0,  0],\n          [ 0,  0,  0, ...,  0,  0,  0],\n          [ 0,  0,  0, ...,  0,  0,  0]]]), best_solution_matrix=array([[[ 1,  1,  1, ...,  1,  1,  1],\n          [ 1,  1,  1, ...,  1,  1,  1],\n          [ 1,  1,  1, ...,  1,  1,  1],\n          ...,\n          [ 0,  0,  0, ...,  0,  0,  0],\n          [ 0,  0,  0, ...,  0,  0,  0],\n          [ 0,  0,  0, ...,  0,  0,  0]],\n  \n         [[78, 78, 78, ..., 78, 78, 78],\n          [78, 78, 78, ..., 78, 78, 78],\n          [78, 78, 78, ..., 78, 78, 78],\n          ...,\n          [ 0,  0,  0, ...,  0,  0,  0],\n          [ 0,  0,  0, ...,  0,  0,  0],\n          [ 0,  0,  0, ...,  0,  0,  0]],\n  \n         [[67, 67, 67, ..., 67, 67, 67],\n          [67, 67, 67, ..., 67, 67, 67],\n          [67, 67, 67, ..., 67, 67, 67],\n          ...,\n          [ 0,  0,  0, ...,  0,  0,  0],\n          [ 0,  0,  0, ...,  0,  0,  0],\n          [ 0,  0,  0, ...,  0,  0,  0]],\n  \n         [[89, 89, 89, ..., 89, 89, 89],\n          [89, 89, 89, ..., 89, 89, 89],\n          [89, 89, 89, ..., 89, 89, 89],\n          ...,\n          [ 0, 80,  0, ...,  0,  0,  0],\n          [ 0,  0,  0, ...,  0,  0,  0],\n          [ 0,  0,  0, ...,  0,  0,  0]],\n  \n         [[56, 56, 56, ..., 56, 56, 56],\n          [56, 56, 56, ..., 56, 56, 56],\n          [56, 56, 56, ..., 56, 56, 56],\n          ...,\n          [ 0,  0,  0, ...,  0,  0,  0],\n          [ 0,  0,  0, ...,  0,  0,  0],\n          [ 0,  0,  0, ...,  0,  0,  0]]]), initial_cost=2139.0, best_cost=2139.0, elapsed_time=0.4089992046356201, temperatures=[20, 17.03, 14.06, 11.09, 8.120000000000001, 5.15, 2.1799999999999997], f_costs=[2139.0, 2248.0, 2243.2, 2243.2, 2248.0, 2348.0, 2381.2, 2139.0, 2139.0, 2339.0, 2163.0, 2239.0, 2339.0, 2157.0, 2248.0, 2348.0, 2239.0, 2348.0, 2383.0], initial_solutions_resets=0, operator_quality_measurement=[OperatorQuality(operator_name='matrix_transposition', n_calls=4, n_acceptable_solutions=4, f_cost_improvements=0, f_cost_aggravations=0, f_cost_constants=4, operator_calls=[OperatorCallData(iteration_number=2, f_cost=2243.2, f_cost_change=0.0, run_time=0.0020017623901367188), OperatorCallData(iteration_number=6, f_cost=2139.0, f_cost_change=0.0, run_time=0.0020003318786621094), OperatorCallData(iteration_number=7, f_cost=2139.0, f_cost_change=0.0, run_time=0.0020003318786621094), OperatorCallData(iteration_number=8, f_cost=2339.0, f_cost_change=0.0, run_time=0.001001119613647461)]), OperatorQuality(operator_name='matrix_inner_translation', n_calls=12, n_acceptable_solutions=9, f_cost_improvements=0, f_cost_aggravations=5, f_cost_constants=4, operator_calls=[OperatorCallData(iteration_number=0, f_cost=2248.0, f_cost_change=9.0, run_time=0.0009989738464355469), OperatorCallData(iteration_number=3, f_cost=2248.0, f_cost_change=9.0, run_time=0.0009989738464355469), OperatorCallData(iteration_number=4, f_cost=2348.0, f_cost_change=0.0, run_time=0.0010006427764892578), OperatorCallData(iteration_number=10, f_cost=2239.0, f_cost_change=0.0, run_time=0.0010001659393310547), OperatorCallData(iteration_number=11, f_cost=2339.0, f_cost_change=0.0, run_time=0.0009982585906982422), OperatorCallData(iteration_number=13, f_cost=2248.0, f_cost_change=9.0, run_time=0.0010001659393310547), OperatorCallData(iteration_number=14, f_cost=2348.0, f_cost_change=9.0, run_time=0.0009999275207519531), OperatorCallData(iteration_number=15, f_cost=2239.0, f_cost_change=0.0, run_time=0.0009996891021728516), OperatorCallData(iteration_number=16, f_cost=2348.0, f_cost_change=9.0, run_time=0.0)]), OperatorQuality(operator_name='matrix_cut_and_paste_translation', n_calls=11, n_acceptable_solutions=5, f_cost_improvements=1, f_cost_aggravations=4, f_cost_constants=0, operator_calls=[OperatorCallData(iteration_number=1, f_cost=2243.2, f_cost_change=-4.800000000000182, run_time=0.0019996166229248047), OperatorCallData(iteration_number=5, f_cost=2381.2, f_cost_change=33.19999999999982, run_time=0.0010004043579101562), OperatorCallData(iteration_number=9, f_cost=2163.0, f_cost_change=24.0, run_time=0.0009999275207519531), OperatorCallData(iteration_number=12, f_cost=2157.0, f_cost_change=18.0, run_time=0.0010001659393310547), OperatorCallData(iteration_number=17, f_cost=2383.0, f_cost_change=44.0, run_time=0.0019996166229248047)])])],\n (20,\n  5,\n  5,\n  0.9): [StatisticalResults(initial_solution_matrix=array([[[78, 78, 78, ..., 78, 78, 78],\n          [78, 78, 78, ..., 78, 78, 78],\n          [78, 78, 78, ..., 78, 78, 78],\n          ...,\n          [ 0,  0,  0, ...,  0,  0,  0],\n          [ 0,  0,  0, ...,  0,  0,  0],\n          [ 0,  0,  0, ...,  0,  0,  0]],\n  \n         [[39, 39, 39, ..., 39, 39, 39],\n          [39, 39, 39, ..., 39, 39, 39],\n          [39, 39, 39, ..., 39, 39, 39],\n          ...,\n          [ 0,  0,  0, ...,  0,  0,  0],\n          [ 0,  0,  0, ...,  0,  0,  0],\n          [ 0,  0,  0, ...,  0,  0,  0]],\n  \n         [[67, 67, 67, ..., 67, 67, 67],\n          [67, 67, 67, ..., 67, 67, 67],\n          [67, 67, 67, ..., 67, 67, 67],\n          ...,\n          [ 0,  0,  0, ...,  0,  0,  0],\n          [ 0,  0,  0, ...,  0,  0,  0],\n          [ 0,  0,  0, ...,  0,  0,  0]],\n  \n         [[56, 56, 56, ..., 56, 56, 56],\n          [56, 56, 56, ..., 56, 56, 56],\n          [56, 56, 56, ..., 56, 56, 56],\n          ...,\n          [ 0,  0,  0, ...,  0,  0,  0],\n          [ 0,  0,  0, ...,  0,  0,  0],\n          [ 0,  0,  0, ...,  0,  0,  0]],\n  \n         [[23, 23, 23, ..., 23, 23, 23],\n          [23, 23, 23, ..., 23, 23, 23],\n          [23, 23, 23, ..., 23, 23, 23],\n          ...,\n          [ 0,  0,  0, ...,  0,  0,  0],\n          [ 0,  0,  0, ...,  0,  0,  0],\n          [ 0,  0,  0, ...,  0,  0,  0]]]), best_solution_matrix=array([[[78, 78, 78, ..., 78, 78, 78],\n          [78, 78, 78, ..., 78, 78, 78],\n          [78, 78, 78, ..., 78, 78, 78],\n          ...,\n          [ 0,  0,  0, ...,  0,  0,  0],\n          [ 0,  0,  0, ...,  0,  0,  0],\n          [ 0,  0,  0, ...,  0,  0,  0]],\n  \n         [[39, 39, 39, ..., 39, 39, 39],\n          [39, 39, 39, ..., 39, 39, 39],\n          [39, 39, 39, ..., 39, 39, 39],\n          ...,\n          [ 0,  0,  0, ...,  0,  0,  0],\n          [ 0,  0,  0, ...,  0,  0,  0],\n          [ 0,  0,  0, ...,  0,  0,  0]],\n  \n         [[67, 67, 67, ..., 67, 67, 67],\n          [67, 67, 67, ..., 67, 67, 67],\n          [67, 67, 67, ..., 67, 67, 67],\n          ...,\n          [ 0,  0,  0, ...,  0,  0,  0],\n          [ 0,  0,  0, ...,  0,  0,  0],\n          [ 0,  0,  0, ...,  0,  0,  0]],\n  \n         [[56, 56, 56, ..., 56, 56, 56],\n          [56, 56, 56, ..., 56, 56, 56],\n          [56, 56, 56, ..., 56, 56, 56],\n          ...,\n          [ 0,  0,  0, ...,  0,  0,  0],\n          [ 0,  0,  0, ...,  0,  0,  0],\n          [ 0,  0,  0, ...,  0,  0,  0]],\n  \n         [[23, 23, 23, ..., 23, 23, 23],\n          [23, 23, 23, ..., 23, 23, 23],\n          [23, 23, 23, ..., 23, 23, 23],\n          ...,\n          [ 0,  0,  0, ...,  0,  0,  0],\n          [ 0,  0,  0, ...,  0,  0,  0],\n          [ 0,  0,  0, ...,  0,  0,  0]]]), initial_cost=2198.0, best_cost=2136.2, elapsed_time=0.6409974098205566, temperatures=[20, 15.5, 11.0, 6.5, 2.0], f_costs=[2198.0, 2198.0, 2201.0, 2201.0, 2201.0, 2201.0, 2298.0, 2498.0, 3199.0, 2616.0, 2698.0, 2204.2, 2267.0, 2204.2, 2165.2, 2183.2, 2136.2, 2336.2, 2339.3999999999996, 2322.0, 2322.0], initial_solutions_resets=1, operator_quality_measurement=[OperatorQuality(operator_name='matrix_transposition', n_calls=7, n_acceptable_solutions=7, f_cost_improvements=0, f_cost_aggravations=0, f_cost_constants=7, operator_calls=[OperatorCallData(iteration_number=2, f_cost=2201.0, f_cost_change=0.0, run_time=0.0020020008087158203), OperatorCallData(iteration_number=3, f_cost=2201.0, f_cost_change=0.0, run_time=0.0009999275207519531), OperatorCallData(iteration_number=4, f_cost=2201.0, f_cost_change=0.0, run_time=0.0010001659393310547), OperatorCallData(iteration_number=6, f_cost=2498.0, f_cost_change=0.0, run_time=0.0010006427764892578), OperatorCallData(iteration_number=12, f_cost=2204.2, f_cost_change=0.0, run_time=0.004003047943115234), OperatorCallData(iteration_number=16, f_cost=2336.2, f_cost_change=0.0, run_time=0.0), OperatorCallData(iteration_number=19, f_cost=2322.0, f_cost_change=0.0, run_time=0.0019996166229248047)]), OperatorQuality(operator_name='matrix_inner_translation', n_calls=6, n_acceptable_solutions=3, f_cost_improvements=0, f_cost_aggravations=1, f_cost_constants=2, operator_calls=[OperatorCallData(iteration_number=5, f_cost=2298.0, f_cost_change=0.0, run_time=0.0010008811950683594), OperatorCallData(iteration_number=7, f_cost=3199.0, f_cost_change=601.0, run_time=0.0), OperatorCallData(iteration_number=9, f_cost=2698.0, f_cost_change=0.0, run_time=0.0)]), OperatorQuality(operator_name='matrix_cut_and_paste_translation', n_calls=34, n_acceptable_solutions=10, f_cost_improvements=3, f_cost_aggravations=6, f_cost_constants=1, operator_calls=[OperatorCallData(iteration_number=0, f_cost=2198.0, f_cost_change=0.0, run_time=0.0010004043579101562), OperatorCallData(iteration_number=1, f_cost=2201.0, f_cost_change=3.0, run_time=0.0009987354278564453), OperatorCallData(iteration_number=8, f_cost=2616.0, f_cost_change=18.0, run_time=0.0010006427764892578), OperatorCallData(iteration_number=10, f_cost=2204.2, f_cost_change=6.199999999999818, run_time=0.0019998550415039062), OperatorCallData(iteration_number=11, f_cost=2267.0, f_cost_change=62.80000000000018, run_time=0.0009996891021728516), OperatorCallData(iteration_number=13, f_cost=2165.2, f_cost_change=-39.0, run_time=0.0010001659393310547), OperatorCallData(iteration_number=14, f_cost=2183.2, f_cost_change=18.0, run_time=0.0019981861114501953), OperatorCallData(iteration_number=15, f_cost=2136.2, f_cost_change=-29.0, run_time=0.0010001659393310547), OperatorCallData(iteration_number=17, f_cost=2339.3999999999996, f_cost_change=3.199999999999818, run_time=0.006999015808105469), OperatorCallData(iteration_number=18, f_cost=2322.0, f_cost_change=-14.199999999999818, run_time=0.0010004043579101562)])])],\n (20,\n  5,\n  5,\n  0.95): [StatisticalResults(initial_solution_matrix=array([[[67, 67, 67, ..., 67, 67, 67],\n          [67, 67, 67, ..., 67, 67, 67],\n          [67, 67, 67, ..., 67, 67, 67],\n          ...,\n          [ 0,  0,  0, ...,  0,  0,  0],\n          [ 0,  0,  0, ...,  0,  0,  0],\n          [ 0,  0,  0, ...,  0,  0,  0]],\n  \n         [[56, 56, 56, ..., 56, 56, 56],\n          [56, 56, 56, ..., 56, 56, 56],\n          [56, 56, 56, ..., 56, 56, 56],\n          ...,\n          [ 0,  0,  0, ...,  0,  0,  0],\n          [ 0,  0,  0, ...,  0,  0,  0],\n          [ 0,  0,  0, ...,  0,  0,  0]],\n  \n         [[12, 12, 12, ..., 12, 12, 12],\n          [12, 12, 12, ..., 12, 12, 12],\n          [12, 12, 12, ..., 12, 12, 12],\n          ...,\n          [ 0,  0,  0, ...,  0,  0,  0],\n          [ 0,  0,  0, ...,  0,  0,  0],\n          [ 0,  0,  0, ...,  0,  0,  0]],\n  \n         [[89, 89, 89, ..., 89, 89, 89],\n          [89, 89, 89, ..., 89, 89, 89],\n          [89, 89, 89, ..., 89, 89, 89],\n          ...,\n          [ 0,  0,  0, ...,  0, 10,  0],\n          [ 0,  0,  0, ...,  0, 10,  0],\n          [ 0,  0,  0, ...,  0,  0,  0]],\n  \n         [[39, 39, 39, ..., 39, 39, 39],\n          [39, 39, 39, ..., 39, 39, 39],\n          [39, 39, 39, ..., 39, 39, 39],\n          ...,\n          [ 0,  0,  0, ...,  0,  0,  0],\n          [ 0,  0,  0, ...,  0,  0,  0],\n          [ 0,  0,  0, ...,  0,  0,  0]]]), best_solution_matrix=array([[[67, 67, 67, ..., 67, 67, 67],\n          [67, 67, 67, ..., 67, 67, 67],\n          [67, 67, 67, ..., 67, 67, 67],\n          ...,\n          [ 0,  0,  0, ...,  0,  0,  0],\n          [ 0,  0,  0, ...,  0,  0,  0],\n          [ 0,  0,  0, ...,  0,  0,  0]],\n  \n         [[56, 56, 56, ..., 56, 56, 56],\n          [56, 56, 56, ..., 56, 56, 56],\n          [56, 56, 56, ..., 56, 56, 56],\n          ...,\n          [ 0,  0,  0, ...,  0,  0,  0],\n          [ 0,  0,  0, ...,  0,  0,  0],\n          [ 0,  0,  0, ...,  0,  0,  0]],\n  \n         [[12, 12, 12, ..., 12, 12, 12],\n          [12, 12, 12, ..., 12, 12, 12],\n          [12, 12, 12, ..., 12, 12, 12],\n          ...,\n          [ 0,  0,  0, ...,  0,  0,  0],\n          [ 0,  0,  0, ...,  0,  0,  0],\n          [ 0,  0,  0, ...,  0,  0,  0]],\n  \n         [[89, 89, 89, ..., 89, 89, 89],\n          [89, 89, 89, ..., 89, 89, 89],\n          [89, 89, 89, ..., 89, 89, 89],\n          ...,\n          [ 0,  0,  0, ...,  0, 10,  0],\n          [ 0,  0,  0, ...,  0, 10,  0],\n          [ 0,  0,  0, ...,  0,  0,  0]],\n  \n         [[39, 39, 39, ..., 39, 39, 39],\n          [39, 39, 39, ..., 39, 39, 39],\n          [39, 39, 39, ..., 39, 39, 39],\n          ...,\n          [ 0,  0,  0, ...,  0,  0,  0],\n          [ 0,  0,  0, ...,  0,  0,  0],\n          [ 0,  0,  0, ...,  0,  0,  0]]]), initial_cost=2266.8, best_cost=2266.8, elapsed_time=0.4479987621307373, temperatures=[20, 15.25, 10.5, 5.75, 1.0], f_costs=[2266.8, 2272.8, 2472.8, 2572.8, 2772.8, 2781.8, 2290.8, 2284.8, 2284.8, 2366.8, 2368.6, 2466.8, 2575.8, 2675.8, 2775.8, 2739.8, 2375.8, 2466.8, 2566.8, 2671.8, 2724.6], initial_solutions_resets=0, operator_quality_measurement=[OperatorQuality(operator_name='matrix_transposition', n_calls=3, n_acceptable_solutions=3, f_cost_improvements=0, f_cost_aggravations=0, f_cost_constants=3, operator_calls=[OperatorCallData(iteration_number=1, f_cost=2472.8, f_cost_change=0.0, run_time=0.0009980201721191406), OperatorCallData(iteration_number=3, f_cost=2772.8, f_cost_change=0.0, run_time=0.0009984970092773438), OperatorCallData(iteration_number=10, f_cost=2466.8, f_cost_change=0.0, run_time=0.0009999275207519531)]), OperatorQuality(operator_name='matrix_inner_translation', n_calls=15, n_acceptable_solutions=10, f_cost_improvements=0, f_cost_aggravations=6, f_cost_constants=4, operator_calls=[OperatorCallData(iteration_number=2, f_cost=2572.8, f_cost_change=0.0, run_time=0.0), OperatorCallData(iteration_number=4, f_cost=2781.8, f_cost_change=9.0, run_time=0.0009996891021728516), OperatorCallData(iteration_number=8, f_cost=2366.8, f_cost_change=0.0, run_time=0.0), OperatorCallData(iteration_number=11, f_cost=2575.8, f_cost_change=9.0, run_time=0.0010008811950683594), OperatorCallData(iteration_number=12, f_cost=2675.8, f_cost_change=9.0, run_time=0.001001119613647461), OperatorCallData(iteration_number=13, f_cost=2775.8, f_cost_change=9.0, run_time=0.0009992122650146484), OperatorCallData(iteration_number=15, f_cost=2375.8, f_cost_change=9.0, run_time=0.0), OperatorCallData(iteration_number=16, f_cost=2466.8, f_cost_change=0.0, run_time=0.0), OperatorCallData(iteration_number=17, f_cost=2566.8, f_cost_change=0.0, run_time=0.0), OperatorCallData(iteration_number=18, f_cost=2671.8, f_cost_change=5.0, run_time=0.0)]), OperatorQuality(operator_name='matrix_cut_and_paste_translation', n_calls=24, n_acceptable_solutions=7, f_cost_improvements=1, f_cost_aggravations=6, f_cost_constants=0, operator_calls=[OperatorCallData(iteration_number=0, f_cost=2272.8, f_cost_change=6.0, run_time=0.0010001659393310547), OperatorCallData(iteration_number=5, f_cost=2290.8, f_cost_change=24.0, run_time=0.002001047134399414), OperatorCallData(iteration_number=6, f_cost=2284.8, f_cost_change=18.0, run_time=0.0009992122650146484), OperatorCallData(iteration_number=7, f_cost=2284.8, f_cost_change=18.0, run_time=0.0010004043579101562), OperatorCallData(iteration_number=9, f_cost=2368.6, f_cost_change=1.7999999999997272, run_time=0.0010004043579101562), OperatorCallData(iteration_number=14, f_cost=2739.8, f_cost_change=-36.0, run_time=0.006998538970947266), OperatorCallData(iteration_number=19, f_cost=2724.6, f_cost_change=57.79999999999973, run_time=0.00700068473815918)])])],\n (20,\n  5,\n  5,\n  0.99): [StatisticalResults(initial_solution_matrix=array([[[39, 39, 39, ..., 39, 39, 39],\n          [39, 39, 39, ..., 39, 39, 39],\n          [39, 39, 39, ..., 39, 39, 39],\n          ...,\n          [ 0,  0,  0, ...,  0,  0,  0],\n          [ 0,  0,  0, ...,  0,  0,  0],\n          [ 0,  0,  0, ...,  0,  0,  0]],\n  \n         [[12, 12, 12, ..., 12, 12, 12],\n          [12, 12, 12, ..., 12, 12, 12],\n          [12, 12, 12, ..., 12, 12, 12],\n          ...,\n          [ 0,  0,  0, ...,  0,  0,  0],\n          [ 0,  0,  0, ...,  0,  0,  0],\n          [ 0,  0,  0, ...,  0,  0,  0]],\n  \n         [[56, 56, 56, ..., 56, 56, 56],\n          [56, 56, 56, ..., 56, 56, 56],\n          [56, 56, 56, ..., 56, 56, 56],\n          ...,\n          [ 0,  0,  0, ...,  0,  0,  0],\n          [ 0,  0,  0, ...,  0,  0,  0],\n          [ 0,  0,  0, ...,  0,  0,  0]],\n  \n         [[89, 89, 89, ..., 89, 89, 89],\n          [89, 89, 89, ..., 89, 89, 89],\n          [89, 89, 89, ..., 89, 89, 89],\n          ...,\n          [ 0,  0,  0, ...,  0,  0,  0],\n          [ 0,  0,  0, ...,  0,  0,  0],\n          [ 0,  0,  0, ...,  0,  0,  0]],\n  \n         [[ 1,  1,  1, ...,  1,  1,  1],\n          [ 1,  1,  1, ...,  1,  1,  1],\n          [ 1,  1,  1, ...,  1,  1,  1],\n          ...,\n          [ 0,  0,  0, ...,  0,  0,  0],\n          [ 0,  0,  0, ...,  0,  0,  0],\n          [ 0,  0,  0, ...,  0,  0,  0]]]), best_solution_matrix=array([[[39, 39, 39, ..., 39, 39, 39],\n          [39, 39, 39, ..., 39, 39, 39],\n          [39, 39, 39, ..., 39, 39, 39],\n          ...,\n          [ 0,  0,  0, ...,  0,  0,  0],\n          [ 0,  0,  0, ...,  0,  0,  0],\n          [ 0,  0,  0, ...,  0,  0,  0]],\n  \n         [[12, 12, 12, ..., 12, 12, 12],\n          [12, 12, 12, ..., 12, 12, 12],\n          [12, 12, 12, ..., 12, 12, 12],\n          ...,\n          [ 0,  0,  0, ...,  0,  0,  0],\n          [ 0,  0,  0, ...,  0,  0,  0],\n          [ 0,  0,  0, ...,  0,  0,  0]],\n  \n         [[56, 56, 56, ..., 56, 56, 56],\n          [56, 56, 56, ..., 56, 56, 56],\n          [56, 56, 56, ..., 56, 56, 56],\n          ...,\n          [ 0,  0,  0, ...,  0,  0,  0],\n          [ 0,  0,  0, ...,  0,  0,  0],\n          [ 0,  0,  0, ...,  0,  0,  0]],\n  \n         [[89, 89, 89, ..., 89, 89, 89],\n          [89, 89, 89, ..., 89, 89, 89],\n          [89, 89, 89, ..., 89, 89, 89],\n          ...,\n          [ 0,  0,  0, ...,  0,  0,  0],\n          [ 0,  0,  0, ...,  0,  0,  0],\n          [ 0,  0,  0, ...,  0,  0,  0]],\n  \n         [[ 1,  1,  1, ...,  1,  1,  1],\n          [ 1,  1,  1, ...,  1,  1,  1],\n          [ 1,  1,  1, ...,  1,  1,  1],\n          ...,\n          [ 0,  0,  0, ...,  0,  0,  0],\n          [ 0,  0,  0, ...,  0,  0,  0],\n          [ 0,  0,  0, ...,  0,  0,  0]]]), initial_cost=2131.6, best_cost=2131.6, elapsed_time=0.5150001049041748, temperatures=[20, 15.05, 10.1, 5.15, 0.1999999999999993], f_costs=[2131.6, 2331.6, 2431.6, 2464.8, 2449.6, 2531.6, 2142.4, 2342.4, 2442.4, 2505.4, 2642.4, 2175.6, 2331.6, 2331.6, 2360.6, 2385.6, 2204.4, 2331.6, 2358.6, 2531.6, 2531.6], initial_solutions_resets=0, operator_quality_measurement=[OperatorQuality(operator_name='matrix_transposition', n_calls=8, n_acceptable_solutions=8, f_cost_improvements=0, f_cost_aggravations=0, f_cost_constants=8, operator_calls=[OperatorCallData(iteration_number=0, f_cost=2331.6, f_cost_change=0.0, run_time=0.0009989738464355469), OperatorCallData(iteration_number=6, f_cost=2342.4, f_cost_change=0.0, run_time=0.0009999275207519531), OperatorCallData(iteration_number=9, f_cost=2642.4, f_cost_change=0.0, run_time=0.0010004043579101562), OperatorCallData(iteration_number=11, f_cost=2331.6, f_cost_change=0.0, run_time=0.0010013580322265625), OperatorCallData(iteration_number=12, f_cost=2331.6, f_cost_change=0.0, run_time=0.0019996166229248047), OperatorCallData(iteration_number=16, f_cost=2331.6, f_cost_change=0.0, run_time=0.0010013580322265625), OperatorCallData(iteration_number=18, f_cost=2531.6, f_cost_change=0.0, run_time=0.0009987354278564453), OperatorCallData(iteration_number=19, f_cost=2531.6, f_cost_change=0.0, run_time=0.0019998550415039062)]), OperatorQuality(operator_name='matrix_inner_translation', n_calls=4, n_acceptable_solutions=3, f_cost_improvements=0, f_cost_aggravations=0, f_cost_constants=3, operator_calls=[OperatorCallData(iteration_number=1, f_cost=2431.6, f_cost_change=0.0, run_time=0.0010008811950683594), OperatorCallData(iteration_number=4, f_cost=2531.6, f_cost_change=0.0, run_time=0.0), OperatorCallData(iteration_number=7, f_cost=2442.4, f_cost_change=0.0, run_time=0.0009996891021728516)]), OperatorQuality(operator_name='matrix_cut_and_paste_translation', n_calls=35, n_acceptable_solutions=9, f_cost_improvements=0, f_cost_aggravations=9, f_cost_constants=0, operator_calls=[OperatorCallData(iteration_number=2, f_cost=2464.8, f_cost_change=33.20000000000027, run_time=0.0020008087158203125), OperatorCallData(iteration_number=3, f_cost=2449.6, f_cost_change=18.0, run_time=0.0009989738464355469), OperatorCallData(iteration_number=5, f_cost=2142.4, f_cost_change=10.800000000000182, run_time=0.0010020732879638672), OperatorCallData(iteration_number=8, f_cost=2505.4, f_cost_change=63.0, run_time=0.0019991397857666016), OperatorCallData(iteration_number=10, f_cost=2175.6, f_cost_change=44.0, run_time=0.002000570297241211), OperatorCallData(iteration_number=13, f_cost=2360.6, f_cost_change=29.0, run_time=0.0010006427764892578), OperatorCallData(iteration_number=14, f_cost=2385.6, f_cost_change=54.0, run_time=0.0010004043579101562), OperatorCallData(iteration_number=15, f_cost=2204.4, f_cost_change=72.80000000000018, run_time=0.0009999275207519531), OperatorCallData(iteration_number=17, f_cost=2358.6, f_cost_change=27.0, run_time=0.00099945068359375)])])]}"
     },
     "execution_count": 15,
     "metadata": {},
     "output_type": "execute_result"
    }
   ],
   "source": [
    "results"
   ],
   "metadata": {
    "collapsed": false,
    "pycharm": {
     "name": "#%%\n"
    }
   }
  },
  {
   "cell_type": "markdown",
   "source": [
    "Rozwiązanie początkowe"
   ],
   "metadata": {
    "collapsed": false,
    "pycharm": {
     "name": "#%% md\n"
    }
   }
  },
  {
   "cell_type": "code",
   "execution_count": 16,
   "outputs": [],
   "source": [
    "initial_solutions = {}\n",
    "for parameters, result in results.items():\n",
    "    mean = sum([r.initial_cost for r in result])/len(result)\n",
    "    initial_solutions[str(parameters)] = mean\n"
   ],
   "metadata": {
    "collapsed": false,
    "pycharm": {
     "name": "#%%\n"
    }
   }
  },
  {
   "cell_type": "code",
   "execution_count": 17,
   "outputs": [],
   "source": [
    "initial_solutions_means = list(initial_solutions.values())"
   ],
   "metadata": {
    "collapsed": false,
    "pycharm": {
     "name": "#%%\n"
    }
   }
  },
  {
   "cell_type": "code",
   "execution_count": 18,
   "outputs": [
    {
     "name": "stderr",
     "output_type": "stream",
     "text": [
      "d:\\.semestr 5\\aibd\\laboratorium-6-dominik-air\\venv\\lib\\site-packages\\seaborn\\_decorators.py:36: FutureWarning: Pass the following variable as a keyword arg: x. From version 0.12, the only valid positional argument will be `data`, and passing other arguments without an explicit keyword will result in an error or misinterpretation.\n",
      "  warnings.warn(\n"
     ]
    },
    {
     "data": {
      "text/plain": "<AxesSubplot:>"
     },
     "execution_count": 18,
     "metadata": {},
     "output_type": "execute_result"
    },
    {
     "data": {
      "text/plain": "<Figure size 432x288 with 1 Axes>",
      "image/png": "[encoded data removed]"
     },
     "metadata": {
      "needs_background": "light"
     },
     "output_type": "display_data"
    }
   ],
   "source": [
    "import seaborn as sns\n",
    "\n",
    "sns.boxplot(initial_solutions_means)"
   ],
   "metadata": {
    "collapsed": false,
    "pycharm": {
     "name": "#%%\n"
    }
   }
  },
  {
   "cell_type": "code",
   "execution_count": 19,
   "outputs": [
    {
     "data": {
      "text/plain": "<AxesSubplot:ylabel='Count'>"
     },
     "execution_count": 19,
     "metadata": {},
     "output_type": "execute_result"
    },
    {
     "data": {
      "text/plain": "<Figure size 432x288 with 1 Axes>",
      "image/png": "[encoded data removed]"
     },
     "metadata": {
      "needs_background": "light"
     },
     "output_type": "display_data"
    }
   ],
   "source": [
    "sns.histplot(initial_solutions_means)"
   ],
   "metadata": {
    "collapsed": false,
    "pycharm": {
     "name": "#%%\n"
    }
   }
  },
  {
   "cell_type": "markdown",
   "source": [
    "Rozwiązanie końcowe(najlepsze)"
   ],
   "metadata": {
    "collapsed": false,
    "pycharm": {
     "name": "#%% md\n"
    }
   }
  },
  {
   "cell_type": "code",
   "execution_count": 20,
   "outputs": [],
   "source": [
    "final_solutions = {}\n",
    "best_parameters = None\n",
    "best_cost = 0\n",
    "for parameters, result in results.items():\n",
    "    mean = sum([r.best_cost for r in result])/len(result)\n",
    "    if best_parameters is None or best_cost > mean:\n",
    "        best_cost = mean\n",
    "        best_parameters = str(parameters)\n",
    "    final_solutions[str(parameters)] = mean"
   ],
   "metadata": {
    "collapsed": false,
    "pycharm": {
     "name": "#%%\n"
    }
   }
  },
  {
   "cell_type": "code",
   "source": [
    "print(best_parameters)\n",
    "print(best_cost)"
   ],
   "metadata": {
    "collapsed": false,
    "pycharm": {
     "name": "#%%\n"
    }
   },
   "execution_count": null,
   "outputs": []
  },
  {
   "cell_type": "code",
   "execution_count": 21,
   "outputs": [
    {
     "name": "stdout",
     "output_type": "stream",
     "text": [
      "(20, 5, 1, 0.95) 2052.4\n",
      "(20, 5, 5, 0.99) 2131.6\n",
      "(20, 5, 5, 0.9) 2136.2\n",
      "(20, 5, 3, 0.99) 2139.0\n",
      "(20, 5, 3, 0.95) 2165.0\n",
      "(20, 5, 1, 0.99) 2248.2\n",
      "(20, 5, 1, 0.9) 2264.8\n",
      "(20, 5, 5, 0.95) 2266.8\n",
      "(20, 5, 3, 0.9) 2430.0\n"
     ]
    }
   ],
   "source": [
    "def sort_results(x):\n",
    "    return {k: v for k, v in sorted(x.items(), key=lambda item: item[1])}\n",
    "\n",
    "for k, v in sort_results(final_solutions).items():\n",
    "    print(k, v)"
   ],
   "metadata": {
    "collapsed": false,
    "pycharm": {
     "name": "#%%\n"
    }
   }
  },
  {
   "cell_type": "markdown",
   "source": [
    "save to json"
   ],
   "metadata": {
    "collapsed": false,
    "pycharm": {
     "name": "#%% md\n"
    }
   }
  },
  {
   "cell_type": "code",
   "execution_count": 22,
   "outputs": [],
   "source": [
    "json_data = {str(parameters): [r.to_json() for r in result] for parameters, result in results.items()}"
   ],
   "metadata": {
    "collapsed": false,
    "pycharm": {
     "name": "#%%\n"
    }
   }
  },
  {
   "cell_type": "code",
   "execution_count": 23,
   "outputs": [],
   "source": [
    "import json\n",
    "with open('statistics/linear_cooling_schedule.json', 'w') as f:\n",
    "    json.dump(json_data, f, indent=4)"
   ],
   "metadata": {
    "collapsed": false,
    "pycharm": {
     "name": "#%%\n"
    }
   }
  },
  {
   "cell_type": "code",
   "execution_count": 23,
   "outputs": [],
   "source": [
    "# for another cooling schedule\n",
    "results, time = test_instance_creator(term_id=5, availability_p=0.7, cooling_schedule=timetable_scheduler.simulated_annealing.exponential_cooling_schedule)"
   ],
   "metadata": {
    "collapsed": false,
    "pycharm": {
     "name": "#%%\n"
    }
   }
  },
  {
   "cell_type": "code",
   "execution_count": null,
   "outputs": [],
   "source": [
    "print(time)"
   ],
   "metadata": {
    "collapsed": false,
    "pycharm": {
     "name": "#%%\n"
    }
   }
  },
  {
   "cell_type": "code",
   "execution_count": null,
   "outputs": [],
   "source": [
    "json_data = {str(parameters): [r.to_json() for r in result] for parameters, result in results.items()}\n",
    "\n",
    "with open('statistics/exponential_cooling_schedule.json', 'w') as f:\n",
    "    json.dump(json_data, f, indent=4)"
   ],
   "metadata": {
    "collapsed": false,
    "pycharm": {
     "name": "#%%\n"
    }
   }
  }
 ],
 "metadata": {
  "kernelspec": {
   "display_name": "Python 3",
   "language": "python",
   "name": "python3"
  },
  "language_info": {
   "codemirror_mode": {
    "name": "ipython",
    "version": 2
   },
   "file_extension": ".py",
   "mimetype": "text/x-python",
   "name": "python",
   "nbconvert_exporter": "python",
   "pygments_lexer": "ipython2",
   "version": "2.7.6"
  }
 },
 "nbformat": 4,
 "nbformat_minor": 0
}